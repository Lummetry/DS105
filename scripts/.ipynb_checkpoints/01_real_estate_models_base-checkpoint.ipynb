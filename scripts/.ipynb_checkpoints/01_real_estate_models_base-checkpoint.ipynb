{
 "cells": [
  {
   "cell_type": "code",
   "execution_count": null,
   "id": "9c9f0291",
   "metadata": {},
   "outputs": [],
   "source": [
    "import numpy as np\n",
    "import pandas as pd\n",
    "\n",
    "import matplotlib.pyplot as plt\n",
    "%matplotlib inline\n",
    "\n",
    "from utils import set_pretty_prints, load_dataset"
   ]
  },
  {
   "cell_type": "code",
   "execution_count": null,
   "id": "16a34047",
   "metadata": {},
   "outputs": [],
   "source": [
    "np.set_printoptions(precision=5, suppress=True)"
   ]
  },
  {
   "cell_type": "code",
   "execution_count": null,
   "id": "0d3226dc",
   "metadata": {},
   "outputs": [],
   "source": [
    "df = load_dataset('imobiliare.ro')"
   ]
  },
  {
   "cell_type": "code",
   "execution_count": null,
   "id": "e4c9c906",
   "metadata": {},
   "outputs": [],
   "source": [
    "df"
   ]
  },
  {
   "cell_type": "code",
   "execution_count": null,
   "id": "fbe683b7",
   "metadata": {},
   "outputs": [],
   "source": [
    "y_sqmp = df[\"Price/Surface\"]\n",
    "y_price = df['Price']\n",
    "\n",
    "# TODO: select viable features\n",
    "START = None\n",
    "END = None\n",
    "X = df.iloc[:,START:END]\n"
   ]
  },
  {
   "cell_type": "code",
   "execution_count": null,
   "id": "e075d5a0",
   "metadata": {},
   "outputs": [],
   "source": [
    "X"
   ]
  },
  {
   "cell_type": "code",
   "execution_count": null,
   "id": "72b9f303",
   "metadata": {},
   "outputs": [],
   "source": [
    "y_price"
   ]
  },
  {
   "cell_type": "markdown",
   "id": "88f9059c",
   "metadata": {},
   "source": [
    "## Exploration"
   ]
  },
  {
   "cell_type": "code",
   "execution_count": null,
   "id": "ba33c821",
   "metadata": {},
   "outputs": [],
   "source": [
    "field = 'nr cam'\n",
    "x_label = 'Nr rooms'\n",
    "title = 'Distribution of nr of rooms per apartment'\n",
    "X[field].hist(bins=20)\n",
    "plt.xlabel(x_label)\n",
    "plt.title(title)"
   ]
  },
  {
   "cell_type": "code",
   "execution_count": null,
   "id": "25b90dca",
   "metadata": {},
   "outputs": [],
   "source": [
    "# TODO: Analyse a few more features\n",
    "field = None\n",
    "x_label = None\n",
    "title = None\n",
    "X[field].hist(bins=20)\n",
    "plt.xlabel(x_label)\n",
    "plt.title(title)"
   ]
  },
  {
   "cell_type": "code",
   "execution_count": null,
   "id": "ab0395cb",
   "metadata": {},
   "outputs": [],
   "source": [
    "# TODO: Analyse target distribution\n",
    "target = None\n",
    "title = None\n",
    "x_label = None\n",
    "plt.hist(target, bins=50)\n",
    "plt.title(title)\n",
    "plt.xlabel(x_label)"
   ]
  },
  {
   "cell_type": "code",
   "execution_count": null,
   "id": "4ac6c54c",
   "metadata": {},
   "outputs": [],
   "source": [
    "# TODO: Re-display the target distribution\n",
    "target = None\n",
    "title = None\n",
    "x_label = None\n",
    "plot_param = None\n",
    "plot_param_value = None\n",
    "kwargs = {plot_param : plot_param_value}\n",
    "plt.hist(target, bins=50, **kwargs)\n",
    "plt.title(title)\n",
    "plt.xlabel(x_label)"
   ]
  },
  {
   "cell_type": "code",
   "execution_count": 16,
   "id": "ce209002",
   "metadata": {},
   "outputs": [
    {
     "data": {
      "text/html": [
       "<div>\n",
       "<style scoped>\n",
       "    .dataframe tbody tr th:only-of-type {\n",
       "        vertical-align: middle;\n",
       "    }\n",
       "\n",
       "    .dataframe tbody tr th {\n",
       "        vertical-align: top;\n",
       "    }\n",
       "\n",
       "    .dataframe thead th {\n",
       "        text-align: right;\n",
       "    }\n",
       "</style>\n",
       "<table border=\"1\" class=\"dataframe\">\n",
       "  <thead>\n",
       "    <tr style=\"text-align: right;\">\n",
       "      <th></th>\n",
       "      <th>Unnamed: 0</th>\n",
       "      <th>nr cam</th>\n",
       "      <th>mp</th>\n",
       "      <th>parter</th>\n",
       "      <th>et1-2</th>\n",
       "      <th>et3+</th>\n",
       "      <th>etaj max</th>\n",
       "      <th>typ_decom</th>\n",
       "      <th>bloc nou</th>\n",
       "      <th>Price/Surface</th>\n",
       "      <th>Price</th>\n",
       "    </tr>\n",
       "  </thead>\n",
       "  <tbody>\n",
       "    <tr>\n",
       "      <th>Unnamed: 0</th>\n",
       "      <td>1.000000</td>\n",
       "      <td>-0.004731</td>\n",
       "      <td>-0.047943</td>\n",
       "      <td>0.032681</td>\n",
       "      <td>-0.032017</td>\n",
       "      <td>0.009105</td>\n",
       "      <td>0.005532</td>\n",
       "      <td>-0.046869</td>\n",
       "      <td>-0.156650</td>\n",
       "      <td>-0.025189</td>\n",
       "      <td>-0.048689</td>\n",
       "    </tr>\n",
       "    <tr>\n",
       "      <th>nr cam</th>\n",
       "      <td>-0.004731</td>\n",
       "      <td>1.000000</td>\n",
       "      <td>0.777186</td>\n",
       "      <td>0.003816</td>\n",
       "      <td>-0.067465</td>\n",
       "      <td>0.062328</td>\n",
       "      <td>0.073172</td>\n",
       "      <td>-0.000365</td>\n",
       "      <td>-0.139376</td>\n",
       "      <td>0.305659</td>\n",
       "      <td>0.525333</td>\n",
       "    </tr>\n",
       "    <tr>\n",
       "      <th>mp</th>\n",
       "      <td>-0.047943</td>\n",
       "      <td>0.777186</td>\n",
       "      <td>1.000000</td>\n",
       "      <td>0.000869</td>\n",
       "      <td>-0.056167</td>\n",
       "      <td>0.053421</td>\n",
       "      <td>0.065719</td>\n",
       "      <td>0.087754</td>\n",
       "      <td>0.006321</td>\n",
       "      <td>0.424620</td>\n",
       "      <td>0.770386</td>\n",
       "    </tr>\n",
       "    <tr>\n",
       "      <th>parter</th>\n",
       "      <td>0.032681</td>\n",
       "      <td>0.003816</td>\n",
       "      <td>0.000869</td>\n",
       "      <td>1.000000</td>\n",
       "      <td>-0.285501</td>\n",
       "      <td>-0.388748</td>\n",
       "      <td>-0.448826</td>\n",
       "      <td>0.004277</td>\n",
       "      <td>-0.002453</td>\n",
       "      <td>-0.022384</td>\n",
       "      <td>-0.020806</td>\n",
       "    </tr>\n",
       "    <tr>\n",
       "      <th>et1-2</th>\n",
       "      <td>-0.032017</td>\n",
       "      <td>-0.067465</td>\n",
       "      <td>-0.056167</td>\n",
       "      <td>-0.285501</td>\n",
       "      <td>1.000000</td>\n",
       "      <td>-0.772008</td>\n",
       "      <td>-0.500485</td>\n",
       "      <td>0.065535</td>\n",
       "      <td>0.187789</td>\n",
       "      <td>-0.080126</td>\n",
       "      <td>-0.061217</td>\n",
       "    </tr>\n",
       "    <tr>\n",
       "      <th>et3+</th>\n",
       "      <td>0.009105</td>\n",
       "      <td>0.062328</td>\n",
       "      <td>0.053421</td>\n",
       "      <td>-0.388748</td>\n",
       "      <td>-0.772008</td>\n",
       "      <td>1.000000</td>\n",
       "      <td>0.778814</td>\n",
       "      <td>-0.065839</td>\n",
       "      <td>-0.178905</td>\n",
       "      <td>0.091875</td>\n",
       "      <td>0.072650</td>\n",
       "    </tr>\n",
       "    <tr>\n",
       "      <th>etaj max</th>\n",
       "      <td>0.005532</td>\n",
       "      <td>0.073172</td>\n",
       "      <td>0.065719</td>\n",
       "      <td>-0.448826</td>\n",
       "      <td>-0.500485</td>\n",
       "      <td>0.778814</td>\n",
       "      <td>1.000000</td>\n",
       "      <td>-0.071077</td>\n",
       "      <td>-0.193046</td>\n",
       "      <td>0.097505</td>\n",
       "      <td>0.091064</td>\n",
       "    </tr>\n",
       "    <tr>\n",
       "      <th>typ_decom</th>\n",
       "      <td>-0.046869</td>\n",
       "      <td>-0.000365</td>\n",
       "      <td>0.087754</td>\n",
       "      <td>0.004277</td>\n",
       "      <td>0.065535</td>\n",
       "      <td>-0.065839</td>\n",
       "      <td>-0.071077</td>\n",
       "      <td>1.000000</td>\n",
       "      <td>0.213843</td>\n",
       "      <td>-0.033134</td>\n",
       "      <td>0.034928</td>\n",
       "    </tr>\n",
       "    <tr>\n",
       "      <th>bloc nou</th>\n",
       "      <td>-0.156650</td>\n",
       "      <td>-0.139376</td>\n",
       "      <td>0.006321</td>\n",
       "      <td>-0.002453</td>\n",
       "      <td>0.187789</td>\n",
       "      <td>-0.178905</td>\n",
       "      <td>-0.193046</td>\n",
       "      <td>0.213843</td>\n",
       "      <td>1.000000</td>\n",
       "      <td>0.016174</td>\n",
       "      <td>0.035021</td>\n",
       "    </tr>\n",
       "    <tr>\n",
       "      <th>Price/Surface</th>\n",
       "      <td>-0.025189</td>\n",
       "      <td>0.305659</td>\n",
       "      <td>0.424620</td>\n",
       "      <td>-0.022384</td>\n",
       "      <td>-0.080126</td>\n",
       "      <td>0.091875</td>\n",
       "      <td>0.097505</td>\n",
       "      <td>-0.033134</td>\n",
       "      <td>0.016174</td>\n",
       "      <td>1.000000</td>\n",
       "      <td>0.795742</td>\n",
       "    </tr>\n",
       "    <tr>\n",
       "      <th>Price</th>\n",
       "      <td>-0.048689</td>\n",
       "      <td>0.525333</td>\n",
       "      <td>0.770386</td>\n",
       "      <td>-0.020806</td>\n",
       "      <td>-0.061217</td>\n",
       "      <td>0.072650</td>\n",
       "      <td>0.091064</td>\n",
       "      <td>0.034928</td>\n",
       "      <td>0.035021</td>\n",
       "      <td>0.795742</td>\n",
       "      <td>1.000000</td>\n",
       "    </tr>\n",
       "  </tbody>\n",
       "</table>\n",
       "</div>"
      ],
      "text/plain": [
       "               Unnamed: 0    nr cam        mp    parter     et1-2      et3+  \\\n",
       "Unnamed: 0       1.000000 -0.004731 -0.047943  0.032681 -0.032017  0.009105   \n",
       "nr cam          -0.004731  1.000000  0.777186  0.003816 -0.067465  0.062328   \n",
       "mp              -0.047943  0.777186  1.000000  0.000869 -0.056167  0.053421   \n",
       "parter           0.032681  0.003816  0.000869  1.000000 -0.285501 -0.388748   \n",
       "et1-2           -0.032017 -0.067465 -0.056167 -0.285501  1.000000 -0.772008   \n",
       "et3+             0.009105  0.062328  0.053421 -0.388748 -0.772008  1.000000   \n",
       "etaj max         0.005532  0.073172  0.065719 -0.448826 -0.500485  0.778814   \n",
       "typ_decom       -0.046869 -0.000365  0.087754  0.004277  0.065535 -0.065839   \n",
       "bloc nou        -0.156650 -0.139376  0.006321 -0.002453  0.187789 -0.178905   \n",
       "Price/Surface   -0.025189  0.305659  0.424620 -0.022384 -0.080126  0.091875   \n",
       "Price           -0.048689  0.525333  0.770386 -0.020806 -0.061217  0.072650   \n",
       "\n",
       "               etaj max  typ_decom  bloc nou  Price/Surface     Price  \n",
       "Unnamed: 0     0.005532  -0.046869 -0.156650      -0.025189 -0.048689  \n",
       "nr cam         0.073172  -0.000365 -0.139376       0.305659  0.525333  \n",
       "mp             0.065719   0.087754  0.006321       0.424620  0.770386  \n",
       "parter        -0.448826   0.004277 -0.002453      -0.022384 -0.020806  \n",
       "et1-2         -0.500485   0.065535  0.187789      -0.080126 -0.061217  \n",
       "et3+           0.778814  -0.065839 -0.178905       0.091875  0.072650  \n",
       "etaj max       1.000000  -0.071077 -0.193046       0.097505  0.091064  \n",
       "typ_decom     -0.071077   1.000000  0.213843      -0.033134  0.034928  \n",
       "bloc nou      -0.193046   0.213843  1.000000       0.016174  0.035021  \n",
       "Price/Surface  0.097505  -0.033134  0.016174       1.000000  0.795742  \n",
       "Price          0.091064   0.034928  0.035021       0.795742  1.000000  "
      ]
     },
     "execution_count": 16,
     "metadata": {},
     "output_type": "execute_result"
    }
   ],
   "source": [
    "X.corr()"
   ]
  },
  {
   "cell_type": "code",
   "execution_count": 17,
   "id": "7c643f28",
   "metadata": {},
   "outputs": [],
   "source": [
    "new_corr_features = ['nr cam', 'mp', 'parter', 'et1-2', 'et3+','etaj max', 'typ_decom', 'bloc nou', 'Price']"
   ]
  },
  {
   "cell_type": "code",
   "execution_count": 18,
   "id": "83153d02",
   "metadata": {},
   "outputs": [],
   "source": [
    "df_new = df[new_corr_features]"
   ]
  },
  {
   "cell_type": "code",
   "execution_count": 19,
   "id": "5b913474",
   "metadata": {},
   "outputs": [
    {
     "data": {
      "text/html": [
       "<div>\n",
       "<style scoped>\n",
       "    .dataframe tbody tr th:only-of-type {\n",
       "        vertical-align: middle;\n",
       "    }\n",
       "\n",
       "    .dataframe tbody tr th {\n",
       "        vertical-align: top;\n",
       "    }\n",
       "\n",
       "    .dataframe thead th {\n",
       "        text-align: right;\n",
       "    }\n",
       "</style>\n",
       "<table border=\"1\" class=\"dataframe\">\n",
       "  <thead>\n",
       "    <tr style=\"text-align: right;\">\n",
       "      <th></th>\n",
       "      <th>nr cam</th>\n",
       "      <th>mp</th>\n",
       "      <th>parter</th>\n",
       "      <th>et1-2</th>\n",
       "      <th>et3+</th>\n",
       "      <th>etaj max</th>\n",
       "      <th>typ_decom</th>\n",
       "      <th>bloc nou</th>\n",
       "      <th>Price</th>\n",
       "    </tr>\n",
       "  </thead>\n",
       "  <tbody>\n",
       "    <tr>\n",
       "      <th>nr cam</th>\n",
       "      <td>1.000000</td>\n",
       "      <td>0.777186</td>\n",
       "      <td>0.003816</td>\n",
       "      <td>-0.067465</td>\n",
       "      <td>0.062328</td>\n",
       "      <td>0.073172</td>\n",
       "      <td>-0.000365</td>\n",
       "      <td>-0.139376</td>\n",
       "      <td>0.525333</td>\n",
       "    </tr>\n",
       "    <tr>\n",
       "      <th>mp</th>\n",
       "      <td>0.777186</td>\n",
       "      <td>1.000000</td>\n",
       "      <td>0.000869</td>\n",
       "      <td>-0.056167</td>\n",
       "      <td>0.053421</td>\n",
       "      <td>0.065719</td>\n",
       "      <td>0.087754</td>\n",
       "      <td>0.006321</td>\n",
       "      <td>0.770386</td>\n",
       "    </tr>\n",
       "    <tr>\n",
       "      <th>parter</th>\n",
       "      <td>0.003816</td>\n",
       "      <td>0.000869</td>\n",
       "      <td>1.000000</td>\n",
       "      <td>-0.285501</td>\n",
       "      <td>-0.388748</td>\n",
       "      <td>-0.448826</td>\n",
       "      <td>0.004277</td>\n",
       "      <td>-0.002453</td>\n",
       "      <td>-0.020806</td>\n",
       "    </tr>\n",
       "    <tr>\n",
       "      <th>et1-2</th>\n",
       "      <td>-0.067465</td>\n",
       "      <td>-0.056167</td>\n",
       "      <td>-0.285501</td>\n",
       "      <td>1.000000</td>\n",
       "      <td>-0.772008</td>\n",
       "      <td>-0.500485</td>\n",
       "      <td>0.065535</td>\n",
       "      <td>0.187789</td>\n",
       "      <td>-0.061217</td>\n",
       "    </tr>\n",
       "    <tr>\n",
       "      <th>et3+</th>\n",
       "      <td>0.062328</td>\n",
       "      <td>0.053421</td>\n",
       "      <td>-0.388748</td>\n",
       "      <td>-0.772008</td>\n",
       "      <td>1.000000</td>\n",
       "      <td>0.778814</td>\n",
       "      <td>-0.065839</td>\n",
       "      <td>-0.178905</td>\n",
       "      <td>0.072650</td>\n",
       "    </tr>\n",
       "    <tr>\n",
       "      <th>etaj max</th>\n",
       "      <td>0.073172</td>\n",
       "      <td>0.065719</td>\n",
       "      <td>-0.448826</td>\n",
       "      <td>-0.500485</td>\n",
       "      <td>0.778814</td>\n",
       "      <td>1.000000</td>\n",
       "      <td>-0.071077</td>\n",
       "      <td>-0.193046</td>\n",
       "      <td>0.091064</td>\n",
       "    </tr>\n",
       "    <tr>\n",
       "      <th>typ_decom</th>\n",
       "      <td>-0.000365</td>\n",
       "      <td>0.087754</td>\n",
       "      <td>0.004277</td>\n",
       "      <td>0.065535</td>\n",
       "      <td>-0.065839</td>\n",
       "      <td>-0.071077</td>\n",
       "      <td>1.000000</td>\n",
       "      <td>0.213843</td>\n",
       "      <td>0.034928</td>\n",
       "    </tr>\n",
       "    <tr>\n",
       "      <th>bloc nou</th>\n",
       "      <td>-0.139376</td>\n",
       "      <td>0.006321</td>\n",
       "      <td>-0.002453</td>\n",
       "      <td>0.187789</td>\n",
       "      <td>-0.178905</td>\n",
       "      <td>-0.193046</td>\n",
       "      <td>0.213843</td>\n",
       "      <td>1.000000</td>\n",
       "      <td>0.035021</td>\n",
       "    </tr>\n",
       "    <tr>\n",
       "      <th>Price</th>\n",
       "      <td>0.525333</td>\n",
       "      <td>0.770386</td>\n",
       "      <td>-0.020806</td>\n",
       "      <td>-0.061217</td>\n",
       "      <td>0.072650</td>\n",
       "      <td>0.091064</td>\n",
       "      <td>0.034928</td>\n",
       "      <td>0.035021</td>\n",
       "      <td>1.000000</td>\n",
       "    </tr>\n",
       "  </tbody>\n",
       "</table>\n",
       "</div>"
      ],
      "text/plain": [
       "             nr cam        mp    parter     et1-2      et3+  etaj max  \\\n",
       "nr cam     1.000000  0.777186  0.003816 -0.067465  0.062328  0.073172   \n",
       "mp         0.777186  1.000000  0.000869 -0.056167  0.053421  0.065719   \n",
       "parter     0.003816  0.000869  1.000000 -0.285501 -0.388748 -0.448826   \n",
       "et1-2     -0.067465 -0.056167 -0.285501  1.000000 -0.772008 -0.500485   \n",
       "et3+       0.062328  0.053421 -0.388748 -0.772008  1.000000  0.778814   \n",
       "etaj max   0.073172  0.065719 -0.448826 -0.500485  0.778814  1.000000   \n",
       "typ_decom -0.000365  0.087754  0.004277  0.065535 -0.065839 -0.071077   \n",
       "bloc nou  -0.139376  0.006321 -0.002453  0.187789 -0.178905 -0.193046   \n",
       "Price      0.525333  0.770386 -0.020806 -0.061217  0.072650  0.091064   \n",
       "\n",
       "           typ_decom  bloc nou     Price  \n",
       "nr cam     -0.000365 -0.139376  0.525333  \n",
       "mp          0.087754  0.006321  0.770386  \n",
       "parter      0.004277 -0.002453 -0.020806  \n",
       "et1-2       0.065535  0.187789 -0.061217  \n",
       "et3+       -0.065839 -0.178905  0.072650  \n",
       "etaj max   -0.071077 -0.193046  0.091064  \n",
       "typ_decom   1.000000  0.213843  0.034928  \n",
       "bloc nou    0.213843  1.000000  0.035021  \n",
       "Price       0.034928  0.035021  1.000000  "
      ]
     },
     "execution_count": 19,
     "metadata": {},
     "output_type": "execute_result"
    }
   ],
   "source": [
    "df_new.corr()"
   ]
  },
  {
   "cell_type": "markdown",
   "id": "1e720103",
   "metadata": {},
   "source": [
    "## Modelling\n",
    "- further process X data maybe\n",
    "- construct normal eq and determine model coefs `(((XtX)^-1)Xt)y (y = x*w => w = y/x)`\n",
    "- validate results (how, when)\n",
    "\n",
    "`f(X) = y = X[0]*w[0] + X[1]*w[1] + .... X[N]*w[N] +X[N+1]*w[N+1] | X[N+1] == 1`"
   ]
  },
  {
   "cell_type": "code",
   "execution_count": null,
   "id": "23c164ac",
   "metadata": {},
   "outputs": [],
   "source": [
    "X.mean()"
   ]
  },
  {
   "cell_type": "code",
   "execution_count": null,
   "id": "d544883f",
   "metadata": {},
   "outputs": [],
   "source": [
    "X.min()"
   ]
  },
  {
   "cell_type": "code",
   "execution_count": null,
   "id": "4e899d03",
   "metadata": {},
   "outputs": [],
   "source": [
    "X.std()"
   ]
  },
  {
   "cell_type": "code",
   "execution_count": null,
   "id": "da7811fd",
   "metadata": {},
   "outputs": [],
   "source": [
    "X.max()"
   ]
  },
  {
   "cell_type": "code",
   "execution_count": null,
   "id": "2ff21113",
   "metadata": {},
   "outputs": [],
   "source": [
    "np_X = X.values"
   ]
  },
  {
   "cell_type": "code",
   "execution_count": null,
   "id": "92788300",
   "metadata": {},
   "outputs": [],
   "source": [
    "np_X"
   ]
  },
  {
   "cell_type": "code",
   "execution_count": null,
   "id": "8a1affd5",
   "metadata": {},
   "outputs": [],
   "source": [
    "np_X.mean(axis=0)"
   ]
  },
  {
   "cell_type": "code",
   "execution_count": null,
   "id": "f0b01063",
   "metadata": {},
   "outputs": [],
   "source": [
    "np_X_n = (np_X - np_X.mean(0)) / np_X.std(0)"
   ]
  },
  {
   "cell_type": "code",
   "execution_count": null,
   "id": "85c7087a",
   "metadata": {},
   "outputs": [],
   "source": [
    "np_X_n"
   ]
  },
  {
   "cell_type": "code",
   "execution_count": null,
   "id": "e045e61c",
   "metadata": {},
   "outputs": [],
   "source": [
    "np_y = y_price.values\n",
    "np_y_n = (np_y - np_y.min()) / (np_y.max() - np_y.min())\n",
    "np_y_n"
   ]
  },
  {
   "cell_type": "code",
   "execution_count": null,
   "id": "be241ae2",
   "metadata": {},
   "outputs": [],
   "source": [
    "np_y.min()\n"
   ]
  },
  {
   "cell_type": "code",
   "execution_count": null,
   "id": "af98e5ba",
   "metadata": {},
   "outputs": [],
   "source": [
    "np_y.max()"
   ]
  },
  {
   "cell_type": "code",
   "execution_count": null,
   "id": "fa676245",
   "metadata": {},
   "outputs": [],
   "source": [
    "y_norm_sub = np_y.min()\n",
    "y_norm_div = np_y.max() - np_y.min()"
   ]
  },
  {
   "cell_type": "code",
   "execution_count": null,
   "id": "16e3b9d4",
   "metadata": {},
   "outputs": [],
   "source": [
    "# TODO: write normal eq for raw data\n",
    "np_weights = None\n",
    "\n",
    "# TODO: write normal eq for normalized data\n",
    "np_weights_n = None\n"
   ]
  },
  {
   "cell_type": "code",
   "execution_count": null,
   "id": "17612e6f",
   "metadata": {},
   "outputs": [],
   "source": [
    "np_weights"
   ]
  },
  {
   "cell_type": "code",
   "execution_count": null,
   "id": "0027f914",
   "metadata": {},
   "outputs": [],
   "source": [
    "np_weights_n"
   ]
  },
  {
   "cell_type": "code",
   "execution_count": null,
   "id": "4485a963",
   "metadata": {},
   "outputs": [],
   "source": [
    "#TODO: calc predictions for raw data model\n",
    "np_y_preds = None\n",
    "\n",
    "#TODO: calc predictions for normalized data model\n",
    "np_y_preds_n = None"
   ]
  },
  {
   "cell_type": "code",
   "execution_count": null,
   "id": "3d4795c7",
   "metadata": {},
   "outputs": [],
   "source": [
    "np_y_preds"
   ]
  },
  {
   "cell_type": "code",
   "execution_count": null,
   "id": "fa77cb75",
   "metadata": {},
   "outputs": [],
   "source": [
    "plt.figure()\n",
    "plt.hist(np_y_preds)\n",
    "plt.title('Raw model predictions')\n",
    "plt.figure()\n",
    "plt.hist(np_y_preds_n)\n",
    "plt.title('Normed data model predictions')"
   ]
  },
  {
   "cell_type": "markdown",
   "id": "a66077f6",
   "metadata": {},
   "source": [
    "### One more model before testing results\n",
    "\n",
    "Lets further improve model by adding bias"
   ]
  },
  {
   "cell_type": "code",
   "execution_count": null,
   "id": "c3a1d320",
   "metadata": {},
   "outputs": [],
   "source": [
    "ones = np.ones(shape=(np_X_n.shape[0], 1))\n",
    "ones"
   ]
  },
  {
   "cell_type": "code",
   "execution_count": null,
   "id": "20b49206",
   "metadata": {},
   "outputs": [],
   "source": [
    "np_X_nb = np.concatenate((np_X_n, ones), axis=-1)\n",
    "np_X_nb"
   ]
  },
  {
   "cell_type": "code",
   "execution_count": null,
   "id": "643c832a",
   "metadata": {},
   "outputs": [],
   "source": [
    "# TODO: calculate weights\n",
    "np_weights_nb = None\n",
    "np_weights_nb"
   ]
  },
  {
   "cell_type": "code",
   "execution_count": null,
   "id": "299903cf",
   "metadata": {},
   "outputs": [],
   "source": [
    "# TODO: calculate predictions\n",
    "np_y_preds_nb = None\n",
    "np_y_preds_nb"
   ]
  },
  {
   "cell_type": "code",
   "execution_count": null,
   "id": "5681aac7",
   "metadata": {},
   "outputs": [],
   "source": [
    "plt.hist(np_y_preds_nb, bins=50)"
   ]
  },
  {
   "cell_type": "code",
   "execution_count": null,
   "id": "ab6091bf",
   "metadata": {},
   "outputs": [],
   "source": [
    "np_y_pred_price = None\n",
    "np_y_pred_n_price = None\n",
    "np_y_pred_nb_price = None"
   ]
  },
  {
   "cell_type": "markdown",
   "id": "62b8aee9",
   "metadata": {},
   "source": [
    "### Now lets prepare some friendly calitative analysis outputs"
   ]
  },
  {
   "cell_type": "markdown",
   "id": "1186cedd",
   "metadata": {},
   "source": [
    "Raw model"
   ]
  },
  {
   "cell_type": "code",
   "execution_count": null,
   "id": "df6e7ca9",
   "metadata": {},
   "outputs": [],
   "source": [
    "df_result_raw = pd.DataFrame(\n",
    "    {\n",
    "        'GOLD' : y_price,\n",
    "        'PRED' : np_y_pred_price.round(0),\n",
    "    }\n",
    ")\n",
    "df_result_raw.head(10)\n",
    "df_result_raw.tail(10)"
   ]
  },
  {
   "cell_type": "markdown",
   "id": "1aa71201",
   "metadata": {},
   "source": [
    "Normed data model"
   ]
  },
  {
   "cell_type": "code",
   "execution_count": null,
   "id": "4ebd7d3b",
   "metadata": {},
   "outputs": [],
   "source": [
    "df_result_n = pd.DataFrame(\n",
    "    {\n",
    "        'GOLD' : y_price,\n",
    "        'PRED' : np_y_pred_n_price.round(0),\n",
    "    }\n",
    ")\n",
    "df_result_n.head(10)\n",
    "df_result_n.tail(10)"
   ]
  },
  {
   "cell_type": "markdown",
   "id": "7a2747cd",
   "metadata": {},
   "source": [
    "Normed & bias added"
   ]
  },
  {
   "cell_type": "code",
   "execution_count": null,
   "id": "ce27b9fe",
   "metadata": {
    "scrolled": true
   },
   "outputs": [],
   "source": [
    "\n",
    "df_result_nb = pd.DataFrame(\n",
    "    {\n",
    "        'GOLD' : y_price,\n",
    "        'PRED' : np_y_pred_nb_price.round(0),\n",
    "    }\n",
    ")\n",
    "df_result_nb.head(10)\n",
    "df_result_nb.head(10)"
   ]
  },
  {
   "cell_type": "markdown",
   "id": "5185db2f",
   "metadata": {},
   "source": [
    "Now lets see some quantitative analysis of the results"
   ]
  },
  {
   "cell_type": "code",
   "execution_count": null,
   "id": "8e0d15ba",
   "metadata": {},
   "outputs": [],
   "source": [
    "# TODO: complete code below\n",
    "abs_err = np.abs(y_price - None)\n",
    "abs_err"
   ]
  },
  {
   "cell_type": "code",
   "execution_count": null,
   "id": "b640f3ea",
   "metadata": {},
   "outputs": [],
   "source": [
    "proc_err = abs_err / y_price\n",
    "proc_err = proc_err * 100"
   ]
  },
  {
   "cell_type": "code",
   "execution_count": null,
   "id": "3fc83f57",
   "metadata": {},
   "outputs": [],
   "source": [
    "df_result = pd.DataFrame(\n",
    "    {\n",
    "        'GOLD' : y_price,\n",
    "        'PRED' : np_y_pred2_price.round(0),\n",
    "        'ERR%' : proc_err.round(2)\n",
    "    }\n",
    ")\n",
    "df_result.head(20)"
   ]
  },
  {
   "cell_type": "code",
   "execution_count": null,
   "id": "9c346ea1",
   "metadata": {},
   "outputs": [],
   "source": [
    "df_result.tail(20)"
   ]
  },
  {
   "cell_type": "code",
   "execution_count": null,
   "id": "6052f7fe",
   "metadata": {},
   "outputs": [],
   "source": [
    "proc_err.mean()"
   ]
  },
  {
   "cell_type": "code",
   "execution_count": null,
   "id": "2e26bdcf",
   "metadata": {},
   "outputs": [],
   "source": [
    "def train_neq(inputs, gold):\n",
    "    # TODO:\n",
    "    weights = np.linalg.pinv(inputs.T.dot(inputs)).dot(inputs.T).dot(gold)\n",
    "    return weights\n",
    "\n",
    "def evaluate(theta, inputs, gold, y_div, y_sub, name=\"\"):\n",
    "    _y_pred = inputs.dot(theta)\n",
    "    _y_vals = _y_pred * y_div + y_sub\n",
    "    \n",
    "    _y_true = gold * y_div + y_sub\n",
    "    \n",
    "    res_err = np.abs(_y_true - _y_vals)\n",
    "    prc_err = res_err / _y_true\n",
    "    \n",
    "    overall = prc_err.mean()\n",
    "    df_result = pd.DataFrame(\n",
    "        {\n",
    "        'GOLD' : _y_true,\n",
    "        'PRED' : _y_vals.round(0),\n",
    "        'ERR%' : prc_err.round(2)\n",
    "        }\n",
    "    )\n",
    "    print('Results for', name)\n",
    "    print(df_result.head(20))\n",
    "    print(df_result.tail(20))\n",
    "    print(\"Overall error: {:.1f}%\".format(overall * 100))\n",
    "    return overall"
   ]
  },
  {
   "cell_type": "code",
   "execution_count": null,
   "id": "7a1727da",
   "metadata": {},
   "outputs": [],
   "source": [
    "from sklearn.model_selection import train_test_split\n",
    "x_trn, x_tst, y_trn, y_tst = train_test_split(np_X_nb, np_y_n, test_size=0.2)"
   ]
  },
  {
   "cell_type": "code",
   "execution_count": null,
   "id": "21a6eb5c",
   "metadata": {},
   "outputs": [],
   "source": [
    "theta = train_neq(\n",
    "    inputs=x_trn,\n",
    "    gold=y_trn\n",
    ")"
   ]
  },
  {
   "cell_type": "code",
   "execution_count": null,
   "id": "873573d3",
   "metadata": {},
   "outputs": [],
   "source": [
    "theta"
   ]
  },
  {
   "cell_type": "code",
   "execution_count": null,
   "id": "1dc0f147",
   "metadata": {},
   "outputs": [],
   "source": [
    "evaluate(\n",
    "    theta=theta,\n",
    "    inputs=x_trn,\n",
    "    gold=y_trn,\n",
    "    y_div=y_norm_div,\n",
    "    y_sub=y_norm_sub,\n",
    "    name='TRAIN',\n",
    ")"
   ]
  },
  {
   "cell_type": "code",
   "execution_count": null,
   "id": "23949b5f",
   "metadata": {},
   "outputs": [],
   "source": [
    "evaluate(\n",
    "    theta=theta,\n",
    "    inputs=x_tst,\n",
    "    gold=y_tst,\n",
    "    y_div=y_norm_div,\n",
    "    y_sub=y_norm_sub,\n",
    "    name='TEST',\n",
    ")"
   ]
  }
 ],
 "metadata": {
  "kernelspec": {
   "display_name": "Python 3 (ipykernel)",
   "language": "python",
   "name": "python3"
  },
  "language_info": {
   "codemirror_mode": {
    "name": "ipython",
    "version": 3
   },
   "file_extension": ".py",
   "mimetype": "text/x-python",
   "name": "python",
   "nbconvert_exporter": "python",
   "pygments_lexer": "ipython3",
   "version": "3.8.13"
  }
 },
 "nbformat": 4,
 "nbformat_minor": 5
}
