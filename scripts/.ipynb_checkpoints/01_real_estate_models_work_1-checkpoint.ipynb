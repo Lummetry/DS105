{
 "cells": [
  {
   "cell_type": "code",
   "execution_count": 1,
   "id": "9c9f0291",
   "metadata": {},
   "outputs": [],
   "source": [
    "import numpy as np\n",
    "import pandas as pd\n",
    "\n",
    "import matplotlib.pyplot as plt\n",
    "%matplotlib inline\n",
    "\n",
    "from utils import set_pretty_prints, load_dataset"
   ]
  },
  {
   "cell_type": "code",
   "execution_count": 2,
   "id": "16a34047",
   "metadata": {},
   "outputs": [],
   "source": [
    "set_pretty_prints()"
   ]
  },
  {
   "cell_type": "code",
   "execution_count": 3,
   "id": "0d3226dc",
   "metadata": {},
   "outputs": [],
   "source": [
    "df = load_dataset('imobiliare.ro')"
   ]
  },
  {
   "cell_type": "code",
   "execution_count": 4,
   "id": "e4c9c906",
   "metadata": {},
   "outputs": [
    {
     "data": {
      "text/html": [
       "<div>\n",
       "<style scoped>\n",
       "    .dataframe tbody tr th:only-of-type {\n",
       "        vertical-align: middle;\n",
       "    }\n",
       "\n",
       "    .dataframe tbody tr th {\n",
       "        vertical-align: top;\n",
       "    }\n",
       "\n",
       "    .dataframe thead th {\n",
       "        text-align: right;\n",
       "    }\n",
       "</style>\n",
       "<table border=\"1\" class=\"dataframe\">\n",
       "  <thead>\n",
       "    <tr style=\"text-align: right;\">\n",
       "      <th></th>\n",
       "      <th>Unnamed: 0</th>\n",
       "      <th>nr cam</th>\n",
       "      <th>mp</th>\n",
       "      <th>parter</th>\n",
       "      <th>et1-2</th>\n",
       "      <th>et3+</th>\n",
       "      <th>etaj max</th>\n",
       "      <th>typ_decom</th>\n",
       "      <th>bloc nou</th>\n",
       "      <th>Price/Surface</th>\n",
       "      <th>Price</th>\n",
       "      <th>WebPage</th>\n",
       "    </tr>\n",
       "  </thead>\n",
       "  <tbody>\n",
       "    <tr>\n",
       "      <th>0</th>\n",
       "      <td>1</td>\n",
       "      <td>2</td>\n",
       "      <td>56.00</td>\n",
       "      <td>0</td>\n",
       "      <td>1</td>\n",
       "      <td>0</td>\n",
       "      <td>2</td>\n",
       "      <td>1</td>\n",
       "      <td>1</td>\n",
       "      <td>639.29</td>\n",
       "      <td>35800</td>\n",
       "      <td>https://www.imobiliare.ro/vanzare-apartamente/bucuresti/rahova/apartament-de-vanzare-2-camere-XAU700006?lista=2349706&amp;listing=1</td>\n",
       "    </tr>\n",
       "    <tr>\n",
       "      <th>1</th>\n",
       "      <td>2</td>\n",
       "      <td>2</td>\n",
       "      <td>57.00</td>\n",
       "      <td>0</td>\n",
       "      <td>1</td>\n",
       "      <td>0</td>\n",
       "      <td>2</td>\n",
       "      <td>0</td>\n",
       "      <td>1</td>\n",
       "      <td>628.07</td>\n",
       "      <td>35800</td>\n",
       "      <td>https://www.imobiliare.ro/vanzare-apartamente/bucuresti/rahova/apartament-de-vanzare-2-camere-XAG00001O?lista=2349706&amp;listing=1</td>\n",
       "    </tr>\n",
       "    <tr>\n",
       "      <th>2</th>\n",
       "      <td>3</td>\n",
       "      <td>2</td>\n",
       "      <td>67.00</td>\n",
       "      <td>0</td>\n",
       "      <td>1</td>\n",
       "      <td>0</td>\n",
       "      <td>2</td>\n",
       "      <td>1</td>\n",
       "      <td>1</td>\n",
       "      <td>591.04</td>\n",
       "      <td>39600</td>\n",
       "      <td>https://www.imobiliare.ro/vanzare-apartamente/bucuresti/rahova/apartament-de-vanzare-2-camere-XAG00001K?lista=2349706&amp;listing=1</td>\n",
       "    </tr>\n",
       "    <tr>\n",
       "      <th>3</th>\n",
       "      <td>4</td>\n",
       "      <td>1</td>\n",
       "      <td>48.00</td>\n",
       "      <td>0</td>\n",
       "      <td>1</td>\n",
       "      <td>0</td>\n",
       "      <td>2</td>\n",
       "      <td>1</td>\n",
       "      <td>1</td>\n",
       "      <td>620.83</td>\n",
       "      <td>29800</td>\n",
       "      <td>https://www.imobiliare.ro/vanzare-garsoniere/bucuresti/rahova/garsoniera-de-vanzare-XAG00001J?lista=2349706&amp;listing=1</td>\n",
       "    </tr>\n",
       "    <tr>\n",
       "      <th>4</th>\n",
       "      <td>5</td>\n",
       "      <td>3</td>\n",
       "      <td>89.60</td>\n",
       "      <td>0</td>\n",
       "      <td>0</td>\n",
       "      <td>1</td>\n",
       "      <td>3</td>\n",
       "      <td>1</td>\n",
       "      <td>1</td>\n",
       "      <td>1260.04</td>\n",
       "      <td>112900</td>\n",
       "      <td>https://www.imobiliare.ro/vanzare-apartamente/bucuresti/p-ta-presei-libere/apartament-de-vanzare-3-camere-XB0V00003?lista=2349706&amp;listing=1</td>\n",
       "    </tr>\n",
       "    <tr>\n",
       "      <th>...</th>\n",
       "      <td>...</td>\n",
       "      <td>...</td>\n",
       "      <td>...</td>\n",
       "      <td>...</td>\n",
       "      <td>...</td>\n",
       "      <td>...</td>\n",
       "      <td>...</td>\n",
       "      <td>...</td>\n",
       "      <td>...</td>\n",
       "      <td>...</td>\n",
       "      <td>...</td>\n",
       "      <td>...</td>\n",
       "    </tr>\n",
       "    <tr>\n",
       "      <th>9892</th>\n",
       "      <td>9894</td>\n",
       "      <td>4</td>\n",
       "      <td>90.00</td>\n",
       "      <td>0</td>\n",
       "      <td>0</td>\n",
       "      <td>1</td>\n",
       "      <td>8</td>\n",
       "      <td>0</td>\n",
       "      <td>0</td>\n",
       "      <td>944.44</td>\n",
       "      <td>85000</td>\n",
       "      <td>https://www.imobiliare.ro/vanzare-apartamente/bucuresti/crangasi/apartament-de-vanzare-4-camere-X5LL10023?lista=2349706&amp;listing=1</td>\n",
       "    </tr>\n",
       "    <tr>\n",
       "      <th>9893</th>\n",
       "      <td>9895</td>\n",
       "      <td>3</td>\n",
       "      <td>85.00</td>\n",
       "      <td>0</td>\n",
       "      <td>0</td>\n",
       "      <td>1</td>\n",
       "      <td>8</td>\n",
       "      <td>1</td>\n",
       "      <td>0</td>\n",
       "      <td>1588.22</td>\n",
       "      <td>134999</td>\n",
       "      <td>https://www.imobiliare.ro/vanzare-apartamente/bucuresti/central/apartament-de-vanzare-3-camere-X9I6100JP?lista=2349706&amp;listing=1</td>\n",
       "    </tr>\n",
       "    <tr>\n",
       "      <th>9894</th>\n",
       "      <td>9896</td>\n",
       "      <td>2</td>\n",
       "      <td>48.00</td>\n",
       "      <td>0</td>\n",
       "      <td>0</td>\n",
       "      <td>1</td>\n",
       "      <td>4</td>\n",
       "      <td>0</td>\n",
       "      <td>0</td>\n",
       "      <td>1229.17</td>\n",
       "      <td>59000</td>\n",
       "      <td>https://www.imobiliare.ro/vanzare-apartamente/bucuresti/apusului/apartament-de-vanzare-2-camere-XBJG000HP?lista=2349706&amp;listing=1</td>\n",
       "    </tr>\n",
       "    <tr>\n",
       "      <th>9895</th>\n",
       "      <td>9897</td>\n",
       "      <td>4</td>\n",
       "      <td>83.81</td>\n",
       "      <td>0</td>\n",
       "      <td>0</td>\n",
       "      <td>1</td>\n",
       "      <td>3</td>\n",
       "      <td>1</td>\n",
       "      <td>1</td>\n",
       "      <td>1312.49</td>\n",
       "      <td>110000</td>\n",
       "      <td>https://www.imobiliare.ro/vanzare-apartamente/bucuresti/theodor-pallady/penthouse-de-vanzare-4-camere-XANO10193?lista=2349706&amp;listing=1</td>\n",
       "    </tr>\n",
       "    <tr>\n",
       "      <th>9896</th>\n",
       "      <td>9898</td>\n",
       "      <td>1</td>\n",
       "      <td>35.00</td>\n",
       "      <td>0</td>\n",
       "      <td>0</td>\n",
       "      <td>1</td>\n",
       "      <td>4</td>\n",
       "      <td>1</td>\n",
       "      <td>1</td>\n",
       "      <td>1757.14</td>\n",
       "      <td>61500</td>\n",
       "      <td>https://www.imobiliare.ro/vanzare-garsoniere/bucuresti/politehnica/garsoniera-de-vanzare-X17L10040?lista=2349706&amp;listing=1</td>\n",
       "    </tr>\n",
       "  </tbody>\n",
       "</table>\n",
       "<p>9897 rows × 12 columns</p>\n",
       "</div>"
      ],
      "text/plain": [
       "      Unnamed: 0  nr cam     mp  parter  et1-2  et3+  etaj max  typ_decom  bloc nou  Price/Surface   Price                                                                                                                                      WebPage\n",
       "0              1       2  56.00       0      1     0         2          1         1         639.29   35800              https://www.imobiliare.ro/vanzare-apartamente/bucuresti/rahova/apartament-de-vanzare-2-camere-XAU700006?lista=2349706&listing=1\n",
       "1              2       2  57.00       0      1     0         2          0         1         628.07   35800              https://www.imobiliare.ro/vanzare-apartamente/bucuresti/rahova/apartament-de-vanzare-2-camere-XAG00001O?lista=2349706&listing=1\n",
       "2              3       2  67.00       0      1     0         2          1         1         591.04   39600              https://www.imobiliare.ro/vanzare-apartamente/bucuresti/rahova/apartament-de-vanzare-2-camere-XAG00001K?lista=2349706&listing=1\n",
       "3              4       1  48.00       0      1     0         2          1         1         620.83   29800                        https://www.imobiliare.ro/vanzare-garsoniere/bucuresti/rahova/garsoniera-de-vanzare-XAG00001J?lista=2349706&listing=1\n",
       "4              5       3  89.60       0      0     1         3          1         1        1260.04  112900  https://www.imobiliare.ro/vanzare-apartamente/bucuresti/p-ta-presei-libere/apartament-de-vanzare-3-camere-XB0V00003?lista=2349706&listing=1\n",
       "...          ...     ...    ...     ...    ...   ...       ...        ...       ...            ...     ...                                                                                                                                          ...\n",
       "9892        9894       4  90.00       0      0     1         8          0         0         944.44   85000            https://www.imobiliare.ro/vanzare-apartamente/bucuresti/crangasi/apartament-de-vanzare-4-camere-X5LL10023?lista=2349706&listing=1\n",
       "9893        9895       3  85.00       0      0     1         8          1         0        1588.22  134999             https://www.imobiliare.ro/vanzare-apartamente/bucuresti/central/apartament-de-vanzare-3-camere-X9I6100JP?lista=2349706&listing=1\n",
       "9894        9896       2  48.00       0      0     1         4          0         0        1229.17   59000            https://www.imobiliare.ro/vanzare-apartamente/bucuresti/apusului/apartament-de-vanzare-2-camere-XBJG000HP?lista=2349706&listing=1\n",
       "9895        9897       4  83.81       0      0     1         3          1         1        1312.49  110000      https://www.imobiliare.ro/vanzare-apartamente/bucuresti/theodor-pallady/penthouse-de-vanzare-4-camere-XANO10193?lista=2349706&listing=1\n",
       "9896        9898       1  35.00       0      0     1         4          1         1        1757.14   61500                   https://www.imobiliare.ro/vanzare-garsoniere/bucuresti/politehnica/garsoniera-de-vanzare-X17L10040?lista=2349706&listing=1\n",
       "\n",
       "[9897 rows x 12 columns]"
      ]
     },
     "execution_count": 4,
     "metadata": {},
     "output_type": "execute_result"
    }
   ],
   "source": [
    "df"
   ]
  },
  {
   "cell_type": "code",
   "execution_count": 5,
   "id": "fbe683b7",
   "metadata": {},
   "outputs": [],
   "source": [
    "y_sqmp = df[\"Price/Surface\"]\n",
    "y_price = df['Price']\n",
    "\n",
    "# TODO: select viable features\n",
    "START = 1\n",
    "END = 9\n",
    "X = df.iloc[:,START:END]\n"
   ]
  },
  {
   "cell_type": "code",
   "execution_count": 6,
   "id": "e075d5a0",
   "metadata": {},
   "outputs": [
    {
     "data": {
      "text/html": [
       "<div>\n",
       "<style scoped>\n",
       "    .dataframe tbody tr th:only-of-type {\n",
       "        vertical-align: middle;\n",
       "    }\n",
       "\n",
       "    .dataframe tbody tr th {\n",
       "        vertical-align: top;\n",
       "    }\n",
       "\n",
       "    .dataframe thead th {\n",
       "        text-align: right;\n",
       "    }\n",
       "</style>\n",
       "<table border=\"1\" class=\"dataframe\">\n",
       "  <thead>\n",
       "    <tr style=\"text-align: right;\">\n",
       "      <th></th>\n",
       "      <th>nr cam</th>\n",
       "      <th>mp</th>\n",
       "      <th>parter</th>\n",
       "      <th>et1-2</th>\n",
       "      <th>et3+</th>\n",
       "      <th>etaj max</th>\n",
       "      <th>typ_decom</th>\n",
       "      <th>bloc nou</th>\n",
       "    </tr>\n",
       "  </thead>\n",
       "  <tbody>\n",
       "    <tr>\n",
       "      <th>0</th>\n",
       "      <td>2</td>\n",
       "      <td>56.00</td>\n",
       "      <td>0</td>\n",
       "      <td>1</td>\n",
       "      <td>0</td>\n",
       "      <td>2</td>\n",
       "      <td>1</td>\n",
       "      <td>1</td>\n",
       "    </tr>\n",
       "    <tr>\n",
       "      <th>1</th>\n",
       "      <td>2</td>\n",
       "      <td>57.00</td>\n",
       "      <td>0</td>\n",
       "      <td>1</td>\n",
       "      <td>0</td>\n",
       "      <td>2</td>\n",
       "      <td>0</td>\n",
       "      <td>1</td>\n",
       "    </tr>\n",
       "    <tr>\n",
       "      <th>2</th>\n",
       "      <td>2</td>\n",
       "      <td>67.00</td>\n",
       "      <td>0</td>\n",
       "      <td>1</td>\n",
       "      <td>0</td>\n",
       "      <td>2</td>\n",
       "      <td>1</td>\n",
       "      <td>1</td>\n",
       "    </tr>\n",
       "    <tr>\n",
       "      <th>3</th>\n",
       "      <td>1</td>\n",
       "      <td>48.00</td>\n",
       "      <td>0</td>\n",
       "      <td>1</td>\n",
       "      <td>0</td>\n",
       "      <td>2</td>\n",
       "      <td>1</td>\n",
       "      <td>1</td>\n",
       "    </tr>\n",
       "    <tr>\n",
       "      <th>4</th>\n",
       "      <td>3</td>\n",
       "      <td>89.60</td>\n",
       "      <td>0</td>\n",
       "      <td>0</td>\n",
       "      <td>1</td>\n",
       "      <td>3</td>\n",
       "      <td>1</td>\n",
       "      <td>1</td>\n",
       "    </tr>\n",
       "    <tr>\n",
       "      <th>...</th>\n",
       "      <td>...</td>\n",
       "      <td>...</td>\n",
       "      <td>...</td>\n",
       "      <td>...</td>\n",
       "      <td>...</td>\n",
       "      <td>...</td>\n",
       "      <td>...</td>\n",
       "      <td>...</td>\n",
       "    </tr>\n",
       "    <tr>\n",
       "      <th>9892</th>\n",
       "      <td>4</td>\n",
       "      <td>90.00</td>\n",
       "      <td>0</td>\n",
       "      <td>0</td>\n",
       "      <td>1</td>\n",
       "      <td>8</td>\n",
       "      <td>0</td>\n",
       "      <td>0</td>\n",
       "    </tr>\n",
       "    <tr>\n",
       "      <th>9893</th>\n",
       "      <td>3</td>\n",
       "      <td>85.00</td>\n",
       "      <td>0</td>\n",
       "      <td>0</td>\n",
       "      <td>1</td>\n",
       "      <td>8</td>\n",
       "      <td>1</td>\n",
       "      <td>0</td>\n",
       "    </tr>\n",
       "    <tr>\n",
       "      <th>9894</th>\n",
       "      <td>2</td>\n",
       "      <td>48.00</td>\n",
       "      <td>0</td>\n",
       "      <td>0</td>\n",
       "      <td>1</td>\n",
       "      <td>4</td>\n",
       "      <td>0</td>\n",
       "      <td>0</td>\n",
       "    </tr>\n",
       "    <tr>\n",
       "      <th>9895</th>\n",
       "      <td>4</td>\n",
       "      <td>83.81</td>\n",
       "      <td>0</td>\n",
       "      <td>0</td>\n",
       "      <td>1</td>\n",
       "      <td>3</td>\n",
       "      <td>1</td>\n",
       "      <td>1</td>\n",
       "    </tr>\n",
       "    <tr>\n",
       "      <th>9896</th>\n",
       "      <td>1</td>\n",
       "      <td>35.00</td>\n",
       "      <td>0</td>\n",
       "      <td>0</td>\n",
       "      <td>1</td>\n",
       "      <td>4</td>\n",
       "      <td>1</td>\n",
       "      <td>1</td>\n",
       "    </tr>\n",
       "  </tbody>\n",
       "</table>\n",
       "<p>9897 rows × 8 columns</p>\n",
       "</div>"
      ],
      "text/plain": [
       "      nr cam     mp  parter  et1-2  et3+  etaj max  typ_decom  bloc nou\n",
       "0          2  56.00       0      1     0         2          1         1\n",
       "1          2  57.00       0      1     0         2          0         1\n",
       "2          2  67.00       0      1     0         2          1         1\n",
       "3          1  48.00       0      1     0         2          1         1\n",
       "4          3  89.60       0      0     1         3          1         1\n",
       "...      ...    ...     ...    ...   ...       ...        ...       ...\n",
       "9892       4  90.00       0      0     1         8          0         0\n",
       "9893       3  85.00       0      0     1         8          1         0\n",
       "9894       2  48.00       0      0     1         4          0         0\n",
       "9895       4  83.81       0      0     1         3          1         1\n",
       "9896       1  35.00       0      0     1         4          1         1\n",
       "\n",
       "[9897 rows x 8 columns]"
      ]
     },
     "execution_count": 6,
     "metadata": {},
     "output_type": "execute_result"
    }
   ],
   "source": [
    "X"
   ]
  },
  {
   "cell_type": "code",
   "execution_count": 7,
   "id": "72b9f303",
   "metadata": {},
   "outputs": [
    {
     "data": {
      "text/plain": [
       "0        35800\n",
       "1        35800\n",
       "2        39600\n",
       "3        29800\n",
       "4       112900\n",
       "         ...  \n",
       "9892     85000\n",
       "9893    134999\n",
       "9894     59000\n",
       "9895    110000\n",
       "9896     61500\n",
       "Name: Price, Length: 9897, dtype: int64"
      ]
     },
     "execution_count": 7,
     "metadata": {},
     "output_type": "execute_result"
    }
   ],
   "source": [
    "y_price"
   ]
  },
  {
   "cell_type": "markdown",
   "id": "d7e967ae",
   "metadata": {},
   "source": [
    "## Exploration"
   ]
  },
  {
   "cell_type": "code",
   "execution_count": 8,
   "id": "ba33c821",
   "metadata": {},
   "outputs": [
    {
     "data": {
      "text/plain": [
       "Text(0.5, 1.0, 'Distribution of nr of rooms per apartment')"
      ]
     },
     "execution_count": 8,
     "metadata": {},
     "output_type": "execute_result"
    },
    {
     "data": {
      "image/png": "[encoded data removed]",
      "text/plain": [
       "<Figure size 432x288 with 1 Axes>"
      ]
     },
     "metadata": {},
     "output_type": "display_data"
    }
   ],
   "source": [
    "field = 'nr cam'\n",
    "x_label = 'Nr rooms'\n",
    "title = 'Distribution of nr of rooms per apartment'\n",
    "X[field].hist(bins=20)\n",
    "plt.xlabel(x_label)\n",
    "plt.title(title)"
   ]
  },
  {
   "cell_type": "code",
   "execution_count": 9,
   "id": "25b90dca",
   "metadata": {},
   "outputs": [
    {
     "data": {
      "text/plain": [
       "Text(0.5, 1.0, 'Distribution of sqm per property')"
      ]
     },
     "execution_count": 9,
     "metadata": {},
     "output_type": "execute_result"
    },
    {
     "data": {
      "image/png": "[encoded data removed]",
      "text/plain": [
       "<Figure size 432x288 with 1 Axes>"
      ]
     },
     "metadata": {},
     "output_type": "display_data"
    }
   ],
   "source": [
    "# TODO: Analyse a few more features\n",
    "field = 'mp'\n",
    "x_label = 'Square meters per property'\n",
    "title = 'Distribution of sqm per property'\n",
    "X[field].hist(bins=20)\n",
    "plt.xlabel(x_label)\n",
    "plt.title(title)"
   ]
  },
  {
   "cell_type": "code",
   "execution_count": 14,
   "id": "ab0395cb",
   "metadata": {},
   "outputs": [
    {
     "data": {
      "text/plain": [
       "Text(0.5, 0, 'Price')"
      ]
     },
     "execution_count": 14,
     "metadata": {},
     "output_type": "execute_result"
    },
    {
     "data": {
      "image/png": "[encoded data removed]",
      "text/plain": [
       "<Figure size 432x288 with 1 Axes>"
      ]
     },
     "metadata": {},
     "output_type": "display_data"
    }
   ],
   "source": [
    "# TODO: Analyse target distribution\n",
    "target = y_price\n",
    "title = 'Distribution of price'\n",
    "x_label = 'Price'\n",
    "plt.hist(target, bins=50)\n",
    "plt.title(title)\n",
    "plt.xlabel(x_label)"
   ]
  },
  {
   "cell_type": "code",
   "execution_count": 15,
   "id": "5afa122f",
   "metadata": {},
   "outputs": [
    {
     "data": {
      "text/plain": [
       "Text(0.5, 0, 'Price')"
      ]
     },
     "execution_count": 15,
     "metadata": {},
     "output_type": "execute_result"
    },
    {
     "data": {
      "image/png": "[encoded data removed]",
      "text/plain": [
       "<Figure size 432x288 with 1 Axes>"
      ]
     },
     "metadata": {},
     "output_type": "display_data"
    }
   ],
   "source": [
    "# TODO: Re-display the target distribution\n",
    "target = y_price\n",
    "title = \"Distribution of price in log scale\"\n",
    "x_label = \"Price\"\n",
    "plot_param = 'log'\n",
    "plot_param_value = True\n",
    "kwargs = {plot_param : plot_param_value}\n",
    "plt.hist(target, bins=50, **kwargs)\n",
    "plt.title(title)\n",
    "plt.xlabel(x_label)"
   ]
  },
  {
   "cell_type": "code",
   "execution_count": 16,
   "id": "ce209002",
   "metadata": {},
   "outputs": [
    {
     "data": {
      "text/html": [
       "<div>\n",
       "<style scoped>\n",
       "    .dataframe tbody tr th:only-of-type {\n",
       "        vertical-align: middle;\n",
       "    }\n",
       "\n",
       "    .dataframe tbody tr th {\n",
       "        vertical-align: top;\n",
       "    }\n",
       "\n",
       "    .dataframe thead th {\n",
       "        text-align: right;\n",
       "    }\n",
       "</style>\n",
       "<table border=\"1\" class=\"dataframe\">\n",
       "  <thead>\n",
       "    <tr style=\"text-align: right;\">\n",
       "      <th></th>\n",
       "      <th>nr cam</th>\n",
       "      <th>mp</th>\n",
       "      <th>parter</th>\n",
       "      <th>et1-2</th>\n",
       "      <th>et3+</th>\n",
       "      <th>etaj max</th>\n",
       "      <th>typ_decom</th>\n",
       "      <th>bloc nou</th>\n",
       "    </tr>\n",
       "  </thead>\n",
       "  <tbody>\n",
       "    <tr>\n",
       "      <th>nr cam</th>\n",
       "      <td>1.000000</td>\n",
       "      <td>0.777186</td>\n",
       "      <td>0.003816</td>\n",
       "      <td>-0.067465</td>\n",
       "      <td>0.062328</td>\n",
       "      <td>0.073172</td>\n",
       "      <td>-0.000365</td>\n",
       "      <td>-0.139376</td>\n",
       "    </tr>\n",
       "    <tr>\n",
       "      <th>mp</th>\n",
       "      <td>0.777186</td>\n",
       "      <td>1.000000</td>\n",
       "      <td>0.000869</td>\n",
       "      <td>-0.056167</td>\n",
       "      <td>0.053421</td>\n",
       "      <td>0.065719</td>\n",
       "      <td>0.087754</td>\n",
       "      <td>0.006321</td>\n",
       "    </tr>\n",
       "    <tr>\n",
       "      <th>parter</th>\n",
       "      <td>0.003816</td>\n",
       "      <td>0.000869</td>\n",
       "      <td>1.000000</td>\n",
       "      <td>-0.285501</td>\n",
       "      <td>-0.388748</td>\n",
       "      <td>-0.448826</td>\n",
       "      <td>0.004277</td>\n",
       "      <td>-0.002453</td>\n",
       "    </tr>\n",
       "    <tr>\n",
       "      <th>et1-2</th>\n",
       "      <td>-0.067465</td>\n",
       "      <td>-0.056167</td>\n",
       "      <td>-0.285501</td>\n",
       "      <td>1.000000</td>\n",
       "      <td>-0.772008</td>\n",
       "      <td>-0.500485</td>\n",
       "      <td>0.065535</td>\n",
       "      <td>0.187789</td>\n",
       "    </tr>\n",
       "    <tr>\n",
       "      <th>et3+</th>\n",
       "      <td>0.062328</td>\n",
       "      <td>0.053421</td>\n",
       "      <td>-0.388748</td>\n",
       "      <td>-0.772008</td>\n",
       "      <td>1.000000</td>\n",
       "      <td>0.778814</td>\n",
       "      <td>-0.065839</td>\n",
       "      <td>-0.178905</td>\n",
       "    </tr>\n",
       "    <tr>\n",
       "      <th>etaj max</th>\n",
       "      <td>0.073172</td>\n",
       "      <td>0.065719</td>\n",
       "      <td>-0.448826</td>\n",
       "      <td>-0.500485</td>\n",
       "      <td>0.778814</td>\n",
       "      <td>1.000000</td>\n",
       "      <td>-0.071077</td>\n",
       "      <td>-0.193046</td>\n",
       "    </tr>\n",
       "    <tr>\n",
       "      <th>typ_decom</th>\n",
       "      <td>-0.000365</td>\n",
       "      <td>0.087754</td>\n",
       "      <td>0.004277</td>\n",
       "      <td>0.065535</td>\n",
       "      <td>-0.065839</td>\n",
       "      <td>-0.071077</td>\n",
       "      <td>1.000000</td>\n",
       "      <td>0.213843</td>\n",
       "    </tr>\n",
       "    <tr>\n",
       "      <th>bloc nou</th>\n",
       "      <td>-0.139376</td>\n",
       "      <td>0.006321</td>\n",
       "      <td>-0.002453</td>\n",
       "      <td>0.187789</td>\n",
       "      <td>-0.178905</td>\n",
       "      <td>-0.193046</td>\n",
       "      <td>0.213843</td>\n",
       "      <td>1.000000</td>\n",
       "    </tr>\n",
       "  </tbody>\n",
       "</table>\n",
       "</div>"
      ],
      "text/plain": [
       "             nr cam        mp    parter     et1-2      et3+  etaj max  typ_decom  bloc nou\n",
       "nr cam     1.000000  0.777186  0.003816 -0.067465  0.062328  0.073172  -0.000365 -0.139376\n",
       "mp         0.777186  1.000000  0.000869 -0.056167  0.053421  0.065719   0.087754  0.006321\n",
       "parter     0.003816  0.000869  1.000000 -0.285501 -0.388748 -0.448826   0.004277 -0.002453\n",
       "et1-2     -0.067465 -0.056167 -0.285501  1.000000 -0.772008 -0.500485   0.065535  0.187789\n",
       "et3+       0.062328  0.053421 -0.388748 -0.772008  1.000000  0.778814  -0.065839 -0.178905\n",
       "etaj max   0.073172  0.065719 -0.448826 -0.500485  0.778814  1.000000  -0.071077 -0.193046\n",
       "typ_decom -0.000365  0.087754  0.004277  0.065535 -0.065839 -0.071077   1.000000  0.213843\n",
       "bloc nou  -0.139376  0.006321 -0.002453  0.187789 -0.178905 -0.193046   0.213843  1.000000"
      ]
     },
     "execution_count": 16,
     "metadata": {},
     "output_type": "execute_result"
    }
   ],
   "source": [
    "X.corr()"
   ]
  },
  {
   "cell_type": "code",
   "execution_count": 17,
   "id": "7c643f28",
   "metadata": {},
   "outputs": [],
   "source": [
    "new_corr_features = ['nr cam', 'mp', 'parter', 'et1-2', 'et3+','etaj max', 'typ_decom', 'bloc nou', 'Price']"
   ]
  },
  {
   "cell_type": "code",
   "execution_count": 18,
   "id": "83153d02",
   "metadata": {},
   "outputs": [],
   "source": [
    "df_new = df[new_corr_features]"
   ]
  },
  {
   "cell_type": "code",
   "execution_count": 19,
   "id": "5b913474",
   "metadata": {},
   "outputs": [
    {
     "data": {
      "text/html": [
       "<div>\n",
       "<style scoped>\n",
       "    .dataframe tbody tr th:only-of-type {\n",
       "        vertical-align: middle;\n",
       "    }\n",
       "\n",
       "    .dataframe tbody tr th {\n",
       "        vertical-align: top;\n",
       "    }\n",
       "\n",
       "    .dataframe thead th {\n",
       "        text-align: right;\n",
       "    }\n",
       "</style>\n",
       "<table border=\"1\" class=\"dataframe\">\n",
       "  <thead>\n",
       "    <tr style=\"text-align: right;\">\n",
       "      <th></th>\n",
       "      <th>nr cam</th>\n",
       "      <th>mp</th>\n",
       "      <th>parter</th>\n",
       "      <th>et1-2</th>\n",
       "      <th>et3+</th>\n",
       "      <th>etaj max</th>\n",
       "      <th>typ_decom</th>\n",
       "      <th>bloc nou</th>\n",
       "      <th>Price</th>\n",
       "    </tr>\n",
       "  </thead>\n",
       "  <tbody>\n",
       "    <tr>\n",
       "      <th>nr cam</th>\n",
       "      <td>1.000000</td>\n",
       "      <td>0.777186</td>\n",
       "      <td>0.003816</td>\n",
       "      <td>-0.067465</td>\n",
       "      <td>0.062328</td>\n",
       "      <td>0.073172</td>\n",
       "      <td>-0.000365</td>\n",
       "      <td>-0.139376</td>\n",
       "      <td>0.525333</td>\n",
       "    </tr>\n",
       "    <tr>\n",
       "      <th>mp</th>\n",
       "      <td>0.777186</td>\n",
       "      <td>1.000000</td>\n",
       "      <td>0.000869</td>\n",
       "      <td>-0.056167</td>\n",
       "      <td>0.053421</td>\n",
       "      <td>0.065719</td>\n",
       "      <td>0.087754</td>\n",
       "      <td>0.006321</td>\n",
       "      <td>0.770386</td>\n",
       "    </tr>\n",
       "    <tr>\n",
       "      <th>parter</th>\n",
       "      <td>0.003816</td>\n",
       "      <td>0.000869</td>\n",
       "      <td>1.000000</td>\n",
       "      <td>-0.285501</td>\n",
       "      <td>-0.388748</td>\n",
       "      <td>-0.448826</td>\n",
       "      <td>0.004277</td>\n",
       "      <td>-0.002453</td>\n",
       "      <td>-0.020806</td>\n",
       "    </tr>\n",
       "    <tr>\n",
       "      <th>et1-2</th>\n",
       "      <td>-0.067465</td>\n",
       "      <td>-0.056167</td>\n",
       "      <td>-0.285501</td>\n",
       "      <td>1.000000</td>\n",
       "      <td>-0.772008</td>\n",
       "      <td>-0.500485</td>\n",
       "      <td>0.065535</td>\n",
       "      <td>0.187789</td>\n",
       "      <td>-0.061217</td>\n",
       "    </tr>\n",
       "    <tr>\n",
       "      <th>et3+</th>\n",
       "      <td>0.062328</td>\n",
       "      <td>0.053421</td>\n",
       "      <td>-0.388748</td>\n",
       "      <td>-0.772008</td>\n",
       "      <td>1.000000</td>\n",
       "      <td>0.778814</td>\n",
       "      <td>-0.065839</td>\n",
       "      <td>-0.178905</td>\n",
       "      <td>0.072650</td>\n",
       "    </tr>\n",
       "    <tr>\n",
       "      <th>etaj max</th>\n",
       "      <td>0.073172</td>\n",
       "      <td>0.065719</td>\n",
       "      <td>-0.448826</td>\n",
       "      <td>-0.500485</td>\n",
       "      <td>0.778814</td>\n",
       "      <td>1.000000</td>\n",
       "      <td>-0.071077</td>\n",
       "      <td>-0.193046</td>\n",
       "      <td>0.091064</td>\n",
       "    </tr>\n",
       "    <tr>\n",
       "      <th>typ_decom</th>\n",
       "      <td>-0.000365</td>\n",
       "      <td>0.087754</td>\n",
       "      <td>0.004277</td>\n",
       "      <td>0.065535</td>\n",
       "      <td>-0.065839</td>\n",
       "      <td>-0.071077</td>\n",
       "      <td>1.000000</td>\n",
       "      <td>0.213843</td>\n",
       "      <td>0.034928</td>\n",
       "    </tr>\n",
       "    <tr>\n",
       "      <th>bloc nou</th>\n",
       "      <td>-0.139376</td>\n",
       "      <td>0.006321</td>\n",
       "      <td>-0.002453</td>\n",
       "      <td>0.187789</td>\n",
       "      <td>-0.178905</td>\n",
       "      <td>-0.193046</td>\n",
       "      <td>0.213843</td>\n",
       "      <td>1.000000</td>\n",
       "      <td>0.035021</td>\n",
       "    </tr>\n",
       "    <tr>\n",
       "      <th>Price</th>\n",
       "      <td>0.525333</td>\n",
       "      <td>0.770386</td>\n",
       "      <td>-0.020806</td>\n",
       "      <td>-0.061217</td>\n",
       "      <td>0.072650</td>\n",
       "      <td>0.091064</td>\n",
       "      <td>0.034928</td>\n",
       "      <td>0.035021</td>\n",
       "      <td>1.000000</td>\n",
       "    </tr>\n",
       "  </tbody>\n",
       "</table>\n",
       "</div>"
      ],
      "text/plain": [
       "             nr cam        mp    parter     et1-2      et3+  etaj max  typ_decom  bloc nou     Price\n",
       "nr cam     1.000000  0.777186  0.003816 -0.067465  0.062328  0.073172  -0.000365 -0.139376  0.525333\n",
       "mp         0.777186  1.000000  0.000869 -0.056167  0.053421  0.065719   0.087754  0.006321  0.770386\n",
       "parter     0.003816  0.000869  1.000000 -0.285501 -0.388748 -0.448826   0.004277 -0.002453 -0.020806\n",
       "et1-2     -0.067465 -0.056167 -0.285501  1.000000 -0.772008 -0.500485   0.065535  0.187789 -0.061217\n",
       "et3+       0.062328  0.053421 -0.388748 -0.772008  1.000000  0.778814  -0.065839 -0.178905  0.072650\n",
       "etaj max   0.073172  0.065719 -0.448826 -0.500485  0.778814  1.000000  -0.071077 -0.193046  0.091064\n",
       "typ_decom -0.000365  0.087754  0.004277  0.065535 -0.065839 -0.071077   1.000000  0.213843  0.034928\n",
       "bloc nou  -0.139376  0.006321 -0.002453  0.187789 -0.178905 -0.193046   0.213843  1.000000  0.035021\n",
       "Price      0.525333  0.770386 -0.020806 -0.061217  0.072650  0.091064   0.034928  0.035021  1.000000"
      ]
     },
     "execution_count": 19,
     "metadata": {},
     "output_type": "execute_result"
    }
   ],
   "source": [
    "df_new.corr()"
   ]
  },
  {
   "cell_type": "markdown",
   "id": "77104c52",
   "metadata": {},
   "source": [
    "## Modelling\n",
    "- further process X data maybe\n",
    "- construct normal eq and determine model coefs `(((XtX)^-1)Xt)y (y = x*w => w = y/x)`\n",
    "- validate results (how, when)\n",
    "\n",
    "`f(X) = y = X[0]*w[0] + X[1]*w[1] + .... X[N]*w[N] +X[N+1]*w[N+1] | X[N+1] == 1`"
   ]
  },
  {
   "cell_type": "code",
   "execution_count": 20,
   "id": "23c164ac",
   "metadata": {},
   "outputs": [
    {
     "data": {
      "text/plain": [
       "nr cam        2.505709\n",
       "mp           73.704865\n",
       "parter        0.125695\n",
       "et1-2         0.361827\n",
       "et3+          0.512479\n",
       "etaj max      3.336466\n",
       "typ_decom     0.717591\n",
       "bloc nou      0.593210\n",
       "dtype: float64"
      ]
     },
     "execution_count": 20,
     "metadata": {},
     "output_type": "execute_result"
    }
   ],
   "source": [
    "X.mean()"
   ]
  },
  {
   "cell_type": "code",
   "execution_count": 21,
   "id": "d544883f",
   "metadata": {},
   "outputs": [
    {
     "data": {
      "text/plain": [
       "nr cam        1.0\n",
       "mp           15.0\n",
       "parter        0.0\n",
       "et1-2         0.0\n",
       "et3+          0.0\n",
       "etaj max      0.0\n",
       "typ_decom     0.0\n",
       "bloc nou      0.0\n",
       "dtype: float64"
      ]
     },
     "execution_count": 21,
     "metadata": {},
     "output_type": "execute_result"
    }
   ],
   "source": [
    "X.min()"
   ]
  },
  {
   "cell_type": "code",
   "execution_count": 22,
   "id": "4e899d03",
   "metadata": {},
   "outputs": [
    {
     "data": {
      "text/plain": [
       "nr cam        0.950467\n",
       "mp           40.174869\n",
       "parter        0.331522\n",
       "et1-2         0.480553\n",
       "et3+          0.499870\n",
       "etaj max      2.818757\n",
       "typ_decom     0.450194\n",
       "bloc nou      0.491260\n",
       "dtype: float64"
      ]
     },
     "execution_count": 22,
     "metadata": {},
     "output_type": "execute_result"
    }
   ],
   "source": [
    "X.std()"
   ]
  },
  {
   "cell_type": "code",
   "execution_count": 23,
   "id": "da7811fd",
   "metadata": {},
   "outputs": [
    {
     "data": {
      "text/plain": [
       "nr cam        12.0\n",
       "mp           621.0\n",
       "parter         1.0\n",
       "et1-2          1.0\n",
       "et3+           1.0\n",
       "etaj max      18.0\n",
       "typ_decom      1.0\n",
       "bloc nou       1.0\n",
       "dtype: float64"
      ]
     },
     "execution_count": 23,
     "metadata": {},
     "output_type": "execute_result"
    }
   ],
   "source": [
    "X.max()"
   ]
  },
  {
   "cell_type": "code",
   "execution_count": 24,
   "id": "2ff21113",
   "metadata": {},
   "outputs": [],
   "source": [
    "np_X = X.values"
   ]
  },
  {
   "cell_type": "code",
   "execution_count": 26,
   "id": "92788300",
   "metadata": {
    "scrolled": false
   },
   "outputs": [
    {
     "data": {
      "text/plain": [
       "array([[  2.  ,  56.  ,   0.  ,   1.  ,   0.  ,   2.  ,   1.  ,   1.  ],\n",
       "       [  2.  ,  57.  ,   0.  ,   1.  ,   0.  ,   2.  ,   0.  ,   1.  ],\n",
       "       [  2.  ,  67.  ,   0.  ,   1.  ,   0.  ,   2.  ,   1.  ,   1.  ],\n",
       "       [  1.  ,  48.  ,   0.  ,   1.  ,   0.  ,   2.  ,   1.  ,   1.  ],\n",
       "       [  3.  ,  89.6 ,   0.  ,   0.  ,   1.  ,   3.  ,   1.  ,   1.  ],\n",
       "       [  2.  ,  65.  ,   0.  ,   1.  ,   0.  ,   2.  ,   1.  ,   1.  ],\n",
       "       [  2.  ,  46.  ,   0.  ,   0.  ,   1.  ,   4.  ,   1.  ,   1.  ],\n",
       "       [  6.  , 334.  ,   0.  ,   0.  ,   1.  ,  10.  ,   1.  ,   1.  ],\n",
       "       [  3.  , 104.26,   0.  ,   0.  ,   1.  ,  11.  ,   1.  ,   1.  ],\n",
       "       [  2.  ,  65.  ,   0.  ,   1.  ,   0.  ,   1.  ,   0.  ,   1.  ],\n",
       "       [  2.  ,  46.  ,   0.  ,   0.  ,   1.  ,   3.  ,   1.  ,   1.  ],\n",
       "       [  1.  ,  43.02,   1.  ,   0.  ,   0.  ,   0.  ,   1.  ,   1.  ],\n",
       "       [  3.  ,  80.23,   0.  ,   0.  ,   1.  ,   3.  ,   1.  ,   1.  ],\n",
       "       [  1.  ,  30.  ,   1.  ,   0.  ,   0.  ,   0.  ,   1.  ,   1.  ],\n",
       "       [  2.  ,  66.2 ,   0.  ,   1.  ,   0.  ,   2.  ,   1.  ,   1.  ],\n",
       "       [  4.  ,  90.39,   0.  ,   0.  ,   1.  ,   5.  ,   0.  ,   1.  ],\n",
       "       [  3.  ,  91.2 ,   0.  ,   0.  ,   1.  ,   3.  ,   0.  ,   1.  ],\n",
       "       [  2.  ,  56.  ,   0.  ,   1.  ,   0.  ,   2.  ,   1.  ,   1.  ],\n",
       "       [  2.  ,  70.24,   0.  ,   0.  ,   1.  ,   8.  ,   1.  ,   1.  ],\n",
       "       [  2.  ,  53.  ,   0.  ,   0.  ,   1.  ,   3.  ,   0.  ,   1.  ]])"
      ]
     },
     "execution_count": 26,
     "metadata": {},
     "output_type": "execute_result"
    }
   ],
   "source": [
    "np_X[:20]"
   ]
  },
  {
   "cell_type": "code",
   "execution_count": 27,
   "id": "8a1affd5",
   "metadata": {},
   "outputs": [
    {
     "data": {
      "text/plain": [
       "array([ 2.51, 73.7 ,  0.13,  0.36,  0.51,  3.34,  0.72,  0.59])"
      ]
     },
     "execution_count": 27,
     "metadata": {},
     "output_type": "execute_result"
    }
   ],
   "source": [
    "np_X.mean(axis=0)"
   ]
  },
  {
   "cell_type": "code",
   "execution_count": 28,
   "id": "f0b01063",
   "metadata": {},
   "outputs": [],
   "source": [
    "np_X_n = (np_X - np_X.mean(0)) / np_X.std(0)"
   ]
  },
  {
   "cell_type": "code",
   "execution_count": 30,
   "id": "85c7087a",
   "metadata": {},
   "outputs": [
    {
     "data": {
      "text/plain": [
       "array([[-0.53, -0.44, -0.38,  1.33, -1.03, -0.47,  0.63,  0.83],\n",
       "       [-0.53, -0.42, -0.38,  1.33, -1.03, -0.47, -1.59,  0.83],\n",
       "       [-0.53, -0.17, -0.38,  1.33, -1.03, -0.47,  0.63,  0.83],\n",
       "       [-1.58, -0.64, -0.38,  1.33, -1.03, -0.47,  0.63,  0.83],\n",
       "       [ 0.52,  0.4 , -0.38, -0.75,  0.98, -0.12,  0.63,  0.83],\n",
       "       [-0.53, -0.22, -0.38,  1.33, -1.03, -0.47,  0.63,  0.83],\n",
       "       [-0.53, -0.69, -0.38, -0.75,  0.98,  0.24,  0.63,  0.83],\n",
       "       [ 3.68,  6.48, -0.38, -0.75,  0.98,  2.36,  0.63,  0.83],\n",
       "       [ 0.52,  0.76, -0.38, -0.75,  0.98,  2.72,  0.63,  0.83],\n",
       "       [-0.53, -0.22, -0.38,  1.33, -1.03, -0.83, -1.59,  0.83],\n",
       "       [-0.53, -0.69, -0.38, -0.75,  0.98, -0.12,  0.63,  0.83],\n",
       "       [-1.58, -0.76,  2.64, -0.75, -1.03, -1.18,  0.63,  0.83],\n",
       "       [ 0.52,  0.16, -0.38, -0.75,  0.98, -0.12,  0.63,  0.83],\n",
       "       [-1.58, -1.09,  2.64, -0.75, -1.03, -1.18,  0.63,  0.83],\n",
       "       [-0.53, -0.19, -0.38,  1.33, -1.03, -0.47,  0.63,  0.83],\n",
       "       [ 1.57,  0.42, -0.38, -0.75,  0.98,  0.59, -1.59,  0.83],\n",
       "       [ 0.52,  0.44, -0.38, -0.75,  0.98, -0.12, -1.59,  0.83],\n",
       "       [-0.53, -0.44, -0.38,  1.33, -1.03, -0.47,  0.63,  0.83],\n",
       "       [-0.53, -0.09, -0.38, -0.75,  0.98,  1.65,  0.63,  0.83],\n",
       "       [-0.53, -0.52, -0.38, -0.75,  0.98, -0.12, -1.59,  0.83]])"
      ]
     },
     "execution_count": 30,
     "metadata": {},
     "output_type": "execute_result"
    }
   ],
   "source": [
    "np_X_n[:20]"
   ]
  },
  {
   "cell_type": "code",
   "execution_count": 37,
   "id": "313a4cae",
   "metadata": {},
   "outputs": [
    {
     "data": {
      "text/plain": [
       "array([  35800,   35800,   39600,   29800,  112900,   37400,   39500, 2350000,  332000,   39900,   39500,   42766,   88253,   26800,   93000,  135000,  115000,   39500,   55192,   69900], dtype=int64)"
      ]
     },
     "execution_count": 37,
     "metadata": {},
     "output_type": "execute_result"
    }
   ],
   "source": [
    "np_y = y_price.values\n",
    "np_y[:20]"
   ]
  },
  {
   "cell_type": "code",
   "execution_count": 38,
   "id": "e045e61c",
   "metadata": {},
   "outputs": [
    {
     "data": {
      "text/plain": [
       "array([0.  , 0.  , 0.01, 0.  , 0.02, 0.01, 0.01, 0.6 , 0.08, 0.01, 0.01, 0.01, 0.02, 0.  , 0.02, 0.03, 0.03, 0.01, 0.01, 0.01])"
      ]
     },
     "execution_count": 38,
     "metadata": {},
     "output_type": "execute_result"
    }
   ],
   "source": [
    "\n",
    "np_y_n = (np_y - np_y.min()) / (np_y.max() - np_y.min())\n",
    "np_y_n[:20]"
   ]
  },
  {
   "cell_type": "code",
   "execution_count": 39,
   "id": "be241ae2",
   "metadata": {},
   "outputs": [
    {
     "data": {
      "text/plain": [
       "18000"
      ]
     },
     "execution_count": 39,
     "metadata": {},
     "output_type": "execute_result"
    }
   ],
   "source": [
    "np_y.min()\n"
   ]
  },
  {
   "cell_type": "code",
   "execution_count": 40,
   "id": "af98e5ba",
   "metadata": {},
   "outputs": [
    {
     "data": {
      "text/plain": [
       "3880000"
      ]
     },
     "execution_count": 40,
     "metadata": {},
     "output_type": "execute_result"
    }
   ],
   "source": [
    "np_y.max()"
   ]
  },
  {
   "cell_type": "code",
   "execution_count": 41,
   "id": "fa676245",
   "metadata": {},
   "outputs": [
    {
     "data": {
      "text/plain": [
       "array([  35800.,   35800.,   39600.,   29800.,  112900.,   37400.,   39500., 2350000.,  332000.,   39900.,   39500.,   42766.,   88253.,   26800.,   93000.,  135000.,  115000.,   39500.,   55192.,   69900.])"
      ]
     },
     "execution_count": 41,
     "metadata": {},
     "output_type": "execute_result"
    }
   ],
   "source": [
    "y_norm_sub = np_y.min()\n",
    "y_norm_div = np_y.max() - np_y.min()\n",
    "y_test = np_y_n * y_norm_div + y_norm_sub\n",
    "y_test[:20]"
   ]
  },
  {
   "cell_type": "code",
   "execution_count": 43,
   "id": "16e3b9d4",
   "metadata": {},
   "outputs": [],
   "source": [
    "# TODO: write normal eq for raw data\n",
    "np_weights = np.linalg.pinv(np_X.T.dot(np_X)).dot(np_X.T).dot(np_y)\n",
    "\n",
    "# TODO: write normal eq for normalized data\n",
    "np_weights_n = np.linalg.pinv(np_X_n.T.dot(np_X_n)).dot(np_X_n.T).dot(np_y_n)\n"
   ]
  },
  {
   "cell_type": "code",
   "execution_count": 44,
   "id": "17612e6f",
   "metadata": {},
   "outputs": [
    {
     "data": {
      "text/plain": [
       "array([-35253.17,   4068.76, -77652.97, -77536.51, -76809.97,   2762.81, -18637.49,   7934.74])"
      ]
     },
     "execution_count": 44,
     "metadata": {},
     "output_type": "execute_result"
    }
   ],
   "source": [
    "np_weights"
   ]
  },
  {
   "cell_type": "code",
   "execution_count": 45,
   "id": "e92a8344",
   "metadata": {},
   "outputs": [
    {
     "data": {
      "text/plain": [
       "array([-0.01,  0.04, -0.  , -0.  ,  0.  ,  0.  , -0.  ,  0.  ])"
      ]
     },
     "execution_count": 45,
     "metadata": {},
     "output_type": "execute_result"
    }
   ],
   "source": [
    "np_weights_n"
   ]
  },
  {
   "cell_type": "code",
   "execution_count": null,
   "id": "4485a963",
   "metadata": {},
   "outputs": [],
   "source": [
    "#TODO: calc predictions for raw data model\n",
    "np_y_preds = None\n",
    "\n",
    "#TODO: calc predictions for normalized data model\n",
    "np_y_preds_n = None"
   ]
  },
  {
   "cell_type": "code",
   "execution_count": null,
   "id": "3d4795c7",
   "metadata": {},
   "outputs": [],
   "source": [
    "np_y_preds"
   ]
  },
  {
   "cell_type": "code",
   "execution_count": null,
   "id": "fa77cb75",
   "metadata": {},
   "outputs": [],
   "source": [
    "plt.figure()\n",
    "plt.hist(np_y_preds)\n",
    "plt.title('Raw model predictions')\n",
    "plt.figure()\n",
    "plt.hist(np_y_preds_n)\n",
    "plt.title('Normed data model predictions')"
   ]
  },
  {
   "cell_type": "markdown",
   "id": "3d6aa458",
   "metadata": {},
   "source": [
    "### One more model before testing results\n",
    "\n",
    "Lets further improve model by adding bias"
   ]
  },
  {
   "cell_type": "code",
   "execution_count": null,
   "id": "c3a1d320",
   "metadata": {},
   "outputs": [],
   "source": [
    "ones = np.ones(shape=(np_X_n.shape[0], 1))\n",
    "ones"
   ]
  },
  {
   "cell_type": "code",
   "execution_count": null,
   "id": "20b49206",
   "metadata": {},
   "outputs": [],
   "source": [
    "np_X_nb = np.concatenate((np_X_n, ones), axis=-1)\n",
    "np_X_nb"
   ]
  },
  {
   "cell_type": "code",
   "execution_count": null,
   "id": "643c832a",
   "metadata": {},
   "outputs": [],
   "source": [
    "# TODO: calculate weights\n",
    "np_weights_nb = None\n",
    "np_weights_nb"
   ]
  },
  {
   "cell_type": "code",
   "execution_count": null,
   "id": "299903cf",
   "metadata": {},
   "outputs": [],
   "source": [
    "# TODO: calculate predictions\n",
    "np_y_preds_nb = None\n",
    "np_y_preds_nb"
   ]
  },
  {
   "cell_type": "code",
   "execution_count": null,
   "id": "5681aac7",
   "metadata": {},
   "outputs": [],
   "source": [
    "plt.hist(np_y_preds_nb, bins=50)"
   ]
  },
  {
   "cell_type": "code",
   "execution_count": null,
   "id": "ab6091bf",
   "metadata": {},
   "outputs": [],
   "source": [
    "np_y_pred_price = np_y_pred\n",
    "np_y_pred_n_price = None\n",
    "np_y_pred_nb_price = None"
   ]
  },
  {
   "cell_type": "markdown",
   "id": "2fc606b6",
   "metadata": {},
   "source": [
    "### Now lets prepare some friendly calitative analysis outputs"
   ]
  },
  {
   "cell_type": "markdown",
   "id": "f6e48092",
   "metadata": {},
   "source": [
    "Raw model"
   ]
  },
  {
   "cell_type": "code",
   "execution_count": null,
   "id": "3e48e3dd",
   "metadata": {},
   "outputs": [],
   "source": [
    "df_result_raw = pd.DataFrame(\n",
    "    {\n",
    "        'GOLD' : y_price,\n",
    "        'PRED' : np_y_pred_price.round(0),\n",
    "    }\n",
    ")\n",
    "df_result_raw.head(10)\n",
    "df_result_raw.tail(10)"
   ]
  },
  {
   "cell_type": "markdown",
   "id": "da397496",
   "metadata": {},
   "source": [
    "Normed data model"
   ]
  },
  {
   "cell_type": "code",
   "execution_count": null,
   "id": "2626c87f",
   "metadata": {},
   "outputs": [],
   "source": [
    "df_result_n = pd.DataFrame(\n",
    "    {\n",
    "        'GOLD' : y_price,\n",
    "        'PRED' : np_y_pred_n_price.round(0),\n",
    "    }\n",
    ")\n",
    "df_result_n.head(10)\n",
    "df_result_n.tail(10)"
   ]
  },
  {
   "cell_type": "markdown",
   "id": "5c6bb0dd",
   "metadata": {},
   "source": [
    "Normed & bias added"
   ]
  },
  {
   "cell_type": "code",
   "execution_count": null,
   "id": "ce27b9fe",
   "metadata": {
    "scrolled": true
   },
   "outputs": [],
   "source": [
    "\n",
    "df_result_nb = pd.DataFrame(\n",
    "    {\n",
    "        'GOLD' : y_price,\n",
    "        'PRED' : np_y_pred_nb_price.round(0),\n",
    "    }\n",
    ")\n",
    "df_result_nb.head(10)\n",
    "df_result_nb.head(10)"
   ]
  },
  {
   "cell_type": "markdown",
   "id": "3fedbe4f",
   "metadata": {},
   "source": [
    "Now lets see some quantitative analysis of the results"
   ]
  },
  {
   "cell_type": "code",
   "execution_count": null,
   "id": "8e0d15ba",
   "metadata": {},
   "outputs": [],
   "source": [
    "# TODO: complete code below\n",
    "abs_err = np.abs(y_price - None)\n",
    "abs_err"
   ]
  },
  {
   "cell_type": "code",
   "execution_count": null,
   "id": "b640f3ea",
   "metadata": {},
   "outputs": [],
   "source": [
    "proc_err = abs_err / y_price\n",
    "proc_err = proc_err * 100"
   ]
  },
  {
   "cell_type": "code",
   "execution_count": null,
   "id": "3fc83f57",
   "metadata": {},
   "outputs": [],
   "source": [
    "df_result = pd.DataFrame(\n",
    "    {\n",
    "        'GOLD' : y_price,\n",
    "        'PRED' : np_y_pred2_price.round(0),\n",
    "        'ERR%' : proc_err.round(2)\n",
    "    }\n",
    ")\n",
    "df_result.head(20)"
   ]
  },
  {
   "cell_type": "code",
   "execution_count": null,
   "id": "9c346ea1",
   "metadata": {},
   "outputs": [],
   "source": [
    "df_result.tail(20)"
   ]
  },
  {
   "cell_type": "code",
   "execution_count": null,
   "id": "6052f7fe",
   "metadata": {},
   "outputs": [],
   "source": [
    "proc_err.mean()"
   ]
  },
  {
   "cell_type": "code",
   "execution_count": null,
   "id": "2e26bdcf",
   "metadata": {},
   "outputs": [],
   "source": [
    "def train_neq(inputs, gold):\n",
    "    # TODO:\n",
    "    weights = np.linalg.pinv(inputs.T.dot(inputs)).dot(inputs.T).dot(gold)\n",
    "    return weights\n",
    "\n",
    "def evaluate(theta, inputs, gold, y_div, y_sub, name=\"\"):\n",
    "    _y_pred = inputs.dot(theta)\n",
    "    _y_vals = _y_pred * y_div + y_sub\n",
    "    \n",
    "    _y_true = gold * y_div + y_sub\n",
    "    \n",
    "    res_err = np.abs(_y_true - _y_vals)\n",
    "    prc_err = res_err / _y_true\n",
    "    \n",
    "    overall = prc_err.mean()\n",
    "    df_result = pd.DataFrame(\n",
    "        {\n",
    "        'GOLD' : _y_true,\n",
    "        'PRED' : _y_vals.round(0),\n",
    "        'ERR%' : prc_err.round(2)\n",
    "        }\n",
    "    )\n",
    "    print('Results for', name)\n",
    "    print(df_result.head(20))\n",
    "    print(df_result.tail(20))\n",
    "    print(\"Overall error: {:.1f}%\".format(overall * 100))\n",
    "    return overall"
   ]
  },
  {
   "cell_type": "code",
   "execution_count": null,
   "id": "7a1727da",
   "metadata": {},
   "outputs": [],
   "source": [
    "from sklearn.model_selection import train_test_split\n",
    "x_trn, x_tst, y_trn, y_tst = train_test_split(np_X_nb, np_y_n, test_size=0.2)"
   ]
  },
  {
   "cell_type": "code",
   "execution_count": null,
   "id": "21a6eb5c",
   "metadata": {},
   "outputs": [],
   "source": [
    "theta = train_neq(\n",
    "    inputs=x_trn,\n",
    "    gold=y_trn\n",
    ")"
   ]
  },
  {
   "cell_type": "code",
   "execution_count": null,
   "id": "873573d3",
   "metadata": {},
   "outputs": [],
   "source": [
    "theta"
   ]
  },
  {
   "cell_type": "code",
   "execution_count": null,
   "id": "1dc0f147",
   "metadata": {},
   "outputs": [],
   "source": [
    "evaluate(\n",
    "    theta=theta,\n",
    "    inputs=x_trn,\n",
    "    gold=y_trn,\n",
    "    y_div=y_norm_div,\n",
    "    y_sub=y_norm_sub,\n",
    "    name='TRAIN',\n",
    ")"
   ]
  },
  {
   "cell_type": "code",
   "execution_count": null,
   "id": "23949b5f",
   "metadata": {},
   "outputs": [],
   "source": [
    "evaluate(\n",
    "    theta=theta,\n",
    "    inputs=x_tst,\n",
    "    gold=y_tst,\n",
    "    y_div=y_norm_div,\n",
    "    y_sub=y_norm_sub,\n",
    "    name='TEST',\n",
    ")"
   ]
  }
 ],
 "metadata": {
  "kernelspec": {
   "display_name": "Python 3 (ipykernel)",
   "language": "python",
   "name": "python3"
  },
  "language_info": {
   "codemirror_mode": {
    "name": "ipython",
    "version": 3
   },
   "file_extension": ".py",
   "mimetype": "text/x-python",
   "name": "python",
   "nbconvert_exporter": "python",
   "pygments_lexer": "ipython3",
   "version": "3.8.13"
  }
 },
 "nbformat": 4,
 "nbformat_minor": 5
}
