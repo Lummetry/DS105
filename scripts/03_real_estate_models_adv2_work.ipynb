{
 "cells": [
  {
   "cell_type": "code",
   "execution_count": 1,
   "id": "9c9f0291",
   "metadata": {},
   "outputs": [],
   "source": [
    "import numpy as np\n",
    "import pandas as pd\n",
    "\n",
    "import matplotlib.pyplot as plt\n",
    "%matplotlib inline\n",
    "\n",
    "from utils import set_pretty_prints, load_dataset"
   ]
  },
  {
   "cell_type": "code",
   "execution_count": 2,
   "id": "16a34047",
   "metadata": {},
   "outputs": [],
   "source": [
    "set_pretty_prints()"
   ]
  },
  {
   "cell_type": "code",
   "execution_count": 3,
   "id": "0d3226dc",
   "metadata": {},
   "outputs": [],
   "source": [
    "df = load_dataset('imobiliare.ro')"
   ]
  },
  {
   "cell_type": "code",
   "execution_count": 4,
   "id": "e4c9c906",
   "metadata": {},
   "outputs": [
    {
     "data": {
      "text/html": [
       "<div>\n",
       "<style scoped>\n",
       "    .dataframe tbody tr th:only-of-type {\n",
       "        vertical-align: middle;\n",
       "    }\n",
       "\n",
       "    .dataframe tbody tr th {\n",
       "        vertical-align: top;\n",
       "    }\n",
       "\n",
       "    .dataframe thead th {\n",
       "        text-align: right;\n",
       "    }\n",
       "</style>\n",
       "<table border=\"1\" class=\"dataframe\">\n",
       "  <thead>\n",
       "    <tr style=\"text-align: right;\">\n",
       "      <th></th>\n",
       "      <th>Unnamed: 0</th>\n",
       "      <th>nr cam</th>\n",
       "      <th>mp</th>\n",
       "      <th>parter</th>\n",
       "      <th>et1-2</th>\n",
       "      <th>et3+</th>\n",
       "      <th>etaj max</th>\n",
       "      <th>typ_decom</th>\n",
       "      <th>bloc nou</th>\n",
       "      <th>Price/Surface</th>\n",
       "      <th>Price</th>\n",
       "      <th>WebPage</th>\n",
       "    </tr>\n",
       "  </thead>\n",
       "  <tbody>\n",
       "    <tr>\n",
       "      <th>0</th>\n",
       "      <td>1</td>\n",
       "      <td>2</td>\n",
       "      <td>56.00</td>\n",
       "      <td>0</td>\n",
       "      <td>1</td>\n",
       "      <td>0</td>\n",
       "      <td>2</td>\n",
       "      <td>1</td>\n",
       "      <td>1</td>\n",
       "      <td>639.29</td>\n",
       "      <td>35800</td>\n",
       "      <td>https://www.imobiliare.ro/vanzare-apartamente/bucuresti/rahova/apartament-de-vanzare-2-camere-XAU700006?lista=2349706&amp;listing=1</td>\n",
       "    </tr>\n",
       "    <tr>\n",
       "      <th>1</th>\n",
       "      <td>2</td>\n",
       "      <td>2</td>\n",
       "      <td>57.00</td>\n",
       "      <td>0</td>\n",
       "      <td>1</td>\n",
       "      <td>0</td>\n",
       "      <td>2</td>\n",
       "      <td>0</td>\n",
       "      <td>1</td>\n",
       "      <td>628.07</td>\n",
       "      <td>35800</td>\n",
       "      <td>https://www.imobiliare.ro/vanzare-apartamente/bucuresti/rahova/apartament-de-vanzare-2-camere-XAG00001O?lista=2349706&amp;listing=1</td>\n",
       "    </tr>\n",
       "    <tr>\n",
       "      <th>2</th>\n",
       "      <td>3</td>\n",
       "      <td>2</td>\n",
       "      <td>67.00</td>\n",
       "      <td>0</td>\n",
       "      <td>1</td>\n",
       "      <td>0</td>\n",
       "      <td>2</td>\n",
       "      <td>1</td>\n",
       "      <td>1</td>\n",
       "      <td>591.04</td>\n",
       "      <td>39600</td>\n",
       "      <td>https://www.imobiliare.ro/vanzare-apartamente/bucuresti/rahova/apartament-de-vanzare-2-camere-XAG00001K?lista=2349706&amp;listing=1</td>\n",
       "    </tr>\n",
       "    <tr>\n",
       "      <th>3</th>\n",
       "      <td>4</td>\n",
       "      <td>1</td>\n",
       "      <td>48.00</td>\n",
       "      <td>0</td>\n",
       "      <td>1</td>\n",
       "      <td>0</td>\n",
       "      <td>2</td>\n",
       "      <td>1</td>\n",
       "      <td>1</td>\n",
       "      <td>620.83</td>\n",
       "      <td>29800</td>\n",
       "      <td>https://www.imobiliare.ro/vanzare-garsoniere/bucuresti/rahova/garsoniera-de-vanzare-XAG00001J?lista=2349706&amp;listing=1</td>\n",
       "    </tr>\n",
       "    <tr>\n",
       "      <th>4</th>\n",
       "      <td>5</td>\n",
       "      <td>3</td>\n",
       "      <td>89.60</td>\n",
       "      <td>0</td>\n",
       "      <td>0</td>\n",
       "      <td>1</td>\n",
       "      <td>3</td>\n",
       "      <td>1</td>\n",
       "      <td>1</td>\n",
       "      <td>1260.04</td>\n",
       "      <td>112900</td>\n",
       "      <td>https://www.imobiliare.ro/vanzare-apartamente/bucuresti/p-ta-presei-libere/apartament-de-vanzare-3-camere-XB0V00003?lista=2349706&amp;listing=1</td>\n",
       "    </tr>\n",
       "    <tr>\n",
       "      <th>...</th>\n",
       "      <td>...</td>\n",
       "      <td>...</td>\n",
       "      <td>...</td>\n",
       "      <td>...</td>\n",
       "      <td>...</td>\n",
       "      <td>...</td>\n",
       "      <td>...</td>\n",
       "      <td>...</td>\n",
       "      <td>...</td>\n",
       "      <td>...</td>\n",
       "      <td>...</td>\n",
       "      <td>...</td>\n",
       "    </tr>\n",
       "    <tr>\n",
       "      <th>9892</th>\n",
       "      <td>9894</td>\n",
       "      <td>4</td>\n",
       "      <td>90.00</td>\n",
       "      <td>0</td>\n",
       "      <td>0</td>\n",
       "      <td>1</td>\n",
       "      <td>8</td>\n",
       "      <td>0</td>\n",
       "      <td>0</td>\n",
       "      <td>944.44</td>\n",
       "      <td>85000</td>\n",
       "      <td>https://www.imobiliare.ro/vanzare-apartamente/bucuresti/crangasi/apartament-de-vanzare-4-camere-X5LL10023?lista=2349706&amp;listing=1</td>\n",
       "    </tr>\n",
       "    <tr>\n",
       "      <th>9893</th>\n",
       "      <td>9895</td>\n",
       "      <td>3</td>\n",
       "      <td>85.00</td>\n",
       "      <td>0</td>\n",
       "      <td>0</td>\n",
       "      <td>1</td>\n",
       "      <td>8</td>\n",
       "      <td>1</td>\n",
       "      <td>0</td>\n",
       "      <td>1588.22</td>\n",
       "      <td>134999</td>\n",
       "      <td>https://www.imobiliare.ro/vanzare-apartamente/bucuresti/central/apartament-de-vanzare-3-camere-X9I6100JP?lista=2349706&amp;listing=1</td>\n",
       "    </tr>\n",
       "    <tr>\n",
       "      <th>9894</th>\n",
       "      <td>9896</td>\n",
       "      <td>2</td>\n",
       "      <td>48.00</td>\n",
       "      <td>0</td>\n",
       "      <td>0</td>\n",
       "      <td>1</td>\n",
       "      <td>4</td>\n",
       "      <td>0</td>\n",
       "      <td>0</td>\n",
       "      <td>1229.17</td>\n",
       "      <td>59000</td>\n",
       "      <td>https://www.imobiliare.ro/vanzare-apartamente/bucuresti/apusului/apartament-de-vanzare-2-camere-XBJG000HP?lista=2349706&amp;listing=1</td>\n",
       "    </tr>\n",
       "    <tr>\n",
       "      <th>9895</th>\n",
       "      <td>9897</td>\n",
       "      <td>4</td>\n",
       "      <td>83.81</td>\n",
       "      <td>0</td>\n",
       "      <td>0</td>\n",
       "      <td>1</td>\n",
       "      <td>3</td>\n",
       "      <td>1</td>\n",
       "      <td>1</td>\n",
       "      <td>1312.49</td>\n",
       "      <td>110000</td>\n",
       "      <td>https://www.imobiliare.ro/vanzare-apartamente/bucuresti/theodor-pallady/penthouse-de-vanzare-4-camere-XANO10193?lista=2349706&amp;listing=1</td>\n",
       "    </tr>\n",
       "    <tr>\n",
       "      <th>9896</th>\n",
       "      <td>9898</td>\n",
       "      <td>1</td>\n",
       "      <td>35.00</td>\n",
       "      <td>0</td>\n",
       "      <td>0</td>\n",
       "      <td>1</td>\n",
       "      <td>4</td>\n",
       "      <td>1</td>\n",
       "      <td>1</td>\n",
       "      <td>1757.14</td>\n",
       "      <td>61500</td>\n",
       "      <td>https://www.imobiliare.ro/vanzare-garsoniere/bucuresti/politehnica/garsoniera-de-vanzare-X17L10040?lista=2349706&amp;listing=1</td>\n",
       "    </tr>\n",
       "  </tbody>\n",
       "</table>\n",
       "<p>9897 rows × 12 columns</p>\n",
       "</div>"
      ],
      "text/plain": [
       "      Unnamed: 0  nr cam     mp  parter  et1-2  et3+  etaj max  typ_decom  bloc nou  Price/Surface   Price                                                                                                                                      WebPage\n",
       "0              1       2  56.00       0      1     0         2          1         1         639.29   35800              https://www.imobiliare.ro/vanzare-apartamente/bucuresti/rahova/apartament-de-vanzare-2-camere-XAU700006?lista=2349706&listing=1\n",
       "1              2       2  57.00       0      1     0         2          0         1         628.07   35800              https://www.imobiliare.ro/vanzare-apartamente/bucuresti/rahova/apartament-de-vanzare-2-camere-XAG00001O?lista=2349706&listing=1\n",
       "2              3       2  67.00       0      1     0         2          1         1         591.04   39600              https://www.imobiliare.ro/vanzare-apartamente/bucuresti/rahova/apartament-de-vanzare-2-camere-XAG00001K?lista=2349706&listing=1\n",
       "3              4       1  48.00       0      1     0         2          1         1         620.83   29800                        https://www.imobiliare.ro/vanzare-garsoniere/bucuresti/rahova/garsoniera-de-vanzare-XAG00001J?lista=2349706&listing=1\n",
       "4              5       3  89.60       0      0     1         3          1         1        1260.04  112900  https://www.imobiliare.ro/vanzare-apartamente/bucuresti/p-ta-presei-libere/apartament-de-vanzare-3-camere-XB0V00003?lista=2349706&listing=1\n",
       "...          ...     ...    ...     ...    ...   ...       ...        ...       ...            ...     ...                                                                                                                                          ...\n",
       "9892        9894       4  90.00       0      0     1         8          0         0         944.44   85000            https://www.imobiliare.ro/vanzare-apartamente/bucuresti/crangasi/apartament-de-vanzare-4-camere-X5LL10023?lista=2349706&listing=1\n",
       "9893        9895       3  85.00       0      0     1         8          1         0        1588.22  134999             https://www.imobiliare.ro/vanzare-apartamente/bucuresti/central/apartament-de-vanzare-3-camere-X9I6100JP?lista=2349706&listing=1\n",
       "9894        9896       2  48.00       0      0     1         4          0         0        1229.17   59000            https://www.imobiliare.ro/vanzare-apartamente/bucuresti/apusului/apartament-de-vanzare-2-camere-XBJG000HP?lista=2349706&listing=1\n",
       "9895        9897       4  83.81       0      0     1         3          1         1        1312.49  110000      https://www.imobiliare.ro/vanzare-apartamente/bucuresti/theodor-pallady/penthouse-de-vanzare-4-camere-XANO10193?lista=2349706&listing=1\n",
       "9896        9898       1  35.00       0      0     1         4          1         1        1757.14   61500                   https://www.imobiliare.ro/vanzare-garsoniere/bucuresti/politehnica/garsoniera-de-vanzare-X17L10040?lista=2349706&listing=1\n",
       "\n",
       "[9897 rows x 12 columns]"
      ]
     },
     "execution_count": 4,
     "metadata": {},
     "output_type": "execute_result"
    }
   ],
   "source": [
    "df"
   ]
  },
  {
   "cell_type": "code",
   "execution_count": 5,
   "id": "fbe683b7",
   "metadata": {},
   "outputs": [],
   "source": [
    "y_sqmp = df[\"Price/Surface\"]\n",
    "y_price = df['Price']\n",
    "\n",
    "# TODO: select viable features\n",
    "START = 1\n",
    "END = 9\n",
    "X = df.iloc[:,START:END]\n"
   ]
  },
  {
   "cell_type": "code",
   "execution_count": 6,
   "id": "e075d5a0",
   "metadata": {},
   "outputs": [
    {
     "data": {
      "text/html": [
       "<div>\n",
       "<style scoped>\n",
       "    .dataframe tbody tr th:only-of-type {\n",
       "        vertical-align: middle;\n",
       "    }\n",
       "\n",
       "    .dataframe tbody tr th {\n",
       "        vertical-align: top;\n",
       "    }\n",
       "\n",
       "    .dataframe thead th {\n",
       "        text-align: right;\n",
       "    }\n",
       "</style>\n",
       "<table border=\"1\" class=\"dataframe\">\n",
       "  <thead>\n",
       "    <tr style=\"text-align: right;\">\n",
       "      <th></th>\n",
       "      <th>nr cam</th>\n",
       "      <th>mp</th>\n",
       "      <th>parter</th>\n",
       "      <th>et1-2</th>\n",
       "      <th>et3+</th>\n",
       "      <th>etaj max</th>\n",
       "      <th>typ_decom</th>\n",
       "      <th>bloc nou</th>\n",
       "    </tr>\n",
       "  </thead>\n",
       "  <tbody>\n",
       "    <tr>\n",
       "      <th>0</th>\n",
       "      <td>2</td>\n",
       "      <td>56.00</td>\n",
       "      <td>0</td>\n",
       "      <td>1</td>\n",
       "      <td>0</td>\n",
       "      <td>2</td>\n",
       "      <td>1</td>\n",
       "      <td>1</td>\n",
       "    </tr>\n",
       "    <tr>\n",
       "      <th>1</th>\n",
       "      <td>2</td>\n",
       "      <td>57.00</td>\n",
       "      <td>0</td>\n",
       "      <td>1</td>\n",
       "      <td>0</td>\n",
       "      <td>2</td>\n",
       "      <td>0</td>\n",
       "      <td>1</td>\n",
       "    </tr>\n",
       "    <tr>\n",
       "      <th>2</th>\n",
       "      <td>2</td>\n",
       "      <td>67.00</td>\n",
       "      <td>0</td>\n",
       "      <td>1</td>\n",
       "      <td>0</td>\n",
       "      <td>2</td>\n",
       "      <td>1</td>\n",
       "      <td>1</td>\n",
       "    </tr>\n",
       "    <tr>\n",
       "      <th>3</th>\n",
       "      <td>1</td>\n",
       "      <td>48.00</td>\n",
       "      <td>0</td>\n",
       "      <td>1</td>\n",
       "      <td>0</td>\n",
       "      <td>2</td>\n",
       "      <td>1</td>\n",
       "      <td>1</td>\n",
       "    </tr>\n",
       "    <tr>\n",
       "      <th>4</th>\n",
       "      <td>3</td>\n",
       "      <td>89.60</td>\n",
       "      <td>0</td>\n",
       "      <td>0</td>\n",
       "      <td>1</td>\n",
       "      <td>3</td>\n",
       "      <td>1</td>\n",
       "      <td>1</td>\n",
       "    </tr>\n",
       "    <tr>\n",
       "      <th>...</th>\n",
       "      <td>...</td>\n",
       "      <td>...</td>\n",
       "      <td>...</td>\n",
       "      <td>...</td>\n",
       "      <td>...</td>\n",
       "      <td>...</td>\n",
       "      <td>...</td>\n",
       "      <td>...</td>\n",
       "    </tr>\n",
       "    <tr>\n",
       "      <th>9892</th>\n",
       "      <td>4</td>\n",
       "      <td>90.00</td>\n",
       "      <td>0</td>\n",
       "      <td>0</td>\n",
       "      <td>1</td>\n",
       "      <td>8</td>\n",
       "      <td>0</td>\n",
       "      <td>0</td>\n",
       "    </tr>\n",
       "    <tr>\n",
       "      <th>9893</th>\n",
       "      <td>3</td>\n",
       "      <td>85.00</td>\n",
       "      <td>0</td>\n",
       "      <td>0</td>\n",
       "      <td>1</td>\n",
       "      <td>8</td>\n",
       "      <td>1</td>\n",
       "      <td>0</td>\n",
       "    </tr>\n",
       "    <tr>\n",
       "      <th>9894</th>\n",
       "      <td>2</td>\n",
       "      <td>48.00</td>\n",
       "      <td>0</td>\n",
       "      <td>0</td>\n",
       "      <td>1</td>\n",
       "      <td>4</td>\n",
       "      <td>0</td>\n",
       "      <td>0</td>\n",
       "    </tr>\n",
       "    <tr>\n",
       "      <th>9895</th>\n",
       "      <td>4</td>\n",
       "      <td>83.81</td>\n",
       "      <td>0</td>\n",
       "      <td>0</td>\n",
       "      <td>1</td>\n",
       "      <td>3</td>\n",
       "      <td>1</td>\n",
       "      <td>1</td>\n",
       "    </tr>\n",
       "    <tr>\n",
       "      <th>9896</th>\n",
       "      <td>1</td>\n",
       "      <td>35.00</td>\n",
       "      <td>0</td>\n",
       "      <td>0</td>\n",
       "      <td>1</td>\n",
       "      <td>4</td>\n",
       "      <td>1</td>\n",
       "      <td>1</td>\n",
       "    </tr>\n",
       "  </tbody>\n",
       "</table>\n",
       "<p>9897 rows × 8 columns</p>\n",
       "</div>"
      ],
      "text/plain": [
       "      nr cam     mp  parter  et1-2  et3+  etaj max  typ_decom  bloc nou\n",
       "0          2  56.00       0      1     0         2          1         1\n",
       "1          2  57.00       0      1     0         2          0         1\n",
       "2          2  67.00       0      1     0         2          1         1\n",
       "3          1  48.00       0      1     0         2          1         1\n",
       "4          3  89.60       0      0     1         3          1         1\n",
       "...      ...    ...     ...    ...   ...       ...        ...       ...\n",
       "9892       4  90.00       0      0     1         8          0         0\n",
       "9893       3  85.00       0      0     1         8          1         0\n",
       "9894       2  48.00       0      0     1         4          0         0\n",
       "9895       4  83.81       0      0     1         3          1         1\n",
       "9896       1  35.00       0      0     1         4          1         1\n",
       "\n",
       "[9897 rows x 8 columns]"
      ]
     },
     "execution_count": 6,
     "metadata": {},
     "output_type": "execute_result"
    }
   ],
   "source": [
    "X"
   ]
  },
  {
   "cell_type": "code",
   "execution_count": 7,
   "id": "72b9f303",
   "metadata": {},
   "outputs": [
    {
     "data": {
      "text/plain": [
       "0        35800\n",
       "1        35800\n",
       "2        39600\n",
       "3        29800\n",
       "4       112900\n",
       "         ...  \n",
       "9892     85000\n",
       "9893    134999\n",
       "9894     59000\n",
       "9895    110000\n",
       "9896     61500\n",
       "Name: Price, Length: 9897, dtype: int64"
      ]
     },
     "execution_count": 7,
     "metadata": {},
     "output_type": "execute_result"
    }
   ],
   "source": [
    "y_price"
   ]
  },
  {
   "cell_type": "markdown",
   "id": "d7e967ae",
   "metadata": {},
   "source": [
    "## Exploration"
   ]
  },
  {
   "cell_type": "code",
   "execution_count": 8,
   "id": "ba33c821",
   "metadata": {},
   "outputs": [
    {
     "data": {
      "text/plain": [
       "Text(0.5, 1.0, 'Distribution of nr of rooms per apartment')"
      ]
     },
     "execution_count": 8,
     "metadata": {},
     "output_type": "execute_result"
    },
    {
     "data": {
      "image/png": "[encoded data removed]",
      "text/plain": [
       "<Figure size 432x288 with 1 Axes>"
      ]
     },
     "metadata": {},
     "output_type": "display_data"
    }
   ],
   "source": [
    "field = 'nr cam'\n",
    "x_label = 'Nr rooms'\n",
    "title = 'Distribution of nr of rooms per apartment'\n",
    "X[field].hist(bins=20)\n",
    "plt.xlabel(x_label)\n",
    "plt.title(title)"
   ]
  },
  {
   "cell_type": "code",
   "execution_count": 9,
   "id": "25b90dca",
   "metadata": {},
   "outputs": [
    {
     "data": {
      "text/plain": [
       "Text(0.5, 1.0, 'Distribution of sqm per property')"
      ]
     },
     "execution_count": 9,
     "metadata": {},
     "output_type": "execute_result"
    },
    {
     "data": {
      "image/png": "[encoded data removed]",
      "text/plain": [
       "<Figure size 432x288 with 1 Axes>"
      ]
     },
     "metadata": {},
     "output_type": "display_data"
    }
   ],
   "source": [
    "# TODO: Analyse a few more features\n",
    "field = 'mp'\n",
    "x_label = 'Square meters per property'\n",
    "title = 'Distribution of sqm per property'\n",
    "X[field].hist(bins=20)\n",
    "plt.xlabel(x_label)\n",
    "plt.title(title)"
   ]
  },
  {
   "cell_type": "code",
   "execution_count": 10,
   "id": "ab0395cb",
   "metadata": {},
   "outputs": [
    {
     "data": {
      "text/plain": [
       "Text(0.5, 0, 'Price')"
      ]
     },
     "execution_count": 10,
     "metadata": {},
     "output_type": "execute_result"
    },
    {
     "data": {
      "image/png": "[encoded data removed]",
      "text/plain": [
       "<Figure size 432x288 with 1 Axes>"
      ]
     },
     "metadata": {},
     "output_type": "display_data"
    }
   ],
   "source": [
    "# TODO: Analyse target distribution\n",
    "target = y_price\n",
    "title = 'Distribution of price'\n",
    "x_label = 'Price'\n",
    "plt.hist(target, bins=50)\n",
    "plt.title(title)\n",
    "plt.xlabel(x_label)"
   ]
  },
  {
   "cell_type": "code",
   "execution_count": 11,
   "id": "5afa122f",
   "metadata": {},
   "outputs": [
    {
     "data": {
      "text/plain": [
       "Text(0.5, 0, 'Price')"
      ]
     },
     "execution_count": 11,
     "metadata": {},
     "output_type": "execute_result"
    },
    {
     "data": {
      "image/png": "[encoded data removed]",
      "text/plain": [
       "<Figure size 432x288 with 1 Axes>"
      ]
     },
     "metadata": {},
     "output_type": "display_data"
    }
   ],
   "source": [
    "# TODO: Re-display the target distribution\n",
    "target = y_price\n",
    "title = \"Distribution of price in log scale\"\n",
    "x_label = \"Price\"\n",
    "plot_param = 'log'\n",
    "plot_param_value = True\n",
    "kwargs = {plot_param : plot_param_value}\n",
    "plt.hist(target, bins=50, **kwargs)\n",
    "plt.title(title)\n",
    "plt.xlabel(x_label)"
   ]
  },
  {
   "cell_type": "code",
   "execution_count": 12,
   "id": "ce209002",
   "metadata": {},
   "outputs": [
    {
     "data": {
      "text/html": [
       "<div>\n",
       "<style scoped>\n",
       "    .dataframe tbody tr th:only-of-type {\n",
       "        vertical-align: middle;\n",
       "    }\n",
       "\n",
       "    .dataframe tbody tr th {\n",
       "        vertical-align: top;\n",
       "    }\n",
       "\n",
       "    .dataframe thead th {\n",
       "        text-align: right;\n",
       "    }\n",
       "</style>\n",
       "<table border=\"1\" class=\"dataframe\">\n",
       "  <thead>\n",
       "    <tr style=\"text-align: right;\">\n",
       "      <th></th>\n",
       "      <th>nr cam</th>\n",
       "      <th>mp</th>\n",
       "      <th>parter</th>\n",
       "      <th>et1-2</th>\n",
       "      <th>et3+</th>\n",
       "      <th>etaj max</th>\n",
       "      <th>typ_decom</th>\n",
       "      <th>bloc nou</th>\n",
       "    </tr>\n",
       "  </thead>\n",
       "  <tbody>\n",
       "    <tr>\n",
       "      <th>nr cam</th>\n",
       "      <td>1.000000</td>\n",
       "      <td>0.777186</td>\n",
       "      <td>0.003816</td>\n",
       "      <td>-0.067465</td>\n",
       "      <td>0.062328</td>\n",
       "      <td>0.073172</td>\n",
       "      <td>-0.000365</td>\n",
       "      <td>-0.139376</td>\n",
       "    </tr>\n",
       "    <tr>\n",
       "      <th>mp</th>\n",
       "      <td>0.777186</td>\n",
       "      <td>1.000000</td>\n",
       "      <td>0.000869</td>\n",
       "      <td>-0.056167</td>\n",
       "      <td>0.053421</td>\n",
       "      <td>0.065719</td>\n",
       "      <td>0.087754</td>\n",
       "      <td>0.006321</td>\n",
       "    </tr>\n",
       "    <tr>\n",
       "      <th>parter</th>\n",
       "      <td>0.003816</td>\n",
       "      <td>0.000869</td>\n",
       "      <td>1.000000</td>\n",
       "      <td>-0.285501</td>\n",
       "      <td>-0.388748</td>\n",
       "      <td>-0.448826</td>\n",
       "      <td>0.004277</td>\n",
       "      <td>-0.002453</td>\n",
       "    </tr>\n",
       "    <tr>\n",
       "      <th>et1-2</th>\n",
       "      <td>-0.067465</td>\n",
       "      <td>-0.056167</td>\n",
       "      <td>-0.285501</td>\n",
       "      <td>1.000000</td>\n",
       "      <td>-0.772008</td>\n",
       "      <td>-0.500485</td>\n",
       "      <td>0.065535</td>\n",
       "      <td>0.187789</td>\n",
       "    </tr>\n",
       "    <tr>\n",
       "      <th>et3+</th>\n",
       "      <td>0.062328</td>\n",
       "      <td>0.053421</td>\n",
       "      <td>-0.388748</td>\n",
       "      <td>-0.772008</td>\n",
       "      <td>1.000000</td>\n",
       "      <td>0.778814</td>\n",
       "      <td>-0.065839</td>\n",
       "      <td>-0.178905</td>\n",
       "    </tr>\n",
       "    <tr>\n",
       "      <th>etaj max</th>\n",
       "      <td>0.073172</td>\n",
       "      <td>0.065719</td>\n",
       "      <td>-0.448826</td>\n",
       "      <td>-0.500485</td>\n",
       "      <td>0.778814</td>\n",
       "      <td>1.000000</td>\n",
       "      <td>-0.071077</td>\n",
       "      <td>-0.193046</td>\n",
       "    </tr>\n",
       "    <tr>\n",
       "      <th>typ_decom</th>\n",
       "      <td>-0.000365</td>\n",
       "      <td>0.087754</td>\n",
       "      <td>0.004277</td>\n",
       "      <td>0.065535</td>\n",
       "      <td>-0.065839</td>\n",
       "      <td>-0.071077</td>\n",
       "      <td>1.000000</td>\n",
       "      <td>0.213843</td>\n",
       "    </tr>\n",
       "    <tr>\n",
       "      <th>bloc nou</th>\n",
       "      <td>-0.139376</td>\n",
       "      <td>0.006321</td>\n",
       "      <td>-0.002453</td>\n",
       "      <td>0.187789</td>\n",
       "      <td>-0.178905</td>\n",
       "      <td>-0.193046</td>\n",
       "      <td>0.213843</td>\n",
       "      <td>1.000000</td>\n",
       "    </tr>\n",
       "  </tbody>\n",
       "</table>\n",
       "</div>"
      ],
      "text/plain": [
       "             nr cam        mp    parter     et1-2      et3+  etaj max  typ_decom  bloc nou\n",
       "nr cam     1.000000  0.777186  0.003816 -0.067465  0.062328  0.073172  -0.000365 -0.139376\n",
       "mp         0.777186  1.000000  0.000869 -0.056167  0.053421  0.065719   0.087754  0.006321\n",
       "parter     0.003816  0.000869  1.000000 -0.285501 -0.388748 -0.448826   0.004277 -0.002453\n",
       "et1-2     -0.067465 -0.056167 -0.285501  1.000000 -0.772008 -0.500485   0.065535  0.187789\n",
       "et3+       0.062328  0.053421 -0.388748 -0.772008  1.000000  0.778814  -0.065839 -0.178905\n",
       "etaj max   0.073172  0.065719 -0.448826 -0.500485  0.778814  1.000000  -0.071077 -0.193046\n",
       "typ_decom -0.000365  0.087754  0.004277  0.065535 -0.065839 -0.071077   1.000000  0.213843\n",
       "bloc nou  -0.139376  0.006321 -0.002453  0.187789 -0.178905 -0.193046   0.213843  1.000000"
      ]
     },
     "execution_count": 12,
     "metadata": {},
     "output_type": "execute_result"
    }
   ],
   "source": [
    "X.corr()"
   ]
  },
  {
   "cell_type": "code",
   "execution_count": 13,
   "id": "7c643f28",
   "metadata": {},
   "outputs": [],
   "source": [
    "new_corr_features = ['nr cam', 'mp', 'parter', 'et1-2', 'et3+','etaj max', 'typ_decom', 'bloc nou', 'Price']"
   ]
  },
  {
   "cell_type": "code",
   "execution_count": 14,
   "id": "83153d02",
   "metadata": {},
   "outputs": [],
   "source": [
    "df_new = df[new_corr_features]"
   ]
  },
  {
   "cell_type": "code",
   "execution_count": 15,
   "id": "5b913474",
   "metadata": {},
   "outputs": [
    {
     "data": {
      "text/html": [
       "<div>\n",
       "<style scoped>\n",
       "    .dataframe tbody tr th:only-of-type {\n",
       "        vertical-align: middle;\n",
       "    }\n",
       "\n",
       "    .dataframe tbody tr th {\n",
       "        vertical-align: top;\n",
       "    }\n",
       "\n",
       "    .dataframe thead th {\n",
       "        text-align: right;\n",
       "    }\n",
       "</style>\n",
       "<table border=\"1\" class=\"dataframe\">\n",
       "  <thead>\n",
       "    <tr style=\"text-align: right;\">\n",
       "      <th></th>\n",
       "      <th>nr cam</th>\n",
       "      <th>mp</th>\n",
       "      <th>parter</th>\n",
       "      <th>et1-2</th>\n",
       "      <th>et3+</th>\n",
       "      <th>etaj max</th>\n",
       "      <th>typ_decom</th>\n",
       "      <th>bloc nou</th>\n",
       "      <th>Price</th>\n",
       "    </tr>\n",
       "  </thead>\n",
       "  <tbody>\n",
       "    <tr>\n",
       "      <th>nr cam</th>\n",
       "      <td>1.000000</td>\n",
       "      <td>0.777186</td>\n",
       "      <td>0.003816</td>\n",
       "      <td>-0.067465</td>\n",
       "      <td>0.062328</td>\n",
       "      <td>0.073172</td>\n",
       "      <td>-0.000365</td>\n",
       "      <td>-0.139376</td>\n",
       "      <td>0.525333</td>\n",
       "    </tr>\n",
       "    <tr>\n",
       "      <th>mp</th>\n",
       "      <td>0.777186</td>\n",
       "      <td>1.000000</td>\n",
       "      <td>0.000869</td>\n",
       "      <td>-0.056167</td>\n",
       "      <td>0.053421</td>\n",
       "      <td>0.065719</td>\n",
       "      <td>0.087754</td>\n",
       "      <td>0.006321</td>\n",
       "      <td>0.770386</td>\n",
       "    </tr>\n",
       "    <tr>\n",
       "      <th>parter</th>\n",
       "      <td>0.003816</td>\n",
       "      <td>0.000869</td>\n",
       "      <td>1.000000</td>\n",
       "      <td>-0.285501</td>\n",
       "      <td>-0.388748</td>\n",
       "      <td>-0.448826</td>\n",
       "      <td>0.004277</td>\n",
       "      <td>-0.002453</td>\n",
       "      <td>-0.020806</td>\n",
       "    </tr>\n",
       "    <tr>\n",
       "      <th>et1-2</th>\n",
       "      <td>-0.067465</td>\n",
       "      <td>-0.056167</td>\n",
       "      <td>-0.285501</td>\n",
       "      <td>1.000000</td>\n",
       "      <td>-0.772008</td>\n",
       "      <td>-0.500485</td>\n",
       "      <td>0.065535</td>\n",
       "      <td>0.187789</td>\n",
       "      <td>-0.061217</td>\n",
       "    </tr>\n",
       "    <tr>\n",
       "      <th>et3+</th>\n",
       "      <td>0.062328</td>\n",
       "      <td>0.053421</td>\n",
       "      <td>-0.388748</td>\n",
       "      <td>-0.772008</td>\n",
       "      <td>1.000000</td>\n",
       "      <td>0.778814</td>\n",
       "      <td>-0.065839</td>\n",
       "      <td>-0.178905</td>\n",
       "      <td>0.072650</td>\n",
       "    </tr>\n",
       "    <tr>\n",
       "      <th>etaj max</th>\n",
       "      <td>0.073172</td>\n",
       "      <td>0.065719</td>\n",
       "      <td>-0.448826</td>\n",
       "      <td>-0.500485</td>\n",
       "      <td>0.778814</td>\n",
       "      <td>1.000000</td>\n",
       "      <td>-0.071077</td>\n",
       "      <td>-0.193046</td>\n",
       "      <td>0.091064</td>\n",
       "    </tr>\n",
       "    <tr>\n",
       "      <th>typ_decom</th>\n",
       "      <td>-0.000365</td>\n",
       "      <td>0.087754</td>\n",
       "      <td>0.004277</td>\n",
       "      <td>0.065535</td>\n",
       "      <td>-0.065839</td>\n",
       "      <td>-0.071077</td>\n",
       "      <td>1.000000</td>\n",
       "      <td>0.213843</td>\n",
       "      <td>0.034928</td>\n",
       "    </tr>\n",
       "    <tr>\n",
       "      <th>bloc nou</th>\n",
       "      <td>-0.139376</td>\n",
       "      <td>0.006321</td>\n",
       "      <td>-0.002453</td>\n",
       "      <td>0.187789</td>\n",
       "      <td>-0.178905</td>\n",
       "      <td>-0.193046</td>\n",
       "      <td>0.213843</td>\n",
       "      <td>1.000000</td>\n",
       "      <td>0.035021</td>\n",
       "    </tr>\n",
       "    <tr>\n",
       "      <th>Price</th>\n",
       "      <td>0.525333</td>\n",
       "      <td>0.770386</td>\n",
       "      <td>-0.020806</td>\n",
       "      <td>-0.061217</td>\n",
       "      <td>0.072650</td>\n",
       "      <td>0.091064</td>\n",
       "      <td>0.034928</td>\n",
       "      <td>0.035021</td>\n",
       "      <td>1.000000</td>\n",
       "    </tr>\n",
       "  </tbody>\n",
       "</table>\n",
       "</div>"
      ],
      "text/plain": [
       "             nr cam        mp    parter     et1-2      et3+  etaj max  typ_decom  bloc nou     Price\n",
       "nr cam     1.000000  0.777186  0.003816 -0.067465  0.062328  0.073172  -0.000365 -0.139376  0.525333\n",
       "mp         0.777186  1.000000  0.000869 -0.056167  0.053421  0.065719   0.087754  0.006321  0.770386\n",
       "parter     0.003816  0.000869  1.000000 -0.285501 -0.388748 -0.448826   0.004277 -0.002453 -0.020806\n",
       "et1-2     -0.067465 -0.056167 -0.285501  1.000000 -0.772008 -0.500485   0.065535  0.187789 -0.061217\n",
       "et3+       0.062328  0.053421 -0.388748 -0.772008  1.000000  0.778814  -0.065839 -0.178905  0.072650\n",
       "etaj max   0.073172  0.065719 -0.448826 -0.500485  0.778814  1.000000  -0.071077 -0.193046  0.091064\n",
       "typ_decom -0.000365  0.087754  0.004277  0.065535 -0.065839 -0.071077   1.000000  0.213843  0.034928\n",
       "bloc nou  -0.139376  0.006321 -0.002453  0.187789 -0.178905 -0.193046   0.213843  1.000000  0.035021\n",
       "Price      0.525333  0.770386 -0.020806 -0.061217  0.072650  0.091064   0.034928  0.035021  1.000000"
      ]
     },
     "execution_count": 15,
     "metadata": {},
     "output_type": "execute_result"
    }
   ],
   "source": [
    "df_new.corr()"
   ]
  },
  {
   "cell_type": "markdown",
   "id": "77104c52",
   "metadata": {},
   "source": [
    "## Modelling\n",
    "- further process X data maybe\n",
    "- construct normal eq and determine model coefs `(((XtX)^-1)Xt)y (y = x*w => w = y/x)`\n",
    "- validate results (how, when)\n",
    "\n",
    "`f(X) = y = X[0]*w[0] + X[1]*w[1] + .... X[N]*w[N] +X[N+1]*w[N+1] | X[N+1] == 1`"
   ]
  },
  {
   "cell_type": "code",
   "execution_count": 16,
   "id": "23c164ac",
   "metadata": {},
   "outputs": [
    {
     "data": {
      "text/plain": [
       "nr cam        2.505709\n",
       "mp           73.704865\n",
       "parter        0.125695\n",
       "et1-2         0.361827\n",
       "et3+          0.512479\n",
       "etaj max      3.336466\n",
       "typ_decom     0.717591\n",
       "bloc nou      0.593210\n",
       "dtype: float64"
      ]
     },
     "execution_count": 16,
     "metadata": {},
     "output_type": "execute_result"
    }
   ],
   "source": [
    "X.mean()"
   ]
  },
  {
   "cell_type": "code",
   "execution_count": 17,
   "id": "d544883f",
   "metadata": {},
   "outputs": [
    {
     "data": {
      "text/plain": [
       "nr cam        1.0\n",
       "mp           15.0\n",
       "parter        0.0\n",
       "et1-2         0.0\n",
       "et3+          0.0\n",
       "etaj max      0.0\n",
       "typ_decom     0.0\n",
       "bloc nou      0.0\n",
       "dtype: float64"
      ]
     },
     "execution_count": 17,
     "metadata": {},
     "output_type": "execute_result"
    }
   ],
   "source": [
    "X.min()"
   ]
  },
  {
   "cell_type": "code",
   "execution_count": 18,
   "id": "4e899d03",
   "metadata": {},
   "outputs": [
    {
     "data": {
      "text/plain": [
       "nr cam        0.950467\n",
       "mp           40.174869\n",
       "parter        0.331522\n",
       "et1-2         0.480553\n",
       "et3+          0.499870\n",
       "etaj max      2.818757\n",
       "typ_decom     0.450194\n",
       "bloc nou      0.491260\n",
       "dtype: float64"
      ]
     },
     "execution_count": 18,
     "metadata": {},
     "output_type": "execute_result"
    }
   ],
   "source": [
    "X.std()"
   ]
  },
  {
   "cell_type": "code",
   "execution_count": 19,
   "id": "da7811fd",
   "metadata": {},
   "outputs": [
    {
     "data": {
      "text/plain": [
       "nr cam        12.0\n",
       "mp           621.0\n",
       "parter         1.0\n",
       "et1-2          1.0\n",
       "et3+           1.0\n",
       "etaj max      18.0\n",
       "typ_decom      1.0\n",
       "bloc nou       1.0\n",
       "dtype: float64"
      ]
     },
     "execution_count": 19,
     "metadata": {},
     "output_type": "execute_result"
    }
   ],
   "source": [
    "X.max()"
   ]
  },
  {
   "cell_type": "code",
   "execution_count": 20,
   "id": "2ff21113",
   "metadata": {},
   "outputs": [],
   "source": [
    "np_X = X.values"
   ]
  },
  {
   "cell_type": "code",
   "execution_count": 21,
   "id": "92788300",
   "metadata": {
    "scrolled": false
   },
   "outputs": [
    {
     "data": {
      "text/plain": [
       "array([[  2.  ,  56.  ,   0.  ,   1.  ,   0.  ,   2.  ,   1.  ,   1.  ],\n",
       "       [  2.  ,  57.  ,   0.  ,   1.  ,   0.  ,   2.  ,   0.  ,   1.  ],\n",
       "       [  2.  ,  67.  ,   0.  ,   1.  ,   0.  ,   2.  ,   1.  ,   1.  ],\n",
       "       [  1.  ,  48.  ,   0.  ,   1.  ,   0.  ,   2.  ,   1.  ,   1.  ],\n",
       "       [  3.  ,  89.6 ,   0.  ,   0.  ,   1.  ,   3.  ,   1.  ,   1.  ],\n",
       "       [  2.  ,  65.  ,   0.  ,   1.  ,   0.  ,   2.  ,   1.  ,   1.  ],\n",
       "       [  2.  ,  46.  ,   0.  ,   0.  ,   1.  ,   4.  ,   1.  ,   1.  ],\n",
       "       [  6.  , 334.  ,   0.  ,   0.  ,   1.  ,  10.  ,   1.  ,   1.  ],\n",
       "       [  3.  , 104.26,   0.  ,   0.  ,   1.  ,  11.  ,   1.  ,   1.  ],\n",
       "       [  2.  ,  65.  ,   0.  ,   1.  ,   0.  ,   1.  ,   0.  ,   1.  ],\n",
       "       [  2.  ,  46.  ,   0.  ,   0.  ,   1.  ,   3.  ,   1.  ,   1.  ],\n",
       "       [  1.  ,  43.02,   1.  ,   0.  ,   0.  ,   0.  ,   1.  ,   1.  ],\n",
       "       [  3.  ,  80.23,   0.  ,   0.  ,   1.  ,   3.  ,   1.  ,   1.  ],\n",
       "       [  1.  ,  30.  ,   1.  ,   0.  ,   0.  ,   0.  ,   1.  ,   1.  ],\n",
       "       [  2.  ,  66.2 ,   0.  ,   1.  ,   0.  ,   2.  ,   1.  ,   1.  ],\n",
       "       [  4.  ,  90.39,   0.  ,   0.  ,   1.  ,   5.  ,   0.  ,   1.  ],\n",
       "       [  3.  ,  91.2 ,   0.  ,   0.  ,   1.  ,   3.  ,   0.  ,   1.  ],\n",
       "       [  2.  ,  56.  ,   0.  ,   1.  ,   0.  ,   2.  ,   1.  ,   1.  ],\n",
       "       [  2.  ,  70.24,   0.  ,   0.  ,   1.  ,   8.  ,   1.  ,   1.  ],\n",
       "       [  2.  ,  53.  ,   0.  ,   0.  ,   1.  ,   3.  ,   0.  ,   1.  ]])"
      ]
     },
     "execution_count": 21,
     "metadata": {},
     "output_type": "execute_result"
    }
   ],
   "source": [
    "np_X[:20]"
   ]
  },
  {
   "cell_type": "code",
   "execution_count": 22,
   "id": "8a1affd5",
   "metadata": {},
   "outputs": [
    {
     "data": {
      "text/plain": [
       "array([ 2.51, 73.7 ,  0.13,  0.36,  0.51,  3.34,  0.72,  0.59])"
      ]
     },
     "execution_count": 22,
     "metadata": {},
     "output_type": "execute_result"
    }
   ],
   "source": [
    "np_X.mean(axis=0)"
   ]
  },
  {
   "cell_type": "code",
   "execution_count": 23,
   "id": "f0b01063",
   "metadata": {},
   "outputs": [],
   "source": [
    "np_X_n = (np_X - np_X.mean(0)) / np_X.std(0)"
   ]
  },
  {
   "cell_type": "code",
   "execution_count": 24,
   "id": "85c7087a",
   "metadata": {},
   "outputs": [
    {
     "data": {
      "text/plain": [
       "array([[-0.53, -0.44, -0.38,  1.33, -1.03, -0.47,  0.63,  0.83],\n",
       "       [-0.53, -0.42, -0.38,  1.33, -1.03, -0.47, -1.59,  0.83],\n",
       "       [-0.53, -0.17, -0.38,  1.33, -1.03, -0.47,  0.63,  0.83],\n",
       "       [-1.58, -0.64, -0.38,  1.33, -1.03, -0.47,  0.63,  0.83],\n",
       "       [ 0.52,  0.4 , -0.38, -0.75,  0.98, -0.12,  0.63,  0.83],\n",
       "       [-0.53, -0.22, -0.38,  1.33, -1.03, -0.47,  0.63,  0.83],\n",
       "       [-0.53, -0.69, -0.38, -0.75,  0.98,  0.24,  0.63,  0.83],\n",
       "       [ 3.68,  6.48, -0.38, -0.75,  0.98,  2.36,  0.63,  0.83],\n",
       "       [ 0.52,  0.76, -0.38, -0.75,  0.98,  2.72,  0.63,  0.83],\n",
       "       [-0.53, -0.22, -0.38,  1.33, -1.03, -0.83, -1.59,  0.83],\n",
       "       [-0.53, -0.69, -0.38, -0.75,  0.98, -0.12,  0.63,  0.83],\n",
       "       [-1.58, -0.76,  2.64, -0.75, -1.03, -1.18,  0.63,  0.83],\n",
       "       [ 0.52,  0.16, -0.38, -0.75,  0.98, -0.12,  0.63,  0.83],\n",
       "       [-1.58, -1.09,  2.64, -0.75, -1.03, -1.18,  0.63,  0.83],\n",
       "       [-0.53, -0.19, -0.38,  1.33, -1.03, -0.47,  0.63,  0.83],\n",
       "       [ 1.57,  0.42, -0.38, -0.75,  0.98,  0.59, -1.59,  0.83],\n",
       "       [ 0.52,  0.44, -0.38, -0.75,  0.98, -0.12, -1.59,  0.83],\n",
       "       [-0.53, -0.44, -0.38,  1.33, -1.03, -0.47,  0.63,  0.83],\n",
       "       [-0.53, -0.09, -0.38, -0.75,  0.98,  1.65,  0.63,  0.83],\n",
       "       [-0.53, -0.52, -0.38, -0.75,  0.98, -0.12, -1.59,  0.83]])"
      ]
     },
     "execution_count": 24,
     "metadata": {},
     "output_type": "execute_result"
    }
   ],
   "source": [
    "np_X_n[:20]"
   ]
  },
  {
   "cell_type": "code",
   "execution_count": 25,
   "id": "313a4cae",
   "metadata": {},
   "outputs": [
    {
     "data": {
      "text/plain": [
       "array([  35800,   35800,   39600,   29800,  112900,   37400,   39500, 2350000,  332000,   39900,   39500,   42766,   88253,   26800,   93000,  135000,  115000,   39500,   55192,   69900], dtype=int64)"
      ]
     },
     "execution_count": 25,
     "metadata": {},
     "output_type": "execute_result"
    }
   ],
   "source": [
    "np_y = y_price.values\n",
    "np_y[:20]"
   ]
  },
  {
   "cell_type": "code",
   "execution_count": 26,
   "id": "e045e61c",
   "metadata": {},
   "outputs": [
    {
     "data": {
      "text/plain": [
       "array([0.  , 0.  , 0.01, 0.  , 0.02, 0.01, 0.01, 0.6 , 0.08, 0.01, 0.01, 0.01, 0.02, 0.  , 0.02, 0.03, 0.03, 0.01, 0.01, 0.01])"
      ]
     },
     "execution_count": 26,
     "metadata": {},
     "output_type": "execute_result"
    }
   ],
   "source": [
    "\n",
    "np_y_n = (np_y - np_y.min()) / (np_y.max() - np_y.min())\n",
    "np_y_n[:20]"
   ]
  },
  {
   "cell_type": "code",
   "execution_count": 27,
   "id": "be241ae2",
   "metadata": {},
   "outputs": [
    {
     "data": {
      "text/plain": [
       "18000"
      ]
     },
     "execution_count": 27,
     "metadata": {},
     "output_type": "execute_result"
    }
   ],
   "source": [
    "np_y.min()\n"
   ]
  },
  {
   "cell_type": "code",
   "execution_count": 28,
   "id": "af98e5ba",
   "metadata": {},
   "outputs": [
    {
     "data": {
      "text/plain": [
       "3880000"
      ]
     },
     "execution_count": 28,
     "metadata": {},
     "output_type": "execute_result"
    }
   ],
   "source": [
    "np_y.max()"
   ]
  },
  {
   "cell_type": "code",
   "execution_count": 29,
   "id": "fa676245",
   "metadata": {},
   "outputs": [
    {
     "data": {
      "text/plain": [
       "array([  35800.,   35800.,   39600.,   29800.,  112900.,   37400.,   39500., 2350000.,  332000.,   39900.,   39500.,   42766.,   88253.,   26800.,   93000.,  135000.,  115000.,   39500.,   55192.,   69900.])"
      ]
     },
     "execution_count": 29,
     "metadata": {},
     "output_type": "execute_result"
    }
   ],
   "source": [
    "y_norm_sub = np_y.min()\n",
    "y_norm_div = np_y.max() - np_y.min()\n",
    "y_test = np_y_n * y_norm_div + y_norm_sub\n",
    "y_test[:20]"
   ]
  },
  {
   "cell_type": "code",
   "execution_count": 30,
   "id": "16e3b9d4",
   "metadata": {},
   "outputs": [],
   "source": [
    "# TODO: write normal eq for raw data\n",
    "np_weights = np.linalg.pinv(np_X.T.dot(np_X)).dot(np_X.T).dot(np_y)\n",
    "\n",
    "# TODO: write normal eq for normalized data\n",
    "np_weights_n = np.linalg.pinv(np_X_n.T.dot(np_X_n)).dot(np_X_n.T).dot(np_y_n)\n"
   ]
  },
  {
   "cell_type": "code",
   "execution_count": 31,
   "id": "17612e6f",
   "metadata": {},
   "outputs": [
    {
     "data": {
      "text/plain": [
       "array([-35253.17,   4068.76, -77652.97, -77536.51, -76809.97,   2762.81, -18637.49,   7934.74])"
      ]
     },
     "execution_count": 31,
     "metadata": {},
     "output_type": "execute_result"
    }
   ],
   "source": [
    "np_weights"
   ]
  },
  {
   "cell_type": "code",
   "execution_count": 32,
   "id": "e92a8344",
   "metadata": {},
   "outputs": [
    {
     "data": {
      "text/plain": [
       "array([-0.01,  0.04, -0.  ,  0.  ,  0.  ,  0.  , -0.  ,  0.  ])"
      ]
     },
     "execution_count": 32,
     "metadata": {},
     "output_type": "execute_result"
    }
   ],
   "source": [
    "np_weights_n"
   ]
  },
  {
   "cell_type": "code",
   "execution_count": 33,
   "id": "4485a963",
   "metadata": {},
   "outputs": [],
   "source": [
    "#TODO: calc predictions for raw data model\n",
    "np_y_preds = np_X.dot(np_weights)\n",
    "\n",
    "#TODO: calc predictions for normalized data model\n",
    "np_y_preds_n = np_X_n.dot(np_weights_n)"
   ]
  },
  {
   "cell_type": "code",
   "execution_count": 34,
   "id": "3d4795c7",
   "metadata": {},
   "outputs": [
    {
     "data": {
      "text/plain": [
       "array([  74630.73,   97336.97,  119387.11,   77333.79,  179577.32,  111249.59,   40195.26, 1087562.99,  261327.85,  127124.26,   37432.45,   51429.28,  141453.02,   -1546.01,  116132.1 ,  171701.58,  204724.82,   74630.73,  149873.29,   84551.27])"
      ]
     },
     "execution_count": 34,
     "metadata": {},
     "output_type": "execute_result"
    }
   ],
   "source": [
    "np_y_preds[:20]"
   ]
  },
  {
   "cell_type": "code",
   "execution_count": 35,
   "id": "fa77cb75",
   "metadata": {},
   "outputs": [
    {
     "data": {
      "text/plain": [
       "Text(0.5, 1.0, 'Normed data model predictions')"
      ]
     },
     "execution_count": 35,
     "metadata": {},
     "output_type": "execute_result"
    },
    {
     "data": {
      "image/png": "[encoded data removed]",
      "text/plain": [
       "<Figure size 432x288 with 1 Axes>"
      ]
     },
     "metadata": {},
     "output_type": "display_data"
    },
    {
     "data": {
      "image/png": "[encoded data removed]",
      "text/plain": [
       "<Figure size 432x288 with 1 Axes>"
      ]
     },
     "metadata": {},
     "output_type": "display_data"
    }
   ],
   "source": [
    "plt.figure()\n",
    "plt.hist(np_y_preds)\n",
    "plt.title('Raw model predictions')\n",
    "plt.figure()\n",
    "plt.hist(np_y_preds_n)\n",
    "plt.title('Normed data model predictions')"
   ]
  },
  {
   "cell_type": "markdown",
   "id": "3d6aa458",
   "metadata": {},
   "source": [
    "### One more model before testing results\n",
    "\n",
    "Lets further improve model by adding bias"
   ]
  },
  {
   "cell_type": "code",
   "execution_count": 36,
   "id": "c3a1d320",
   "metadata": {
    "scrolled": false
   },
   "outputs": [
    {
     "data": {
      "text/plain": [
       "array([[1.],\n",
       "       [1.],\n",
       "       [1.],\n",
       "       [1.],\n",
       "       [1.],\n",
       "       [1.],\n",
       "       [1.],\n",
       "       [1.],\n",
       "       [1.],\n",
       "       [1.],\n",
       "       [1.],\n",
       "       [1.],\n",
       "       [1.],\n",
       "       [1.],\n",
       "       [1.],\n",
       "       [1.],\n",
       "       [1.],\n",
       "       [1.],\n",
       "       [1.],\n",
       "       [1.]])"
      ]
     },
     "execution_count": 36,
     "metadata": {},
     "output_type": "execute_result"
    }
   ],
   "source": [
    "ones = np.ones(shape=(np_X_n.shape[0], 1))\n",
    "ones[:20]"
   ]
  },
  {
   "cell_type": "code",
   "execution_count": 37,
   "id": "20b49206",
   "metadata": {},
   "outputs": [
    {
     "data": {
      "text/plain": [
       "array([[-0.53, -0.44, -0.38,  1.33, -1.03, -0.47,  0.63,  0.83,  1.  ],\n",
       "       [-0.53, -0.42, -0.38,  1.33, -1.03, -0.47, -1.59,  0.83,  1.  ],\n",
       "       [-0.53, -0.17, -0.38,  1.33, -1.03, -0.47,  0.63,  0.83,  1.  ],\n",
       "       [-1.58, -0.64, -0.38,  1.33, -1.03, -0.47,  0.63,  0.83,  1.  ],\n",
       "       [ 0.52,  0.4 , -0.38, -0.75,  0.98, -0.12,  0.63,  0.83,  1.  ],\n",
       "       [-0.53, -0.22, -0.38,  1.33, -1.03, -0.47,  0.63,  0.83,  1.  ],\n",
       "       [-0.53, -0.69, -0.38, -0.75,  0.98,  0.24,  0.63,  0.83,  1.  ],\n",
       "       [ 3.68,  6.48, -0.38, -0.75,  0.98,  2.36,  0.63,  0.83,  1.  ],\n",
       "       [ 0.52,  0.76, -0.38, -0.75,  0.98,  2.72,  0.63,  0.83,  1.  ],\n",
       "       [-0.53, -0.22, -0.38,  1.33, -1.03, -0.83, -1.59,  0.83,  1.  ],\n",
       "       [-0.53, -0.69, -0.38, -0.75,  0.98, -0.12,  0.63,  0.83,  1.  ],\n",
       "       [-1.58, -0.76,  2.64, -0.75, -1.03, -1.18,  0.63,  0.83,  1.  ],\n",
       "       [ 0.52,  0.16, -0.38, -0.75,  0.98, -0.12,  0.63,  0.83,  1.  ],\n",
       "       [-1.58, -1.09,  2.64, -0.75, -1.03, -1.18,  0.63,  0.83,  1.  ],\n",
       "       [-0.53, -0.19, -0.38,  1.33, -1.03, -0.47,  0.63,  0.83,  1.  ],\n",
       "       [ 1.57,  0.42, -0.38, -0.75,  0.98,  0.59, -1.59,  0.83,  1.  ],\n",
       "       [ 0.52,  0.44, -0.38, -0.75,  0.98, -0.12, -1.59,  0.83,  1.  ],\n",
       "       [-0.53, -0.44, -0.38,  1.33, -1.03, -0.47,  0.63,  0.83,  1.  ],\n",
       "       [-0.53, -0.09, -0.38, -0.75,  0.98,  1.65,  0.63,  0.83,  1.  ],\n",
       "       [-0.53, -0.52, -0.38, -0.75,  0.98, -0.12, -1.59,  0.83,  1.  ]])"
      ]
     },
     "execution_count": 37,
     "metadata": {},
     "output_type": "execute_result"
    }
   ],
   "source": [
    "np_X_nb = np.concatenate((np_X_n, ones), axis=-1)\n",
    "np_X_nb[:20]"
   ]
  },
  {
   "cell_type": "code",
   "execution_count": 38,
   "id": "643c832a",
   "metadata": {},
   "outputs": [
    {
     "data": {
      "text/plain": [
       "array([-0.01,  0.04, -0.  , -0.  ,  0.  ,  0.  , -0.  ,  0.  ,  0.03])"
      ]
     },
     "execution_count": 38,
     "metadata": {},
     "output_type": "execute_result"
    }
   ],
   "source": [
    "# TODO: calculate weights\n",
    "np_weights_nb = np.linalg.inv(np_X_nb.T.dot(np_X_nb) + 0.02 * np.eye(np_X_nb.shape[1])).dot(np_X_nb.T).dot(np_y_n)\n",
    "np_weights_nb"
   ]
  },
  {
   "cell_type": "code",
   "execution_count": 39,
   "id": "299903cf",
   "metadata": {},
   "outputs": [
    {
     "data": {
      "text/plain": [
       "array([ 0.01,  0.02,  0.03,  0.02,  0.04,  0.02,  0.01,  0.28,  0.06,  0.03,  0.01,  0.01,  0.03, -0.01,  0.03,  0.04,  0.05,  0.01,  0.03,  0.02])"
      ]
     },
     "execution_count": 39,
     "metadata": {},
     "output_type": "execute_result"
    }
   ],
   "source": [
    "# TODO: calculate predictions\n",
    "np_y_preds_nb = np_X_nb.dot(np_weights_nb)\n",
    "np_y_preds_nb[:20]"
   ]
  },
  {
   "cell_type": "code",
   "execution_count": 40,
   "id": "5681aac7",
   "metadata": {},
   "outputs": [
    {
     "data": {
      "text/plain": [
       "(array([  21.,  628., 2177., 3021., 1719.,  772.,  433.,  269.,  199.,  143.,  107.,   98.,   78.,   41.,   35.,   30.,   13.,   27.,   15.,   16.,   11.,   13.,    4.,    2.,    2.,    4.,    2.,    2.,    3.,    0.,    1.,    1.,    2.,    0.,    1.,    0.,    0.,    1.,    1.,    2.,    0.,    0.,    0.,    1.,    0.,    0.,    1.,    0.,    0.,    1.]),\n",
       " array([-0.02, -0.01,  0.  ,  0.01,  0.02,  0.04,  0.05,  0.06,  0.07,  0.08,  0.09,  0.11,  0.12,  0.13,  0.14,  0.15,  0.17,  0.18,  0.19,  0.2 ,  0.21,  0.22,  0.24,  0.25,  0.26,  0.27,  0.28,  0.29,  0.31,  0.32,  0.33,  0.34,  0.35,  0.36,  0.38,  0.39,  0.4 ,  0.41,  0.42,  0.43,  0.45,  0.46,  0.47,  0.48,  0.49,  0.5 ,  0.52,  0.53,  0.54,  0.55,  0.56]),\n",
       " <BarContainer object of 50 artists>)"
      ]
     },
     "execution_count": 40,
     "metadata": {},
     "output_type": "execute_result"
    },
    {
     "data": {
      "image/png": "[encoded data removed]",
      "text/plain": [
       "<Figure size 432x288 with 1 Axes>"
      ]
     },
     "metadata": {},
     "output_type": "display_data"
    }
   ],
   "source": [
    "plt.hist(np_y_preds_nb, bins=50)"
   ]
  },
  {
   "cell_type": "code",
   "execution_count": 41,
   "id": "ab6091bf",
   "metadata": {},
   "outputs": [],
   "source": [
    "np_y_pred_price = np_y_preds\n",
    "np_y_pred_n_price = np_y_preds_n * y_norm_div + y_norm_sub\n",
    "np_y_pred_nb_price = np_y_preds_nb  * y_norm_div + y_norm_sub"
   ]
  },
  {
   "cell_type": "markdown",
   "id": "2fc606b6",
   "metadata": {},
   "source": [
    "### Now lets prepare some friendly calitative analysis outputs"
   ]
  },
  {
   "cell_type": "markdown",
   "id": "f6e48092",
   "metadata": {},
   "source": [
    "Raw model"
   ]
  },
  {
   "cell_type": "code",
   "execution_count": 42,
   "id": "3e48e3dd",
   "metadata": {},
   "outputs": [
    {
     "data": {
      "text/html": [
       "<div>\n",
       "<style scoped>\n",
       "    .dataframe tbody tr th:only-of-type {\n",
       "        vertical-align: middle;\n",
       "    }\n",
       "\n",
       "    .dataframe tbody tr th {\n",
       "        vertical-align: top;\n",
       "    }\n",
       "\n",
       "    .dataframe thead th {\n",
       "        text-align: right;\n",
       "    }\n",
       "</style>\n",
       "<table border=\"1\" class=\"dataframe\">\n",
       "  <thead>\n",
       "    <tr style=\"text-align: right;\">\n",
       "      <th></th>\n",
       "      <th>GOLD</th>\n",
       "      <th>PRED</th>\n",
       "    </tr>\n",
       "  </thead>\n",
       "  <tbody>\n",
       "    <tr>\n",
       "      <th>9887</th>\n",
       "      <td>47000</td>\n",
       "      <td>43077.0</td>\n",
       "    </tr>\n",
       "    <tr>\n",
       "      <th>9888</th>\n",
       "      <td>34500</td>\n",
       "      <td>-28459.0</td>\n",
       "    </tr>\n",
       "    <tr>\n",
       "      <th>9889</th>\n",
       "      <td>56000</td>\n",
       "      <td>28301.0</td>\n",
       "    </tr>\n",
       "    <tr>\n",
       "      <th>9890</th>\n",
       "      <td>101000</td>\n",
       "      <td>139731.0</td>\n",
       "    </tr>\n",
       "    <tr>\n",
       "      <th>9891</th>\n",
       "      <td>79524</td>\n",
       "      <td>88871.0</td>\n",
       "    </tr>\n",
       "    <tr>\n",
       "      <th>9892</th>\n",
       "      <td>85000</td>\n",
       "      <td>170468.0</td>\n",
       "    </tr>\n",
       "    <tr>\n",
       "      <th>9893</th>\n",
       "      <td>134999</td>\n",
       "      <td>166740.0</td>\n",
       "    </tr>\n",
       "    <tr>\n",
       "      <th>9894</th>\n",
       "      <td>59000</td>\n",
       "      <td>59036.0</td>\n",
       "    </tr>\n",
       "    <tr>\n",
       "      <th>9895</th>\n",
       "      <td>110000</td>\n",
       "      <td>120766.0</td>\n",
       "    </tr>\n",
       "    <tr>\n",
       "      <th>9896</th>\n",
       "      <td>61500</td>\n",
       "      <td>30692.0</td>\n",
       "    </tr>\n",
       "  </tbody>\n",
       "</table>\n",
       "</div>"
      ],
      "text/plain": [
       "        GOLD      PRED\n",
       "9887   47000   43077.0\n",
       "9888   34500  -28459.0\n",
       "9889   56000   28301.0\n",
       "9890  101000  139731.0\n",
       "9891   79524   88871.0\n",
       "9892   85000  170468.0\n",
       "9893  134999  166740.0\n",
       "9894   59000   59036.0\n",
       "9895  110000  120766.0\n",
       "9896   61500   30692.0"
      ]
     },
     "execution_count": 42,
     "metadata": {},
     "output_type": "execute_result"
    }
   ],
   "source": [
    "df_result_raw = pd.DataFrame(\n",
    "    {\n",
    "        'GOLD' : y_price,\n",
    "        'PRED' : np_y_pred_price.round(0),\n",
    "    }\n",
    ")\n",
    "df_result_raw.head(10)\n",
    "df_result_raw.tail(10)"
   ]
  },
  {
   "cell_type": "markdown",
   "id": "da397496",
   "metadata": {},
   "source": [
    "Normed data model"
   ]
  },
  {
   "cell_type": "code",
   "execution_count": 43,
   "id": "2626c87f",
   "metadata": {},
   "outputs": [
    {
     "data": {
      "text/html": [
       "<div>\n",
       "<style scoped>\n",
       "    .dataframe tbody tr th:only-of-type {\n",
       "        vertical-align: middle;\n",
       "    }\n",
       "\n",
       "    .dataframe tbody tr th {\n",
       "        vertical-align: top;\n",
       "    }\n",
       "\n",
       "    .dataframe thead th {\n",
       "        text-align: right;\n",
       "    }\n",
       "</style>\n",
       "<table border=\"1\" class=\"dataframe\">\n",
       "  <thead>\n",
       "    <tr style=\"text-align: right;\">\n",
       "      <th></th>\n",
       "      <th>GOLD</th>\n",
       "      <th>PRED</th>\n",
       "    </tr>\n",
       "  </thead>\n",
       "  <tbody>\n",
       "    <tr>\n",
       "      <th>9887</th>\n",
       "      <td>47000</td>\n",
       "      <td>-73545.0</td>\n",
       "    </tr>\n",
       "    <tr>\n",
       "      <th>9888</th>\n",
       "      <td>34500</td>\n",
       "      <td>-145613.0</td>\n",
       "    </tr>\n",
       "    <tr>\n",
       "      <th>9889</th>\n",
       "      <td>56000</td>\n",
       "      <td>-88853.0</td>\n",
       "    </tr>\n",
       "    <tr>\n",
       "      <th>9890</th>\n",
       "      <td>101000</td>\n",
       "      <td>23109.0</td>\n",
       "    </tr>\n",
       "    <tr>\n",
       "      <th>9891</th>\n",
       "      <td>79524</td>\n",
       "      <td>-27751.0</td>\n",
       "    </tr>\n",
       "    <tr>\n",
       "      <th>9892</th>\n",
       "      <td>85000</td>\n",
       "      <td>53385.0</td>\n",
       "    </tr>\n",
       "    <tr>\n",
       "      <th>9893</th>\n",
       "      <td>134999</td>\n",
       "      <td>49657.0</td>\n",
       "    </tr>\n",
       "    <tr>\n",
       "      <th>9894</th>\n",
       "      <td>59000</td>\n",
       "      <td>-58048.0</td>\n",
       "    </tr>\n",
       "    <tr>\n",
       "      <th>9895</th>\n",
       "      <td>110000</td>\n",
       "      <td>3683.0</td>\n",
       "    </tr>\n",
       "    <tr>\n",
       "      <th>9896</th>\n",
       "      <td>61500</td>\n",
       "      <td>-86391.0</td>\n",
       "    </tr>\n",
       "  </tbody>\n",
       "</table>\n",
       "</div>"
      ],
      "text/plain": [
       "        GOLD      PRED\n",
       "9887   47000  -73545.0\n",
       "9888   34500 -145613.0\n",
       "9889   56000  -88853.0\n",
       "9890  101000   23109.0\n",
       "9891   79524  -27751.0\n",
       "9892   85000   53385.0\n",
       "9893  134999   49657.0\n",
       "9894   59000  -58048.0\n",
       "9895  110000    3683.0\n",
       "9896   61500  -86391.0"
      ]
     },
     "execution_count": 43,
     "metadata": {},
     "output_type": "execute_result"
    }
   ],
   "source": [
    "df_result_n = pd.DataFrame(\n",
    "    {\n",
    "        'GOLD' : y_price,\n",
    "        'PRED' : np_y_pred_n_price.round(0),\n",
    "    }\n",
    ")\n",
    "df_result_n.head(10)\n",
    "df_result_n.tail(10)"
   ]
  },
  {
   "cell_type": "markdown",
   "id": "5c6bb0dd",
   "metadata": {},
   "source": [
    "Normed & bias added"
   ]
  },
  {
   "cell_type": "code",
   "execution_count": 45,
   "id": "ce27b9fe",
   "metadata": {
    "scrolled": true
   },
   "outputs": [
    {
     "data": {
      "text/html": [
       "<div>\n",
       "<style scoped>\n",
       "    .dataframe tbody tr th:only-of-type {\n",
       "        vertical-align: middle;\n",
       "    }\n",
       "\n",
       "    .dataframe tbody tr th {\n",
       "        vertical-align: top;\n",
       "    }\n",
       "\n",
       "    .dataframe thead th {\n",
       "        text-align: right;\n",
       "    }\n",
       "</style>\n",
       "<table border=\"1\" class=\"dataframe\">\n",
       "  <thead>\n",
       "    <tr style=\"text-align: right;\">\n",
       "      <th></th>\n",
       "      <th>GOLD</th>\n",
       "      <th>PRED</th>\n",
       "    </tr>\n",
       "  </thead>\n",
       "  <tbody>\n",
       "    <tr>\n",
       "      <th>9887</th>\n",
       "      <td>47000</td>\n",
       "      <td>43077.0</td>\n",
       "    </tr>\n",
       "    <tr>\n",
       "      <th>9888</th>\n",
       "      <td>34500</td>\n",
       "      <td>-28459.0</td>\n",
       "    </tr>\n",
       "    <tr>\n",
       "      <th>9889</th>\n",
       "      <td>56000</td>\n",
       "      <td>28301.0</td>\n",
       "    </tr>\n",
       "    <tr>\n",
       "      <th>9890</th>\n",
       "      <td>101000</td>\n",
       "      <td>139730.0</td>\n",
       "    </tr>\n",
       "    <tr>\n",
       "      <th>9891</th>\n",
       "      <td>79524</td>\n",
       "      <td>88871.0</td>\n",
       "    </tr>\n",
       "    <tr>\n",
       "      <th>9892</th>\n",
       "      <td>85000</td>\n",
       "      <td>170469.0</td>\n",
       "    </tr>\n",
       "    <tr>\n",
       "      <th>9893</th>\n",
       "      <td>134999</td>\n",
       "      <td>166740.0</td>\n",
       "    </tr>\n",
       "    <tr>\n",
       "      <th>9894</th>\n",
       "      <td>59000</td>\n",
       "      <td>59035.0</td>\n",
       "    </tr>\n",
       "    <tr>\n",
       "      <th>9895</th>\n",
       "      <td>110000</td>\n",
       "      <td>120767.0</td>\n",
       "    </tr>\n",
       "    <tr>\n",
       "      <th>9896</th>\n",
       "      <td>61500</td>\n",
       "      <td>30692.0</td>\n",
       "    </tr>\n",
       "  </tbody>\n",
       "</table>\n",
       "</div>"
      ],
      "text/plain": [
       "        GOLD      PRED\n",
       "9887   47000   43077.0\n",
       "9888   34500  -28459.0\n",
       "9889   56000   28301.0\n",
       "9890  101000  139730.0\n",
       "9891   79524   88871.0\n",
       "9892   85000  170469.0\n",
       "9893  134999  166740.0\n",
       "9894   59000   59035.0\n",
       "9895  110000  120767.0\n",
       "9896   61500   30692.0"
      ]
     },
     "execution_count": 45,
     "metadata": {},
     "output_type": "execute_result"
    }
   ],
   "source": [
    "\n",
    "df_result_nb = pd.DataFrame(\n",
    "    {\n",
    "        'GOLD' : y_price,\n",
    "        'PRED' : np_y_pred_nb_price.round(0),\n",
    "    }\n",
    ")\n",
    "df_result_nb.head(10)\n",
    "df_result_nb.tail(10)"
   ]
  },
  {
   "cell_type": "markdown",
   "id": "3fedbe4f",
   "metadata": {},
   "source": [
    "Now lets see some quantitative analysis of the results"
   ]
  },
  {
   "cell_type": "code",
   "execution_count": 46,
   "id": "8e0d15ba",
   "metadata": {},
   "outputs": [
    {
     "data": {
      "text/plain": [
       "0       38830.583013\n",
       "1       61536.616239\n",
       "2       79786.689664\n",
       "3       47532.935938\n",
       "4       66677.306676\n",
       "            ...     \n",
       "9892    85468.921492\n",
       "9893    31741.189063\n",
       "9894       35.241695\n",
       "9895    10767.070957\n",
       "9896    30808.428334\n",
       "Name: Price, Length: 9897, dtype: float64"
      ]
     },
     "execution_count": 46,
     "metadata": {},
     "output_type": "execute_result"
    }
   ],
   "source": [
    "# TODO: complete code below\n",
    "abs_err = np.abs(y_price - np_y_pred_nb_price)\n",
    "abs_err"
   ]
  },
  {
   "cell_type": "code",
   "execution_count": 47,
   "id": "b640f3ea",
   "metadata": {},
   "outputs": [],
   "source": [
    "proc_err = abs_err / y_price\n",
    "proc_err = proc_err * 100"
   ]
  },
  {
   "cell_type": "code",
   "execution_count": 48,
   "id": "3fc83f57",
   "metadata": {},
   "outputs": [
    {
     "data": {
      "text/html": [
       "<div>\n",
       "<style scoped>\n",
       "    .dataframe tbody tr th:only-of-type {\n",
       "        vertical-align: middle;\n",
       "    }\n",
       "\n",
       "    .dataframe tbody tr th {\n",
       "        vertical-align: top;\n",
       "    }\n",
       "\n",
       "    .dataframe thead th {\n",
       "        text-align: right;\n",
       "    }\n",
       "</style>\n",
       "<table border=\"1\" class=\"dataframe\">\n",
       "  <thead>\n",
       "    <tr style=\"text-align: right;\">\n",
       "      <th></th>\n",
       "      <th>GOLD</th>\n",
       "      <th>PRED</th>\n",
       "      <th>ERR%</th>\n",
       "    </tr>\n",
       "  </thead>\n",
       "  <tbody>\n",
       "    <tr>\n",
       "      <th>0</th>\n",
       "      <td>35800</td>\n",
       "      <td>74631.0</td>\n",
       "      <td>108.47</td>\n",
       "    </tr>\n",
       "    <tr>\n",
       "      <th>1</th>\n",
       "      <td>35800</td>\n",
       "      <td>97337.0</td>\n",
       "      <td>171.89</td>\n",
       "    </tr>\n",
       "    <tr>\n",
       "      <th>2</th>\n",
       "      <td>39600</td>\n",
       "      <td>119387.0</td>\n",
       "      <td>201.48</td>\n",
       "    </tr>\n",
       "    <tr>\n",
       "      <th>3</th>\n",
       "      <td>29800</td>\n",
       "      <td>77333.0</td>\n",
       "      <td>159.51</td>\n",
       "    </tr>\n",
       "    <tr>\n",
       "      <th>4</th>\n",
       "      <td>112900</td>\n",
       "      <td>179577.0</td>\n",
       "      <td>59.06</td>\n",
       "    </tr>\n",
       "    <tr>\n",
       "      <th>5</th>\n",
       "      <td>37400</td>\n",
       "      <td>111249.0</td>\n",
       "      <td>197.46</td>\n",
       "    </tr>\n",
       "    <tr>\n",
       "      <th>6</th>\n",
       "      <td>39500</td>\n",
       "      <td>40195.0</td>\n",
       "      <td>1.76</td>\n",
       "    </tr>\n",
       "    <tr>\n",
       "      <th>7</th>\n",
       "      <td>2350000</td>\n",
       "      <td>1087560.0</td>\n",
       "      <td>53.72</td>\n",
       "    </tr>\n",
       "    <tr>\n",
       "      <th>8</th>\n",
       "      <td>332000</td>\n",
       "      <td>261327.0</td>\n",
       "      <td>21.29</td>\n",
       "    </tr>\n",
       "    <tr>\n",
       "      <th>9</th>\n",
       "      <td>39900</td>\n",
       "      <td>127124.0</td>\n",
       "      <td>218.61</td>\n",
       "    </tr>\n",
       "    <tr>\n",
       "      <th>10</th>\n",
       "      <td>39500</td>\n",
       "      <td>37433.0</td>\n",
       "      <td>5.23</td>\n",
       "    </tr>\n",
       "    <tr>\n",
       "      <th>11</th>\n",
       "      <td>42766</td>\n",
       "      <td>51429.0</td>\n",
       "      <td>20.26</td>\n",
       "    </tr>\n",
       "    <tr>\n",
       "      <th>12</th>\n",
       "      <td>88253</td>\n",
       "      <td>141453.0</td>\n",
       "      <td>60.28</td>\n",
       "    </tr>\n",
       "    <tr>\n",
       "      <th>13</th>\n",
       "      <td>26800</td>\n",
       "      <td>-1546.0</td>\n",
       "      <td>105.77</td>\n",
       "    </tr>\n",
       "    <tr>\n",
       "      <th>14</th>\n",
       "      <td>93000</td>\n",
       "      <td>116132.0</td>\n",
       "      <td>24.87</td>\n",
       "    </tr>\n",
       "    <tr>\n",
       "      <th>15</th>\n",
       "      <td>135000</td>\n",
       "      <td>171702.0</td>\n",
       "      <td>27.19</td>\n",
       "    </tr>\n",
       "    <tr>\n",
       "      <th>16</th>\n",
       "      <td>115000</td>\n",
       "      <td>204725.0</td>\n",
       "      <td>78.02</td>\n",
       "    </tr>\n",
       "    <tr>\n",
       "      <th>17</th>\n",
       "      <td>39500</td>\n",
       "      <td>74631.0</td>\n",
       "      <td>88.94</td>\n",
       "    </tr>\n",
       "    <tr>\n",
       "      <th>18</th>\n",
       "      <td>55192</td>\n",
       "      <td>149873.0</td>\n",
       "      <td>171.55</td>\n",
       "    </tr>\n",
       "    <tr>\n",
       "      <th>19</th>\n",
       "      <td>69900</td>\n",
       "      <td>84551.0</td>\n",
       "      <td>20.96</td>\n",
       "    </tr>\n",
       "  </tbody>\n",
       "</table>\n",
       "</div>"
      ],
      "text/plain": [
       "       GOLD       PRED    ERR%\n",
       "0     35800    74631.0  108.47\n",
       "1     35800    97337.0  171.89\n",
       "2     39600   119387.0  201.48\n",
       "3     29800    77333.0  159.51\n",
       "4    112900   179577.0   59.06\n",
       "5     37400   111249.0  197.46\n",
       "6     39500    40195.0    1.76\n",
       "7   2350000  1087560.0   53.72\n",
       "8    332000   261327.0   21.29\n",
       "9     39900   127124.0  218.61\n",
       "10    39500    37433.0    5.23\n",
       "11    42766    51429.0   20.26\n",
       "12    88253   141453.0   60.28\n",
       "13    26800    -1546.0  105.77\n",
       "14    93000   116132.0   24.87\n",
       "15   135000   171702.0   27.19\n",
       "16   115000   204725.0   78.02\n",
       "17    39500    74631.0   88.94\n",
       "18    55192   149873.0  171.55\n",
       "19    69900    84551.0   20.96"
      ]
     },
     "execution_count": 48,
     "metadata": {},
     "output_type": "execute_result"
    }
   ],
   "source": [
    "df_result = pd.DataFrame(\n",
    "    {\n",
    "        'GOLD' : y_price,\n",
    "        'PRED' : np_y_pred_nb_price.round(0),\n",
    "        'ERR%' : proc_err.round(2)\n",
    "    }\n",
    ")\n",
    "df_result.head(20)"
   ]
  },
  {
   "cell_type": "code",
   "execution_count": 49,
   "id": "9c346ea1",
   "metadata": {},
   "outputs": [
    {
     "data": {
      "text/html": [
       "<div>\n",
       "<style scoped>\n",
       "    .dataframe tbody tr th:only-of-type {\n",
       "        vertical-align: middle;\n",
       "    }\n",
       "\n",
       "    .dataframe tbody tr th {\n",
       "        vertical-align: top;\n",
       "    }\n",
       "\n",
       "    .dataframe thead th {\n",
       "        text-align: right;\n",
       "    }\n",
       "</style>\n",
       "<table border=\"1\" class=\"dataframe\">\n",
       "  <thead>\n",
       "    <tr style=\"text-align: right;\">\n",
       "      <th></th>\n",
       "      <th>GOLD</th>\n",
       "      <th>PRED</th>\n",
       "      <th>ERR%</th>\n",
       "    </tr>\n",
       "  </thead>\n",
       "  <tbody>\n",
       "    <tr>\n",
       "      <th>9877</th>\n",
       "      <td>63000</td>\n",
       "      <td>59587.0</td>\n",
       "      <td>5.42</td>\n",
       "    </tr>\n",
       "    <tr>\n",
       "      <th>9878</th>\n",
       "      <td>32900</td>\n",
       "      <td>37951.0</td>\n",
       "      <td>15.35</td>\n",
       "    </tr>\n",
       "    <tr>\n",
       "      <th>9879</th>\n",
       "      <td>53490</td>\n",
       "      <td>49445.0</td>\n",
       "      <td>7.56</td>\n",
       "    </tr>\n",
       "    <tr>\n",
       "      <th>9880</th>\n",
       "      <td>79000</td>\n",
       "      <td>65299.0</td>\n",
       "      <td>17.34</td>\n",
       "    </tr>\n",
       "    <tr>\n",
       "      <th>9881</th>\n",
       "      <td>79900</td>\n",
       "      <td>110933.0</td>\n",
       "      <td>38.84</td>\n",
       "    </tr>\n",
       "    <tr>\n",
       "      <th>9882</th>\n",
       "      <td>149000</td>\n",
       "      <td>103314.0</td>\n",
       "      <td>30.66</td>\n",
       "    </tr>\n",
       "    <tr>\n",
       "      <th>9883</th>\n",
       "      <td>143000</td>\n",
       "      <td>154443.0</td>\n",
       "      <td>8.00</td>\n",
       "    </tr>\n",
       "    <tr>\n",
       "      <th>9884</th>\n",
       "      <td>55000</td>\n",
       "      <td>72155.0</td>\n",
       "      <td>31.19</td>\n",
       "    </tr>\n",
       "    <tr>\n",
       "      <th>9885</th>\n",
       "      <td>62860</td>\n",
       "      <td>67189.0</td>\n",
       "      <td>6.89</td>\n",
       "    </tr>\n",
       "    <tr>\n",
       "      <th>9886</th>\n",
       "      <td>27500</td>\n",
       "      <td>4096.0</td>\n",
       "      <td>85.11</td>\n",
       "    </tr>\n",
       "    <tr>\n",
       "      <th>9887</th>\n",
       "      <td>47000</td>\n",
       "      <td>43077.0</td>\n",
       "      <td>8.35</td>\n",
       "    </tr>\n",
       "    <tr>\n",
       "      <th>9888</th>\n",
       "      <td>34500</td>\n",
       "      <td>-28459.0</td>\n",
       "      <td>182.49</td>\n",
       "    </tr>\n",
       "    <tr>\n",
       "      <th>9889</th>\n",
       "      <td>56000</td>\n",
       "      <td>28301.0</td>\n",
       "      <td>49.46</td>\n",
       "    </tr>\n",
       "    <tr>\n",
       "      <th>9890</th>\n",
       "      <td>101000</td>\n",
       "      <td>139730.0</td>\n",
       "      <td>38.35</td>\n",
       "    </tr>\n",
       "    <tr>\n",
       "      <th>9891</th>\n",
       "      <td>79524</td>\n",
       "      <td>88871.0</td>\n",
       "      <td>11.75</td>\n",
       "    </tr>\n",
       "    <tr>\n",
       "      <th>9892</th>\n",
       "      <td>85000</td>\n",
       "      <td>170469.0</td>\n",
       "      <td>100.55</td>\n",
       "    </tr>\n",
       "    <tr>\n",
       "      <th>9893</th>\n",
       "      <td>134999</td>\n",
       "      <td>166740.0</td>\n",
       "      <td>23.51</td>\n",
       "    </tr>\n",
       "    <tr>\n",
       "      <th>9894</th>\n",
       "      <td>59000</td>\n",
       "      <td>59035.0</td>\n",
       "      <td>0.06</td>\n",
       "    </tr>\n",
       "    <tr>\n",
       "      <th>9895</th>\n",
       "      <td>110000</td>\n",
       "      <td>120767.0</td>\n",
       "      <td>9.79</td>\n",
       "    </tr>\n",
       "    <tr>\n",
       "      <th>9896</th>\n",
       "      <td>61500</td>\n",
       "      <td>30692.0</td>\n",
       "      <td>50.10</td>\n",
       "    </tr>\n",
       "  </tbody>\n",
       "</table>\n",
       "</div>"
      ],
      "text/plain": [
       "        GOLD      PRED    ERR%\n",
       "9877   63000   59587.0    5.42\n",
       "9878   32900   37951.0   15.35\n",
       "9879   53490   49445.0    7.56\n",
       "9880   79000   65299.0   17.34\n",
       "9881   79900  110933.0   38.84\n",
       "9882  149000  103314.0   30.66\n",
       "9883  143000  154443.0    8.00\n",
       "9884   55000   72155.0   31.19\n",
       "9885   62860   67189.0    6.89\n",
       "9886   27500    4096.0   85.11\n",
       "9887   47000   43077.0    8.35\n",
       "9888   34500  -28459.0  182.49\n",
       "9889   56000   28301.0   49.46\n",
       "9890  101000  139730.0   38.35\n",
       "9891   79524   88871.0   11.75\n",
       "9892   85000  170469.0  100.55\n",
       "9893  134999  166740.0   23.51\n",
       "9894   59000   59035.0    0.06\n",
       "9895  110000  120767.0    9.79\n",
       "9896   61500   30692.0   50.10"
      ]
     },
     "execution_count": 49,
     "metadata": {},
     "output_type": "execute_result"
    }
   ],
   "source": [
    "df_result.tail(20)"
   ]
  },
  {
   "cell_type": "code",
   "execution_count": 50,
   "id": "6052f7fe",
   "metadata": {},
   "outputs": [
    {
     "data": {
      "text/plain": [
       "40.56801916784814"
      ]
     },
     "execution_count": 50,
     "metadata": {},
     "output_type": "execute_result"
    }
   ],
   "source": [
    "proc_err.mean()"
   ]
  },
  {
   "cell_type": "code",
   "execution_count": 62,
   "id": "2e26bdcf",
   "metadata": {},
   "outputs": [],
   "source": [
    "def train_neq(inputs, gold):\n",
    "    # TODO:\n",
    "    weights = np.linalg.pinv(inputs.T.dot(inputs)).dot(inputs.T).dot(gold)\n",
    "    return weights\n",
    "\n",
    "def evaluate(theta, inputs, gold, y_div, y_sub, name=\"\"):\n",
    "    _y_pred = inputs.dot(theta)\n",
    "    _y_vals = _y_pred * y_div + y_sub\n",
    "    \n",
    "    _y_true = gold * y_div + y_sub\n",
    "    \n",
    "    res_err = np.abs(_y_true - _y_vals)\n",
    "    prc_err = res_err / _y_true *100\n",
    "    \n",
    "    overall = prc_err.mean()\n",
    "    df_result = pd.DataFrame(\n",
    "        {\n",
    "        'GOLD' : _y_true,\n",
    "        'PRED' : _y_vals.round(0),\n",
    "        'ERR%' : prc_err.round(2)\n",
    "        }\n",
    "    )\n",
    "    print('Results for', name)\n",
    "    print(df_result.head(20))\n",
    "    print(df_result.tail(20))\n",
    "    print(\"Overall error: {:.1f}%\".format(overall))\n",
    "    return overall"
   ]
  },
  {
   "cell_type": "markdown",
   "id": "252498aa",
   "metadata": {},
   "source": [
    "# Now for a more correct and real-life approach\n",
    "We will not use the pre-processed data and perform a train-test split. There is no need for train-dev-test split as we do not have a training process to use the dev on."
   ]
  },
  {
   "cell_type": "code",
   "execution_count": 63,
   "id": "7a1727da",
   "metadata": {},
   "outputs": [],
   "source": [
    "from sklearn.model_selection import train_test_split\n",
    "x_trn, x_tst, y_trn, y_tst = train_test_split(np_X_nb, np_y_n, test_size=0.2)"
   ]
  },
  {
   "cell_type": "code",
   "execution_count": 64,
   "id": "21a6eb5c",
   "metadata": {},
   "outputs": [],
   "source": [
    "theta = train_neq(\n",
    "    inputs=x_trn,\n",
    "    gold=y_trn\n",
    ")"
   ]
  },
  {
   "cell_type": "code",
   "execution_count": 65,
   "id": "873573d3",
   "metadata": {},
   "outputs": [
    {
     "data": {
      "text/plain": [
       "array([-0.01,  0.04,  0.  ,  0.  ,  0.  ,  0.  , -0.  ,  0.  ,  0.03])"
      ]
     },
     "execution_count": 65,
     "metadata": {},
     "output_type": "execute_result"
    }
   ],
   "source": [
    "theta"
   ]
  },
  {
   "cell_type": "code",
   "execution_count": 66,
   "id": "1dc0f147",
   "metadata": {},
   "outputs": [
    {
     "name": "stdout",
     "output_type": "stream",
     "text": [
      "Results for TRAIN\n",
      "        GOLD      PRED    ERR%\n",
      "0    45000.0   82472.0   83.27\n",
      "1   999980.0  631361.0   36.86\n",
      "2    37700.0   61167.0   62.25\n",
      "3    55000.0   71306.0   29.65\n",
      "4    74165.0   93325.0   25.83\n",
      "5    87000.0  115471.0   32.73\n",
      "6   152000.0   97526.0   35.84\n",
      "7    78900.0  129025.0   63.53\n",
      "8   115000.0   73932.0   35.71\n",
      "9   105000.0  363487.0  246.18\n",
      "10  103000.0   94563.0    8.19\n",
      "11   79500.0    1620.0   97.96\n",
      "12   34500.0   15796.0   54.21\n",
      "13  109000.0   85263.0   21.78\n",
      "14   59000.0    1248.0   97.89\n",
      "15   63400.0   30629.0   51.69\n",
      "16  284000.0  126966.0   55.29\n",
      "17  114835.0  148059.0   28.93\n",
      "18  141800.0  138672.0    2.21\n",
      "19  410000.0  525871.0   28.26\n",
      "          GOLD      PRED    ERR%\n",
      "7897   75700.0  108082.0   42.78\n",
      "7898   66000.0  119365.0   80.86\n",
      "7899   87000.0   23447.0   73.05\n",
      "7900   62490.0   86571.0   38.54\n",
      "7901   71000.0   36366.0   48.78\n",
      "7902  112022.0  130126.0   16.16\n",
      "7903  106000.0   87692.0   17.27\n",
      "7904   49490.0  168672.0  240.82\n",
      "7905  119999.0   67608.0   43.66\n",
      "7906   89900.0  105453.0   17.30\n",
      "7907  170000.0  167587.0    1.42\n",
      "7908  223000.0  259857.0   16.53\n",
      "7909  220000.0  267608.0   21.64\n",
      "7910  125000.0  193630.0   54.90\n",
      "7911   74000.0  127340.0   72.08\n",
      "7912  137000.0   88498.0   35.40\n",
      "7913   47000.0   -6176.0  113.14\n",
      "7914   56200.0   71404.0   27.05\n",
      "7915   92900.0   56372.0   39.32\n",
      "7916  238000.0  318675.0   33.90\n",
      "Overall error: 40.8%\n"
     ]
    },
    {
     "data": {
      "text/plain": [
       "40.75716160177942"
      ]
     },
     "execution_count": 66,
     "metadata": {},
     "output_type": "execute_result"
    }
   ],
   "source": [
    "evaluate(\n",
    "    theta=theta,\n",
    "    inputs=x_trn,\n",
    "    gold=y_trn,\n",
    "    y_div=y_norm_div,\n",
    "    y_sub=y_norm_sub,\n",
    "    name='TRAIN',\n",
    ")"
   ]
  },
  {
   "cell_type": "code",
   "execution_count": 67,
   "id": "23949b5f",
   "metadata": {},
   "outputs": [
    {
     "name": "stdout",
     "output_type": "stream",
     "text": [
      "Results for TEST\n",
      "        GOLD      PRED    ERR%\n",
      "0   210000.0  199396.0    5.05\n",
      "1    68000.0   88119.0   29.59\n",
      "2   285000.0  547767.0   92.20\n",
      "3    31900.0   24274.0   23.91\n",
      "4   135000.0  157198.0   16.44\n",
      "5    85000.0   74067.0   12.86\n",
      "6    75000.0   73036.0    2.62\n",
      "7    92000.0  159133.0   72.97\n",
      "8    89000.0  123312.0   38.55\n",
      "9    51000.0   49884.0    2.19\n",
      "10   63600.0  129111.0  103.01\n",
      "11   88000.0  108615.0   23.43\n",
      "12   89000.0   87705.0    1.45\n",
      "13  220000.0  292616.0   33.01\n",
      "14   56000.0   21418.0   61.75\n",
      "15  390000.0  106820.0   72.61\n",
      "16   85092.0   83077.0    2.37\n",
      "17  155000.0   33075.0   78.66\n",
      "18  109500.0  181867.0   66.09\n",
      "19  159000.0  122156.0   23.17\n",
      "           GOLD      PRED    ERR%\n",
      "1960   145000.0  129978.0   10.36\n",
      "1961   179500.0  110645.0   38.36\n",
      "1962   215000.0  445750.0  107.33\n",
      "1963   165000.0  111092.0   32.67\n",
      "1964    75000.0   35743.0   52.34\n",
      "1965  2000000.0  770321.0   61.48\n",
      "1966    50500.0   21189.0   58.04\n",
      "1967   498000.0  530211.0    6.47\n",
      "1968    74000.0   71306.0    3.64\n",
      "1969    49000.0   30596.0   37.56\n",
      "1970   315000.0  202568.0   35.69\n",
      "1971    61750.0   67623.0    9.51\n",
      "1972   425000.0  511022.0   20.24\n",
      "1973    73500.0   83473.0   13.57\n",
      "1974    85000.0   65987.0   22.37\n",
      "1975    49500.0   47127.0    4.79\n",
      "1976  1350000.0  625800.0   53.64\n",
      "1977   295000.0  701841.0  137.91\n",
      "1978   550001.0  640361.0   16.43\n",
      "1979    95500.0   74479.0   22.01\n",
      "Overall error: 40.7%\n"
     ]
    },
    {
     "data": {
      "text/plain": [
       "40.699128471351386"
      ]
     },
     "execution_count": 67,
     "metadata": {},
     "output_type": "execute_result"
    }
   ],
   "source": [
    "evaluate(\n",
    "    theta=theta,\n",
    "    inputs=x_tst,\n",
    "    gold=y_tst,\n",
    "    y_div=y_norm_div,\n",
    "    y_sub=y_norm_sub,\n",
    "    name='TEST',\n",
    ")"
   ]
  },
  {
   "cell_type": "markdown",
   "id": "9c30094a",
   "metadata": {},
   "source": [
    "# Simple Neural model\n"
   ]
  },
  {
   "cell_type": "code",
   "execution_count": 68,
   "id": "3c0b3146",
   "metadata": {},
   "outputs": [],
   "source": [
    "import torch as th\n",
    "\n",
    "class SimpleLinerRealEstateModel(th.nn.Module):\n",
    "    def __init__(self, n_feats, n_hid1=32):\n",
    "        super().__init__()\n",
    "        self.hidden1 = th.nn.Linear(n_feats, n_hid1)\n",
    "        self.act1 = th.nn.ReLU()\n",
    "        self.readout = th.nn.Linear(n_hid1, 1)\n",
    "        return\n",
    "    \n",
    "    def forward(self, inputs):\n",
    "        #############################\n",
    "        # TODO: complete forward pass \n",
    "        #############################\n",
    "        th_x = self.hidden1(inputs)\n",
    "        th_x = self.act1(th_x)\n",
    "        th_out = self.readout(th_x)\n",
    "        return th_out\n"
   ]
  },
  {
   "cell_type": "code",
   "execution_count": 69,
   "id": "3f04db1c",
   "metadata": {},
   "outputs": [
    {
     "data": {
      "text/plain": [
       "SimpleLinerRealEstateModel(\n",
       "  (hidden1): Linear(in_features=8, out_features=256, bias=True)\n",
       "  (act1): ReLU()\n",
       "  (readout): Linear(in_features=256, out_features=1, bias=True)\n",
       ")"
      ]
     },
     "execution_count": 69,
     "metadata": {},
     "output_type": "execute_result"
    }
   ],
   "source": [
    "model = SimpleLinerRealEstateModel(8, 256)\n",
    "model"
   ]
  },
  {
   "cell_type": "code",
   "execution_count": 70,
   "id": "529403ba",
   "metadata": {},
   "outputs": [
    {
     "data": {
      "text/plain": [
       "(7917, 9)"
      ]
     },
     "execution_count": 70,
     "metadata": {},
     "output_type": "execute_result"
    }
   ],
   "source": [
    "x_trn.shape"
   ]
  },
  {
   "cell_type": "code",
   "execution_count": 71,
   "id": "5b89a90c",
   "metadata": {},
   "outputs": [
    {
     "data": {
      "text/plain": [
       "(1980, 9)"
      ]
     },
     "execution_count": 71,
     "metadata": {},
     "output_type": "execute_result"
    }
   ],
   "source": [
    "x_tst.shape"
   ]
  },
  {
   "cell_type": "markdown",
   "id": "a08818e3",
   "metadata": {},
   "source": [
    "### Introducing \"dev\" dataset\n",
    "Now we will have a training process so we need a dev dataset"
   ]
  },
  {
   "cell_type": "code",
   "execution_count": 72,
   "id": "0569152f",
   "metadata": {},
   "outputs": [
    {
     "data": {
      "text/plain": [
       "(990, 9)"
      ]
     },
     "execution_count": 72,
     "metadata": {},
     "output_type": "execute_result"
    }
   ],
   "source": [
    "DEV_PRC = 0.5\n",
    "DEV_SIZE = int(x_tst.shape[0] * DEV_PRC)\n",
    "x_dev = x_tst[:DEV_SIZE,:]\n",
    "x_test = x_tst[DEV_SIZE:,:]\n",
    "x_dev.shape"
   ]
  },
  {
   "cell_type": "markdown",
   "id": "3b6f8257",
   "metadata": {},
   "source": [
    "Now we tensorize but we eliminate the bias term "
   ]
  },
  {
   "cell_type": "code",
   "execution_count": 74,
   "id": "4fd8d430",
   "metadata": {},
   "outputs": [
    {
     "data": {
      "text/plain": [
       "tensor([[-0.5321, -0.4158, -0.3792, -0.7530,  0.9753, -0.1194,  0.6273,  0.8281],\n",
       "        [ 1.5722,  3.2683, -0.3792,  1.3281, -1.0253, -0.4742, -1.5940,  0.8281],\n",
       "        [-1.5843, -0.7394, -0.3792,  1.3281, -1.0253, -0.4742,  0.6273,  0.8281],\n",
       "        [-0.5321, -0.4158,  2.6374, -0.7530, -1.0253, -1.1837,  0.6273,  0.8281],\n",
       "        [ 0.5201, -0.1084, -0.3792,  1.3281, -1.0253, -0.4742,  0.6273,  0.8281],\n",
       "        [-0.5321, -0.1918, -0.3792,  1.3281, -1.0253, -0.4742,  0.6273,  0.8281],\n",
       "        [-0.5321, -0.3411, -0.3792, -0.7530,  0.9753,  0.2354,  0.6273,  0.8281],\n",
       "        [-0.5321, -0.2416, -0.3792, -0.7530,  0.9753, -0.1194, -1.5940,  0.8281],\n",
       "        [ 0.5201, -0.2416, -0.3792, -0.7530,  0.9753,  0.5902,  0.6273, -1.2076],\n",
       "        [ 1.5722,  1.7000, -0.3792,  1.3281, -1.0253, -0.8289, -1.5940, -1.2076]])"
      ]
     },
     "execution_count": 74,
     "metadata": {},
     "output_type": "execute_result"
    }
   ],
   "source": [
    "\n",
    "th_x_trn = th.tensor(x_trn[:,:-1], dtype=th.float32)\n",
    "th_x_dev = th.tensor(x_dev[:,:-1], dtype=th.float32)\n",
    "th_x_test = th.tensor(x_test[:,:-1], dtype=th.float32)\n",
    "th_x_trn[:10]"
   ]
  },
  {
   "cell_type": "code",
   "execution_count": 80,
   "id": "1ca33f5d",
   "metadata": {},
   "outputs": [
    {
     "data": {
      "text/plain": [
       "'NVIDIA GeForce RTX 2080 Ti'"
      ]
     },
     "execution_count": 80,
     "metadata": {},
     "output_type": "execute_result"
    }
   ],
   "source": [
    "th.cuda.get_device_name()"
   ]
  },
  {
   "cell_type": "code",
   "execution_count": 81,
   "id": "da28e196",
   "metadata": {},
   "outputs": [
    {
     "data": {
      "text/plain": [
       "tensor([[-0.5321, -0.4158, -0.3792, -0.7530,  0.9753, -0.1194,  0.6273,  0.8281],\n",
       "        [ 1.5722,  3.2683, -0.3792,  1.3281, -1.0253, -0.4742, -1.5940,  0.8281],\n",
       "        [-1.5843, -0.7394, -0.3792,  1.3281, -1.0253, -0.4742,  0.6273,  0.8281],\n",
       "        [-0.5321, -0.4158,  2.6374, -0.7530, -1.0253, -1.1837,  0.6273,  0.8281],\n",
       "        [ 0.5201, -0.1084, -0.3792,  1.3281, -1.0253, -0.4742,  0.6273,  0.8281],\n",
       "        [-0.5321, -0.1918, -0.3792,  1.3281, -1.0253, -0.4742,  0.6273,  0.8281],\n",
       "        [-0.5321, -0.3411, -0.3792, -0.7530,  0.9753,  0.2354,  0.6273,  0.8281],\n",
       "        [-0.5321, -0.2416, -0.3792, -0.7530,  0.9753, -0.1194, -1.5940,  0.8281],\n",
       "        [ 0.5201, -0.2416, -0.3792, -0.7530,  0.9753,  0.5902,  0.6273, -1.2076],\n",
       "        [ 1.5722,  1.7000, -0.3792,  1.3281, -1.0253, -0.8289, -1.5940, -1.2076]],\n",
       "       device='cuda:0')"
      ]
     },
     "execution_count": 81,
     "metadata": {},
     "output_type": "execute_result"
    }
   ],
   "source": [
    "th_x_train_slice_gpu = th_x_trn[:10].to(th.device('cuda'))\n",
    "th_x_train_slice_gpu"
   ]
  },
  {
   "cell_type": "code",
   "execution_count": 98,
   "id": "4c709742",
   "metadata": {},
   "outputs": [
    {
     "data": {
      "text/plain": [
       "array([[0.01],\n",
       "       [0.25],\n",
       "       [0.01],\n",
       "       [0.01],\n",
       "       [0.01],\n",
       "       [0.02],\n",
       "       [0.03],\n",
       "       [0.02],\n",
       "       [0.03],\n",
       "       [0.02]])"
      ]
     },
     "execution_count": 98,
     "metadata": {},
     "output_type": "execute_result"
    }
   ],
   "source": [
    "y_dev = y_tst[:DEV_SIZE].reshape(-1,1)\n",
    "y_test = y_tst[DEV_SIZE:].reshape(-1,1)\n",
    "y_trn = y_trn.reshape(-1,1)\n",
    "y_trn[:10]"
   ]
  },
  {
   "cell_type": "code",
   "execution_count": 99,
   "id": "ebdf46cf",
   "metadata": {},
   "outputs": [
    {
     "data": {
      "text/plain": [
       "tensor([[0.0070],\n",
       "        [0.2543],\n",
       "        [0.0051],\n",
       "        [0.0096],\n",
       "        [0.0145],\n",
       "        [0.0179],\n",
       "        [0.0347],\n",
       "        [0.0158],\n",
       "        [0.0251],\n",
       "        [0.0225],\n",
       "        [0.0220],\n",
       "        [0.0159],\n",
       "        [0.0043],\n",
       "        [0.0236],\n",
       "        [0.0106],\n",
       "        [0.0118],\n",
       "        [0.0689],\n",
       "        [0.0251],\n",
       "        [0.0321],\n",
       "        [0.1015]])"
      ]
     },
     "execution_count": 99,
     "metadata": {},
     "output_type": "execute_result"
    }
   ],
   "source": [
    "#############################\n",
    "# TODO: complete y tensors creation \n",
    "#############################\n",
    "th_y_trn = th.tensor(y_trn, dtype=th.float32)\n",
    "th_y_dev = th.tensor(y_dev, dtype=th.float32)\n",
    "th_y_test = th.tensor(y_test, dtype=th.float32)\n",
    "th_y_trn[:20]"
   ]
  },
  {
   "cell_type": "code",
   "execution_count": 100,
   "id": "b819aa66",
   "metadata": {},
   "outputs": [
    {
     "name": "stdout",
     "output_type": "stream",
     "text": [
      "torch.Size([990, 1])\n",
      "torch.Size([990, 8])\n",
      "torch.Size([990, 1])\n",
      "torch.Size([990, 8])\n"
     ]
    }
   ],
   "source": [
    "print(th_y_dev.shape)\n",
    "print(th_x_dev.shape)\n",
    "print(th_y_test.shape)\n",
    "print(th_x_test.shape)"
   ]
  },
  {
   "cell_type": "markdown",
   "id": "f77b4331",
   "metadata": {},
   "source": [
    "### Model training data feed\n",
    "Now lets prepare the internal mechanics for data feeding in the model training process"
   ]
  },
  {
   "cell_type": "code",
   "execution_count": 101,
   "id": "9c69ec4a",
   "metadata": {},
   "outputs": [
    {
     "data": {
      "text/plain": [
       "torch.Size([7917, 8])"
      ]
     },
     "execution_count": 101,
     "metadata": {},
     "output_type": "execute_result"
    }
   ],
   "source": [
    "BATCH_SIZE = 16\n",
    "th_ds = th.utils.data.TensorDataset(th_x_trn, th_y_trn)\n",
    "th_dl = th.utils.data.DataLoader(th_ds, batch_size=BATCH_SIZE)\n",
    "th_x_trn.shape"
   ]
  },
  {
   "cell_type": "code",
   "execution_count": 102,
   "id": "a4403fa8",
   "metadata": {},
   "outputs": [
    {
     "data": {
      "text/plain": [
       "tensor([[-0.5321, -0.4158, -0.3792, -0.7530,  0.9753, -0.1194,  0.6273,  0.8281],\n",
       "        [ 1.5722,  3.2683, -0.3792,  1.3281, -1.0253, -0.4742, -1.5940,  0.8281],\n",
       "        [-1.5843, -0.7394, -0.3792,  1.3281, -1.0253, -0.4742,  0.6273,  0.8281],\n",
       "        [-0.5321, -0.4158,  2.6374, -0.7530, -1.0253, -1.1837,  0.6273,  0.8281],\n",
       "        [ 0.5201, -0.1084, -0.3792,  1.3281, -1.0253, -0.4742,  0.6273,  0.8281],\n",
       "        [-0.5321, -0.1918, -0.3792,  1.3281, -1.0253, -0.4742,  0.6273,  0.8281],\n",
       "        [-0.5321, -0.3411, -0.3792, -0.7530,  0.9753,  0.2354,  0.6273,  0.8281],\n",
       "        [-0.5321, -0.2416, -0.3792, -0.7530,  0.9753, -0.1194, -1.5940,  0.8281],\n",
       "        [ 0.5201, -0.2416, -0.3792, -0.7530,  0.9753,  0.5902,  0.6273, -1.2076],\n",
       "        [ 1.5722,  1.7000, -0.3792,  1.3281, -1.0253, -0.8289, -1.5940, -1.2076],\n",
       "        [ 0.5201, -0.0424, -0.3792,  1.3281, -1.0253, -0.8289,  0.6273, -1.2076],\n",
       "        [-0.5321, -0.8390,  2.6374, -0.7530, -1.0253, -1.1837,  0.6273,  0.8281],\n",
       "        [-0.5321, -0.8888, -0.3792,  1.3281, -1.0253, -0.8289, -1.5940,  0.8281],\n",
       "        [-0.5321, -0.4656, -0.3792, -0.7530,  0.9753, -0.1194, -1.5940, -1.2076],\n",
       "        [-1.5843, -1.1676,  2.6374, -0.7530, -1.0253, -1.1837, -1.5940,  0.8281],\n",
       "        [-1.5843, -0.8390,  2.6374, -0.7530, -1.0253, -1.1837,  0.6273, -1.2076]])"
      ]
     },
     "execution_count": 102,
     "metadata": {},
     "output_type": "execute_result"
    }
   ],
   "source": [
    "for th_x_batch, th_y_batch in th_dl:\n",
    "    break\n",
    "th_x_batch"
   ]
  },
  {
   "cell_type": "code",
   "execution_count": 103,
   "id": "6acae2db",
   "metadata": {},
   "outputs": [
    {
     "data": {
      "text/plain": [
       "torch.Size([16, 8])"
      ]
     },
     "execution_count": 103,
     "metadata": {},
     "output_type": "execute_result"
    }
   ],
   "source": [
    "th_x_batch.shape"
   ]
  },
  {
   "cell_type": "code",
   "execution_count": 104,
   "id": "1b42bc3b",
   "metadata": {},
   "outputs": [
    {
     "data": {
      "text/plain": [
       "torch.Size([16, 1])"
      ]
     },
     "execution_count": 104,
     "metadata": {},
     "output_type": "execute_result"
    }
   ],
   "source": [
    "th_y_batch.shape"
   ]
  },
  {
   "cell_type": "code",
   "execution_count": 110,
   "id": "e49e87b5",
   "metadata": {},
   "outputs": [
    {
     "data": {
      "text/plain": [
       "tensor([1])"
      ]
     },
     "execution_count": 110,
     "metadata": {},
     "output_type": "execute_result"
    }
   ],
   "source": [
    "th.abs(th.tensor([-1]))"
   ]
  },
  {
   "cell_type": "markdown",
   "id": "07608473",
   "metadata": {},
   "source": [
    "Re-writing evaluation function"
   ]
  },
  {
   "cell_type": "code",
   "execution_count": 111,
   "id": "839bc749",
   "metadata": {},
   "outputs": [],
   "source": [
    "\n",
    "def th_evaluate(m, th_inputs, gold, y_div, y_sub, name=\"\", verbose=False):\n",
    "    m.eval()\n",
    "    with th.no_grad():\n",
    "        #############################\n",
    "        # TODO: complete yhat generation \n",
    "        #############################            \n",
    "        _y_pred = m(th_inputs)\n",
    "        \n",
    "    _y_vals = _y_pred * y_div + y_sub\n",
    "    \n",
    "    _y_true = gold * y_div + y_sub\n",
    "    \n",
    "    res_err = th.abs(_y_true - _y_vals)\n",
    "    prc_err = res_err / _y_true * 100\n",
    "    \n",
    "    overall = prc_err.mean()\n",
    "    if verbose:\n",
    "        df_result = pd.DataFrame(\n",
    "            {\n",
    "            'GOLD' : _y_true.cpu().numpy().ravel(),\n",
    "            'PRED' : _y_vals.cpu().numpy().ravel().round(0),\n",
    "            'ERR%' : prc_err.cpu().numpy().ravel().round(2)\n",
    "            }\n",
    "        )\n",
    "        print('Results for', name)\n",
    "        print(df_result.head(20))\n",
    "        print(df_result.tail(20))    \n",
    "    m.train()\n",
    "    return overall"
   ]
  },
  {
   "cell_type": "code",
   "execution_count": 112,
   "id": "f196fb21",
   "metadata": {},
   "outputs": [
    {
     "data": {
      "text/plain": [
       "Adam (\n",
       "Parameter Group 0\n",
       "    amsgrad: False\n",
       "    betas: (0.9, 0.999)\n",
       "    capturable: False\n",
       "    eps: 1e-08\n",
       "    foreach: None\n",
       "    lr: 5e-05\n",
       "    maximize: False\n",
       "    weight_decay: 0\n",
       ")"
      ]
     },
     "execution_count": 112,
     "metadata": {},
     "output_type": "execute_result"
    }
   ],
   "source": [
    "loss_func = th.nn.MSELoss()\n",
    "# optimizer: weights = weights - alpha * grads # alpha << 1\n",
    "opt = th.optim.Adam(model.parameters(), lr=5e-5)\n",
    "opt"
   ]
  },
  {
   "cell_type": "code",
   "execution_count": 118,
   "id": "8d83dac7",
   "metadata": {
    "scrolled": false
   },
   "outputs": [
    {
     "name": "stdout",
     "output_type": "stream",
     "text": [
      "BEST MODEL @ Epoch 0\n",
      "BEST MODEL @ Epoch 1\n",
      "BEST MODEL @ Epoch 2\n",
      "BEST MODEL @ Epoch 3\n",
      "BEST MODEL @ Epoch 4\n",
      "BEST MODEL @ Epoch 5\n",
      "BEST MODEL @ Epoch 6\n",
      "BEST MODEL @ Epoch 7\n",
      "BEST MODEL @ Epoch 8\n",
      "BEST MODEL @ Epoch 9\n",
      "BEST MODEL @ Epoch 10\n",
      "BEST MODEL @ Epoch 11\n",
      "BEST MODEL @ Epoch 12\n",
      "BEST MODEL @ Epoch 13\n",
      "BEST MODEL @ Epoch 14\n",
      "BEST MODEL @ Epoch 15\n",
      "BEST MODEL @ Epoch 16\n",
      "BEST MODEL @ Epoch 17\n",
      "BEST MODEL @ Epoch 18\n",
      "BEST MODEL @ Epoch 19\n",
      "BEST MODEL @ Epoch 20\n",
      "BEST MODEL @ Epoch 21\n",
      "BEST MODEL @ Epoch 22\n",
      "BEST MODEL @ Epoch 23\n",
      "BEST MODEL @ Epoch 24\n",
      "BEST MODEL @ Epoch 25\n",
      "BEST MODEL @ Epoch 26\n",
      "BEST MODEL @ Epoch 27\n",
      "BEST MODEL @ Epoch 28\n",
      "BEST MODEL @ Epoch 29\n",
      "BEST MODEL @ Epoch 30\n",
      "BEST MODEL @ Epoch 31\n",
      "BEST MODEL @ Epoch 32\n",
      "BEST MODEL @ Epoch 33\n",
      "BEST MODEL @ Epoch 34\n",
      "BEST MODEL @ Epoch 35\n",
      "BEST MODEL @ Epoch 36\n",
      "BEST MODEL @ Epoch 37\n",
      "BEST MODEL @ Epoch 38\n",
      "BEST MODEL @ Epoch 39\n",
      "BEST MODEL @ Epoch 40\n",
      "BEST MODEL @ Epoch 41\n",
      "BEST MODEL @ Epoch 44\n",
      "BEST MODEL @ Epoch 46\n",
      "BEST MODEL @ Epoch 47\n",
      "BEST MODEL @ Epoch 48\n",
      "BEST MODEL @ Epoch 50\n",
      "BEST MODEL @ Epoch 51\n",
      "BEST MODEL @ Epoch 52\n",
      "BEST MODEL @ Epoch 53\n",
      "BEST MODEL @ Epoch 54\n",
      "BEST MODEL @ Epoch 55\n",
      "BEST MODEL @ Epoch 56\n",
      "BEST MODEL @ Epoch 57\n",
      "BEST MODEL @ Epoch 61\n",
      "BEST MODEL @ Epoch 64\n",
      "BEST MODEL @ Epoch 67\n",
      "STOP TRAINING !\n",
      "Results for Final TEST\n",
      "        GOLD      PRED       ERR%\n",
      "0   164000.0   93074.0  43.250000\n",
      "1    95000.0   73824.0  22.290001\n",
      "2   129000.0  103677.0  19.629999\n",
      "3    69900.0   78033.0  11.640000\n",
      "4   139000.0  113241.0  18.530001\n",
      "5   129000.0  116101.0  10.000000\n",
      "6   155000.0  162741.0   4.990000\n",
      "7   330904.0  144365.0  56.369999\n",
      "8   129899.0   73407.0  43.490002\n",
      "9   700000.0  664829.0   5.020000\n",
      "10   69000.0    8652.0  87.459999\n",
      "11   55000.0   44169.0  19.690001\n",
      "12  180000.0  220365.0  22.420000\n",
      "13  137800.0   78884.0  42.750000\n",
      "14   64500.0   62134.0   3.670000\n",
      "15   27990.0   21264.0  24.030001\n",
      "16   82000.0   89290.0   8.890000\n",
      "17  265000.0  262404.0   0.980000\n",
      "18  145573.0  154160.0   5.900000\n",
      "19   99910.0   66883.0  33.060001\n",
      "          GOLD      PRED       ERR%\n",
      "970   145000.0  122769.0  15.330000\n",
      "971   179500.0  104496.0  41.790001\n",
      "972   215000.0  319958.0  48.820000\n",
      "973   165000.0  127816.0  22.540001\n",
      "974    75000.0   94150.0  25.530001\n",
      "975  2000000.0  366131.0  81.690002\n",
      "976    50500.0   54683.0   8.280000\n",
      "977   498000.0  214392.0  56.950001\n",
      "978    74000.0  104625.0  41.389999\n",
      "979    49000.0   58362.0  19.110001\n",
      "980   315000.0  154844.0  50.840000\n",
      "981    61750.0   60846.0   1.460000\n",
      "982   425000.0  562737.0  32.410000\n",
      "983    73500.0   89332.0  21.540001\n",
      "984    85000.0   23669.0  72.150002\n",
      "985    49500.0   53646.0   8.370000\n",
      "986  1350000.0  643782.0  52.310001\n",
      "987   295000.0  509176.0  72.599998\n",
      "988   550001.0  663760.0  20.680000\n",
      "989    95500.0   62757.0  34.290001\n"
     ]
    }
   ],
   "source": [
    "DEBUG = False\n",
    "TOTAL_NR_EPOCHS = 100\n",
    "# re-init model\n",
    "model = SimpleLinerRealEstateModel(8, 256)\n",
    "opt = th.optim.Adam(model.parameters(), lr=1e-4)\n",
    "best_dev_err = 10_000\n",
    "wait_time = 0\n",
    "max_nr_of_succesive_fails = 5\n",
    "for epoch in range(TOTAL_NR_EPOCHS):\n",
    "    if DEBUG and epoch >0:\n",
    "        break\n",
    "    for th_x_batch, th_y_batch in th_dl:\n",
    "        # compute current inferred values with forward prop\n",
    "        th_y_hat = model(th_x_batch)\n",
    "        # compute loss (compare results with actual truth)\n",
    "        th_loss = loss_func(input=th_y_hat, target=th_y_batch) #((th_y_hat - th_y_batch)**2).mean()\n",
    "        # nullfy the gradients\n",
    "        opt.zero_grad()\n",
    "        # compute loss 1st derv wrt all model weights (grads)\n",
    "        th_loss.backward()\n",
    "        \n",
    "        if DEBUG:\n",
    "            th_param = next(model.parameters())\n",
    "            print(th_param.grad)\n",
    "            break\n",
    "        \n",
    "        # apply gradients to weights with a hopefully smart approach\n",
    "        opt.step()\n",
    "    if not DEBUG:\n",
    "        # now we evaluate on TRAIN and DEV to see how good we are\n",
    "        th_evaluate(\n",
    "            m=model,\n",
    "            th_inputs=th_x_trn,\n",
    "            gold=th_y_trn,\n",
    "            y_div=y_norm_div,\n",
    "            y_sub=y_norm_sub,\n",
    "            verbose=False,\n",
    "            name='TRAIN @ Epoch {}'.format(epoch)\n",
    "        )\n",
    "        dev_err = th_evaluate(\n",
    "            m=model,\n",
    "            th_inputs=th_x_dev,\n",
    "            gold=th_y_dev,\n",
    "            y_div=y_norm_div,\n",
    "            y_sub=y_norm_sub,\n",
    "            verbose=False,\n",
    "            name='DEV @ Epoch {}'.format(epoch)\n",
    "        )\n",
    "        if best_dev_err > dev_err:\n",
    "            best_dev_err = dev_err\n",
    "            wait_time = 0\n",
    "            print(\"BEST MODEL @ Epoch {}\".format(epoch))\n",
    "        else:\n",
    "            wait_time += 1\n",
    "            if wait_time > max_nr_of_succesive_fails:\n",
    "                print(\"STOP TRAINING !\")\n",
    "                break\n",
    "\n",
    "if not DEBUG: \n",
    "    # finally we evaluate on TEST\n",
    "    th_evaluate(\n",
    "        m=model,\n",
    "        th_inputs=th_x_test,\n",
    "        gold=th_y_test,\n",
    "        y_div=y_norm_div,\n",
    "        y_sub=y_norm_sub,\n",
    "        verbose=True,\n",
    "        name='Final TEST'\n",
    "    )\n"
   ]
  },
  {
   "cell_type": "code",
   "execution_count": 117,
   "id": "800184a4",
   "metadata": {},
   "outputs": [
    {
     "data": {
      "text/plain": [
       "tensor(36.3327)"
      ]
     },
     "execution_count": 117,
     "metadata": {},
     "output_type": "execute_result"
    }
   ],
   "source": [
    "dev_err"
   ]
  },
  {
   "cell_type": "code",
   "execution_count": 119,
   "id": "addfbade",
   "metadata": {},
   "outputs": [
    {
     "data": {
      "text/plain": [
       "BetterLinerRealEstateModel(\n",
       "  (layers): ModuleList(\n",
       "    (0): Linear(in_features=8, out_features=64, bias=True)\n",
       "    (1): Sigmoid()\n",
       "    (2): Linear(in_features=64, out_features=32, bias=True)\n",
       "    (3): Sigmoid()\n",
       "    (4): Linear(in_features=32, out_features=16, bias=True)\n",
       "    (5): Sigmoid()\n",
       "  )\n",
       "  (readout): Linear(in_features=16, out_features=1, bias=True)\n",
       ")"
      ]
     },
     "execution_count": 119,
     "metadata": {},
     "output_type": "execute_result"
    }
   ],
   "source": [
    "import torch as th\n",
    "\n",
    "class BetterLinerRealEstateModel(th.nn.Module):\n",
    "    def __init__(self, n_input_feats, layers=[32], activation=th.nn.ReLU):\n",
    "        super().__init__()\n",
    "        self.layers = th.nn.ModuleList()\n",
    "        n_prev = n_input_feats\n",
    "        for layer_size in layers:\n",
    "            hid = th.nn.Linear(n_prev, layer_size)\n",
    "            act = activation()\n",
    "            self.layers.append(hid)\n",
    "            self.layers.append(act)\n",
    "            n_prev = layer_size\n",
    "        \n",
    "        self.readout = th.nn.Linear(n_prev, 1)\n",
    "        return\n",
    "    \n",
    "    def forward(self, inputs):\n",
    "        th_x = inputs\n",
    "        for layer in self.layers:\n",
    "            th_x = layer(th_x)\n",
    "        th_out = self.readout(th_x)\n",
    "        return th_out\n",
    "\n",
    "test_model = BetterLinerRealEstateModel(8, [64, 32, 16], activation=th.nn.Sigmoid)\n",
    "test_model"
   ]
  },
  {
   "cell_type": "markdown",
   "id": "c8600f1f",
   "metadata": {},
   "source": [
    "### Even closer to production grade experiments: model factories\n",
    "Now we prepare a basic model factory"
   ]
  },
  {
   "cell_type": "code",
   "execution_count": 121,
   "id": "f1976c44",
   "metadata": {},
   "outputs": [
    {
     "data": {
      "text/plain": [
       "BetterLinerRealEstateModel(\n",
       "  (layers): ModuleList(\n",
       "    (0): Linear(in_features=8, out_features=32, bias=True)\n",
       "    (1): ReLU()\n",
       "    (2): Linear(in_features=32, out_features=4, bias=True)\n",
       "    (3): ReLU()\n",
       "  )\n",
       "  (readout): Linear(in_features=4, out_features=1, bias=True)\n",
       ")"
      ]
     },
     "execution_count": 121,
     "metadata": {},
     "output_type": "execute_result"
    }
   ],
   "source": [
    "def get_model_and_optimizer(layers, activation, opt_class, lr):\n",
    "    model = BetterLinerRealEstateModel(8, layers, activation)\n",
    "    opt = opt_class(model.parameters(), lr=lr)\n",
    "    return model, opt\n",
    "\n",
    "#############################\n",
    "# TODO: create a example model\n",
    "#############################   \n",
    "test_model, test_opt = get_model_and_optimizer(layers=[32, 4], activation=th.nn.ReLU, opt_class=th.optim.SGD, lr=0.01)\n",
    "test_model"
   ]
  },
  {
   "cell_type": "markdown",
   "id": "657e9b2d",
   "metadata": {},
   "source": [
    "### Grid search\n",
    "Next step is grid searching"
   ]
  },
  {
   "cell_type": "code",
   "execution_count": 123,
   "id": "99d4b641",
   "metadata": {},
   "outputs": [],
   "source": [
    "#############################\n",
    "# TODO: complete missing grid search params\n",
    "############################# \n",
    "\n",
    "dct_grid_space = {\n",
    "    'layers' : [\n",
    "        [256],\n",
    "        [64],\n",
    "        [64, 16],\n",
    "        [128, 32, 8],\n",
    "    ],\n",
    "    'activation' : [\n",
    "        th.nn.ReLU,\n",
    "        th.nn.SELU,\n",
    "    ],\n",
    "    'opt_class' : [\n",
    "        th.optim.SGD,\n",
    "        th.optim.Adam\n",
    "    ],\n",
    "    'lr' : [\n",
    "        0.001,\n",
    "        0.01,\n",
    "    ]\n",
    "}"
   ]
  },
  {
   "cell_type": "code",
   "execution_count": 124,
   "id": "38126709",
   "metadata": {},
   "outputs": [
    {
     "data": {
      "text/plain": [
       "{'layers': [[256], [64], [64, 16], [128, 32, 8]],\n",
       " 'activation': [torch.nn.modules.activation.ReLU,\n",
       "  torch.nn.modules.activation.SELU],\n",
       " 'opt_class': [torch.optim.sgd.SGD, torch.optim.adam.Adam],\n",
       " 'lr': [0.001, 0.01]}"
      ]
     },
     "execution_count": 124,
     "metadata": {},
     "output_type": "execute_result"
    }
   ],
   "source": [
    "loss_func = th.nn.MSELoss()\n",
    "dct_grid_space"
   ]
  },
  {
   "cell_type": "code",
   "execution_count": null,
   "id": "3ef07d95",
   "metadata": {},
   "outputs": [],
   "source": [
    "def train_model(model, opt, max_epochs=TOTAL_NR_EPOCHS):\n",
    "    best_dev_err = 100\n",
    "    wait_time = 0\n",
    "    max_nr_of_succesive_fails = 2\n",
    "    for epoch in range(max_epochs):\n",
    "        for th_x_batch, th_y_batch in th_dl:\n",
    "            # TODO: compute current inferred values with forward prop\n",
    "            th_y_hat = None\n",
    "            # compute loss (compare results with actual truth)\n",
    "            th_loss = loss_func(input=th_y_hat, target=th_y_batch) #((th_y_hat - th_y_batch)**2).mean()\n",
    "            # TODO: nullfy the gradients\n",
    "            opt.zero_grad()\n",
    "            # TODO: compute loss 1st derv wrt all model weights (grads)\n",
    "            th_loss.backward()\n",
    "            # TODO: apply gradients to weights with a hopefully smart approach\n",
    "            opt.step()\n",
    "            \n",
    "        # now we evaluate on TRAIN and DEV to see how good we are\n",
    "        dev_err = th_evaluate(\n",
    "            m=model,\n",
    "            th_inputs=th_x_dev,\n",
    "            gold=y_dev,\n",
    "            y_div=y_norm_div,\n",
    "            y_sub=y_norm_sub,\n",
    "            verbose=False,\n",
    "            name='DEV @ Epoch {}'.format(epoch)\n",
    "        )\n",
    "        if best_dev_err > dev_err:\n",
    "            best_dev_err = dev_err\n",
    "            wait_time = 0\n",
    "            print(\"\\rBEST MODEL @ Epoch {}\\r\".format(epoch), end='', flush=True)\n",
    "        else:\n",
    "            wait_time += 1\n",
    "            if wait_time > max_nr_of_succesive_fails:\n",
    "                print(\"\\nSTOP TRAINING !\")\n",
    "                break\n",
    "    return model"
   ]
  },
  {
   "cell_type": "markdown",
   "id": "c5049057",
   "metadata": {},
   "source": [
    "### Grid pre-processing\n",
    "\n"
   ]
  },
  {
   "cell_type": "markdown",
   "id": "b95599a4",
   "metadata": {},
   "source": [
    "Prepare grid in a friendly format"
   ]
  },
  {
   "cell_type": "code",
   "execution_count": 125,
   "id": "7c808d8f",
   "metadata": {},
   "outputs": [],
   "source": [
    "grid_params = []\n",
    "grid_values = []\n",
    "for k in dct_grid_space:\n",
    "    grid_params.append(k)\n",
    "    grid_values.append(dct_grid_space[k])\n",
    "import itertools\n",
    "grid_combs = list(itertools.product(*grid_values))"
   ]
  },
  {
   "cell_type": "code",
   "execution_count": 126,
   "id": "f4487300",
   "metadata": {},
   "outputs": [
    {
     "data": {
      "text/plain": [
       "['layers', 'activation', 'opt_class', 'lr']"
      ]
     },
     "execution_count": 126,
     "metadata": {},
     "output_type": "execute_result"
    }
   ],
   "source": [
    "grid_params"
   ]
  },
  {
   "cell_type": "code",
   "execution_count": 127,
   "id": "da8fe528",
   "metadata": {},
   "outputs": [
    {
     "data": {
      "text/plain": [
       "[([256], torch.nn.modules.activation.ReLU, torch.optim.sgd.SGD, 0.001),\n",
       " ([256], torch.nn.modules.activation.ReLU, torch.optim.sgd.SGD, 0.01),\n",
       " ([256], torch.nn.modules.activation.ReLU, torch.optim.adam.Adam, 0.001),\n",
       " ([256], torch.nn.modules.activation.ReLU, torch.optim.adam.Adam, 0.01),\n",
       " ([256], torch.nn.modules.activation.SELU, torch.optim.sgd.SGD, 0.001),\n",
       " ([256], torch.nn.modules.activation.SELU, torch.optim.sgd.SGD, 0.01),\n",
       " ([256], torch.nn.modules.activation.SELU, torch.optim.adam.Adam, 0.001),\n",
       " ([256], torch.nn.modules.activation.SELU, torch.optim.adam.Adam, 0.01),\n",
       " ([64], torch.nn.modules.activation.ReLU, torch.optim.sgd.SGD, 0.001),\n",
       " ([64], torch.nn.modules.activation.ReLU, torch.optim.sgd.SGD, 0.01),\n",
       " ([64], torch.nn.modules.activation.ReLU, torch.optim.adam.Adam, 0.001),\n",
       " ([64], torch.nn.modules.activation.ReLU, torch.optim.adam.Adam, 0.01),\n",
       " ([64], torch.nn.modules.activation.SELU, torch.optim.sgd.SGD, 0.001),\n",
       " ([64], torch.nn.modules.activation.SELU, torch.optim.sgd.SGD, 0.01),\n",
       " ([64], torch.nn.modules.activation.SELU, torch.optim.adam.Adam, 0.001),\n",
       " ([64], torch.nn.modules.activation.SELU, torch.optim.adam.Adam, 0.01),\n",
       " ([64, 16], torch.nn.modules.activation.ReLU, torch.optim.sgd.SGD, 0.001),\n",
       " ([64, 16], torch.nn.modules.activation.ReLU, torch.optim.sgd.SGD, 0.01),\n",
       " ([64, 16], torch.nn.modules.activation.ReLU, torch.optim.adam.Adam, 0.001),\n",
       " ([64, 16], torch.nn.modules.activation.ReLU, torch.optim.adam.Adam, 0.01),\n",
       " ([64, 16], torch.nn.modules.activation.SELU, torch.optim.sgd.SGD, 0.001),\n",
       " ([64, 16], torch.nn.modules.activation.SELU, torch.optim.sgd.SGD, 0.01),\n",
       " ([64, 16], torch.nn.modules.activation.SELU, torch.optim.adam.Adam, 0.001),\n",
       " ([64, 16], torch.nn.modules.activation.SELU, torch.optim.adam.Adam, 0.01),\n",
       " ([128, 32, 8], torch.nn.modules.activation.ReLU, torch.optim.sgd.SGD, 0.001),\n",
       " ([128, 32, 8], torch.nn.modules.activation.ReLU, torch.optim.sgd.SGD, 0.01),\n",
       " ([128, 32, 8],\n",
       "  torch.nn.modules.activation.ReLU,\n",
       "  torch.optim.adam.Adam,\n",
       "  0.001),\n",
       " ([128, 32, 8], torch.nn.modules.activation.ReLU, torch.optim.adam.Adam, 0.01),\n",
       " ([128, 32, 8], torch.nn.modules.activation.SELU, torch.optim.sgd.SGD, 0.001),\n",
       " ([128, 32, 8], torch.nn.modules.activation.SELU, torch.optim.sgd.SGD, 0.01),\n",
       " ([128, 32, 8],\n",
       "  torch.nn.modules.activation.SELU,\n",
       "  torch.optim.adam.Adam,\n",
       "  0.001),\n",
       " ([128, 32, 8], torch.nn.modules.activation.SELU, torch.optim.adam.Adam, 0.01)]"
      ]
     },
     "execution_count": 127,
     "metadata": {},
     "output_type": "execute_result"
    }
   ],
   "source": [
    "grid_combs"
   ]
  },
  {
   "cell_type": "code",
   "execution_count": 128,
   "id": "b9313c9f",
   "metadata": {},
   "outputs": [
    {
     "data": {
      "text/plain": [
       "32"
      ]
     },
     "execution_count": 128,
     "metadata": {},
     "output_type": "execute_result"
    }
   ],
   "source": [
    "len(grid_combs)"
   ]
  },
  {
   "cell_type": "markdown",
   "id": "280a9565",
   "metadata": {},
   "source": [
    "Lets see how a actual iteration looks like"
   ]
  },
  {
   "cell_type": "code",
   "execution_count": 129,
   "id": "e41855ad",
   "metadata": {},
   "outputs": [
    {
     "data": {
      "text/plain": [
       "{'layers': [256],\n",
       " 'activation': torch.nn.modules.activation.ReLU,\n",
       " 'opt_class': torch.optim.sgd.SGD,\n",
       " 'lr': 0.001}"
      ]
     },
     "execution_count": 129,
     "metadata": {},
     "output_type": "execute_result"
    }
   ],
   "source": [
    "for grid_iter in range(len(grid_combs)):\n",
    "    dct_curr_params = {k:v for k,v in zip(grid_params, grid_combs[grid_iter])}\n",
    "    break\n",
    "dct_curr_params"
   ]
  },
  {
   "cell_type": "code",
   "execution_count": 130,
   "id": "92e6a70e",
   "metadata": {},
   "outputs": [],
   "source": [
    "model, opt = get_model_and_optimizer(**dct_curr_params)"
   ]
  },
  {
   "cell_type": "code",
   "execution_count": 131,
   "id": "898ef39a",
   "metadata": {},
   "outputs": [
    {
     "data": {
      "text/plain": [
       "BetterLinerRealEstateModel(\n",
       "  (layers): ModuleList(\n",
       "    (0): Linear(in_features=8, out_features=256, bias=True)\n",
       "    (1): ReLU()\n",
       "  )\n",
       "  (readout): Linear(in_features=256, out_features=1, bias=True)\n",
       ")"
      ]
     },
     "execution_count": 131,
     "metadata": {},
     "output_type": "execute_result"
    }
   ],
   "source": [
    "model"
   ]
  },
  {
   "cell_type": "code",
   "execution_count": 132,
   "id": "3d8ac430",
   "metadata": {},
   "outputs": [
    {
     "data": {
      "text/plain": [
       "SGD (\n",
       "Parameter Group 0\n",
       "    dampening: 0\n",
       "    foreach: None\n",
       "    lr: 0.001\n",
       "    maximize: False\n",
       "    momentum: 0\n",
       "    nesterov: False\n",
       "    weight_decay: 0\n",
       ")"
      ]
     },
     "execution_count": 132,
     "metadata": {},
     "output_type": "execute_result"
    }
   ],
   "source": [
    "opt"
   ]
  },
  {
   "cell_type": "code",
   "execution_count": null,
   "id": "118a76d5",
   "metadata": {},
   "outputs": [],
   "source": [
    "dct_res = {\n",
    "    'MODEL' : [],\n",
    "    'DEV' : [],\n",
    "    'TEST' : [],\n",
    "}"
   ]
  },
  {
   "cell_type": "code",
   "execution_count": null,
   "id": "7cd43fd3",
   "metadata": {},
   "outputs": [],
   "source": [
    "# prepare grid search\n",
    "grid_params = []\n",
    "grid_values = []\n",
    "for k in dct_grid_space:\n",
    "    grid_params.append(k)\n",
    "    grid_values.append(dct_grid_space[k])\n",
    "import itertools\n",
    "grid_combs = list(itertools.product(*grid_values))\n",
    "\n",
    "for grid_iter in range(len(grid_combs)):\n",
    "    dct_curr_params = {k:v for k,v in zip(grid_params, grid_combs[grid_iter])}\n",
    "    break\n",
    "\n",
    "# run grid search\n",
    "for grid_iter in range(len(grid_combs)):\n",
    "    dct_curr_params = {k:v for k,v in zip(grid_params, grid_combs[grid_iter])}\n",
    "    print(\"Running grid search space model #{}/{}\".format(grid_iter+1,len(grid_combs)))\n",
    "    model, opt = get_model_and_optimizer(**dct_curr_params)\n",
    "    model = train_model(model, opt)\n",
    "    models.append(model)\n",
    "    dev_err = th_evaluate(\n",
    "        m=model,\n",
    "        th_inputs=th_x_dev,\n",
    "        gold=y_dev,\n",
    "        y_div=y_norm_div,\n",
    "        y_sub=y_norm_sub,\n",
    "        verbose=False,\n",
    "        name='Final DEV'\n",
    "    )\n",
    "    test_err = th_evaluate(\n",
    "        m=model,\n",
    "        th_inputs=th_x_test,\n",
    "        gold=y_test,\n",
    "        y_div=y_norm_div,\n",
    "        y_sub=y_norm_sub,\n",
    "        verbose=False,\n",
    "        name='Final TEST'\n",
    "    )\n",
    "    dct_res['MODEL'].append('Model #' + str(grid_iter + 1))\n",
    "    dct_res['DEV'].append(dev_err)\n",
    "    dct_res['TEST'].append(test_err)\n",
    "    for k,v in dct_curr_params.items():\n",
    "        if k not in dct_res:\n",
    "            dct_res[k] = []\n",
    "        if not isinstance(v, (list, int, float)):\n",
    "            dct_res[k].append(v.__name__)\n",
    "        else:\n",
    "            dct_res[k].append(v)\n",
    "    print('Result so far:\\n{}'.format(pd.DataFrame(dct_res).sort_values('TEST')))\n"
   ]
  },
  {
   "cell_type": "code",
   "execution_count": null,
   "id": "265ea340",
   "metadata": {},
   "outputs": [],
   "source": [
    "# TODO: RUN GRID SEARCH"
   ]
  },
  {
   "cell_type": "markdown",
   "id": "8c319163",
   "metadata": {},
   "source": [
    "#### Finally we can now narrow the search"
   ]
  },
  {
   "cell_type": "code",
   "execution_count": null,
   "id": "73950978",
   "metadata": {},
   "outputs": [],
   "source": []
  }
 ],
 "metadata": {
  "kernelspec": {
   "display_name": "Python 3 (ipykernel)",
   "language": "python",
   "name": "python3"
  },
  "language_info": {
   "codemirror_mode": {
    "name": "ipython",
    "version": 3
   },
   "file_extension": ".py",
   "mimetype": "text/x-python",
   "name": "python",
   "nbconvert_exporter": "python",
   "pygments_lexer": "ipython3",
   "version": "3.8.13"
  }
 },
 "nbformat": 4,
 "nbformat_minor": 5
}
