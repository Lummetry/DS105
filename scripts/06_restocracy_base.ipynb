{
 "cells": [
  {
   "cell_type": "code",
   "execution_count": null,
   "id": "a804f036",
   "metadata": {},
   "outputs": [],
   "source": [
    "import pickle\n",
    "import os\n",
    "import numpy as np\n",
    "import matplotlib.pyplot as plt\n",
    "%matplotlib inline\n",
    "\n",
    "import tensorflow as tf"
   ]
  },
  {
   "cell_type": "code",
   "execution_count": null,
   "id": "7b0d5ba9",
   "metadata": {},
   "outputs": [],
   "source": [
    "print(np.__version__)"
   ]
  },
  {
   "cell_type": "code",
   "execution_count": null,
   "id": "0bca8741",
   "metadata": {},
   "outputs": [],
   "source": [
    "print(tf.__version__)"
   ]
  },
  {
   "cell_type": "code",
   "execution_count": null,
   "id": "53347cfe",
   "metadata": {},
   "outputs": [],
   "source": [
    "tf.config.list_physical_devices()"
   ]
  },
  {
   "cell_type": "code",
   "execution_count": null,
   "id": "bd87836c",
   "metadata": {},
   "outputs": [],
   "source": [
    "FOLDER = '..\\data'\n",
    "FN = 'restocracy_all_data.pkl'"
   ]
  },
  {
   "cell_type": "code",
   "execution_count": null,
   "id": "562ad53a",
   "metadata": {},
   "outputs": [],
   "source": [
    "with open(os.path.join(FOLDER, FN), 'rb') as fh:\n",
    "    data = pickle.load(fh)"
   ]
  },
  {
   "cell_type": "code",
   "execution_count": null,
   "id": "1ea71171",
   "metadata": {},
   "outputs": [],
   "source": [
    "type(data)"
   ]
  },
  {
   "cell_type": "code",
   "execution_count": null,
   "id": "16e1bf5b",
   "metadata": {},
   "outputs": [],
   "source": [
    "len(data)"
   ]
  },
  {
   "cell_type": "code",
   "execution_count": null,
   "id": "4df5aff3",
   "metadata": {},
   "outputs": [],
   "source": [
    "data[0]"
   ]
  },
  {
   "cell_type": "code",
   "execution_count": null,
   "id": "ed1a8efc",
   "metadata": {},
   "outputs": [],
   "source": [
    "prices = [x['price'] for x in data]\n",
    "reviews = [x['review'] for x in data]"
   ]
  },
  {
   "cell_type": "code",
   "execution_count": null,
   "id": "87120007",
   "metadata": {},
   "outputs": [],
   "source": [
    "prices[:5]"
   ]
  },
  {
   "cell_type": "code",
   "execution_count": null,
   "id": "2837737a",
   "metadata": {},
   "outputs": [],
   "source": [
    "reviews[0][:100]"
   ]
  },
  {
   "cell_type": "code",
   "execution_count": null,
   "id": "4c702897",
   "metadata": {},
   "outputs": [],
   "source": [
    "np_prices = np.array([int(x.split(' ')[0]) for x in prices])\n",
    "np_prices"
   ]
  },
  {
   "cell_type": "code",
   "execution_count": null,
   "id": "74c6ab77",
   "metadata": {},
   "outputs": [],
   "source": [
    "np_prices.shape"
   ]
  },
  {
   "cell_type": "code",
   "execution_count": null,
   "id": "9548abb6",
   "metadata": {},
   "outputs": [],
   "source": [
    "# TODO: plot prices histogram, 25 bins\n",
    "pass"
   ]
  },
  {
   "cell_type": "code",
   "execution_count": null,
   "id": "c9c0b6bc",
   "metadata": {},
   "outputs": [],
   "source": [
    "reviews[0].split()[:5]"
   ]
  },
  {
   "cell_type": "code",
   "execution_count": null,
   "id": "40289f60",
   "metadata": {},
   "outputs": [],
   "source": [
    "def get_vocabulary(all_docs):\n",
    "    dct_occurences = {}\n",
    "    for doc in all_docs:\n",
    "        words_in_doc = doc.split()\n",
    "        for word in words_in_doc:\n",
    "            if word in dct_occurences:\n",
    "                dct_occurences[word] += 1\n",
    "            else:\n",
    "                dct_occurences[word] = 1\n",
    "    lst_occ = sorted([(w, occ) for w, occ in dct_occurences.items()], key=lambda x: x[1], reverse=True)\n",
    "    dct_word_to_index = {w[0]:idx+1 for idx, w in enumerate(lst_occ)}\n",
    "    dct_word_to_index['UNK'] = 0\n",
    "    dct_index_to_word = {i:w for w,i in dct_word_to_index.items()}\n",
    "    return lst_occ, dct_word_to_index, dct_index_to_word\n",
    "    "
   ]
  },
  {
   "cell_type": "code",
   "execution_count": null,
   "id": "2d7a3879",
   "metadata": {},
   "outputs": [],
   "source": [
    "o, w2i, i2w = get_vocabulary(reviews)"
   ]
  },
  {
   "cell_type": "code",
   "execution_count": null,
   "id": "ef0e9f3e",
   "metadata": {},
   "outputs": [],
   "source": [
    "o[:10]"
   ]
  },
  {
   "cell_type": "code",
   "execution_count": null,
   "id": "cae756cd",
   "metadata": {},
   "outputs": [],
   "source": [
    "i2w[1]"
   ]
  },
  {
   "cell_type": "code",
   "execution_count": null,
   "id": "9aead04f",
   "metadata": {},
   "outputs": [],
   "source": [
    "i2w[0]"
   ]
  },
  {
   "cell_type": "code",
   "execution_count": null,
   "id": "e5380157",
   "metadata": {},
   "outputs": [],
   "source": [
    "w2i['restaurant']"
   ]
  },
  {
   "cell_type": "code",
   "execution_count": null,
   "id": "222efe43",
   "metadata": {},
   "outputs": [],
   "source": [
    "def review_to_tokens(review, dct_w2i, unk_word_idx=0, max_words=1000):\n",
    "    obs_tokens = []\n",
    "    for word in review.split():\n",
    "        obs_tokens.append(dct_w2i.get(word, unk_word_idx))\n",
    "    diff = max(0, max_words - len(obs_tokens))\n",
    "    obs_tokens = obs_tokens + [0] * diff\n",
    "    obs_tokens = obs_tokens[:max_words]\n",
    "    return obs_tokens\n",
    "\n",
    "def tokens_to_review(tokens, dct_i2w):\n",
    "    # TODO: complete list comprehension for generating review from tokens\n",
    "    return \" \".join([None])"
   ]
  },
  {
   "cell_type": "code",
   "execution_count": null,
   "id": "d7374009",
   "metadata": {},
   "outputs": [],
   "source": [
    "o1 = review_to_tokens(reviews[0], dct_w2i=w2i)\n",
    "o1[:10]"
   ]
  },
  {
   "cell_type": "code",
   "execution_count": null,
   "id": "a43ef076",
   "metadata": {},
   "outputs": [],
   "source": [
    "tokens_to_review(o1, i2w)"
   ]
  },
  {
   "cell_type": "code",
   "execution_count": null,
   "id": "d1dad1f0",
   "metadata": {},
   "outputs": [],
   "source": [
    "np_prices[:10]"
   ]
  },
  {
   "cell_type": "code",
   "execution_count": null,
   "id": "950ec7b5",
   "metadata": {},
   "outputs": [],
   "source": []
  },
  {
   "cell_type": "code",
   "execution_count": null,
   "id": "db97e2b0",
   "metadata": {},
   "outputs": [],
   "source": [
    "# TODO: plot histogram of review lenghts\n",
    "lst_obs = None\n",
    "lens = None\n",
    "plt.hist(lens, bins=None)"
   ]
  },
  {
   "cell_type": "code",
   "execution_count": null,
   "id": "6acc28dd",
   "metadata": {},
   "outputs": [],
   "source": [
    "new_review = 'Am fost la un restarant la care am mancat sushi'\n",
    "new_review_tokens = review_to_tokens(new_review, w2i)\n",
    "new_review_tokens"
   ]
  },
  {
   "cell_type": "code",
   "execution_count": null,
   "id": "9ee5822b",
   "metadata": {},
   "outputs": [],
   "source": [
    "tokens_to_review(new_review_tokens, i2w)"
   ]
  },
  {
   "cell_type": "code",
   "execution_count": null,
   "id": "4172a7f6",
   "metadata": {
    "scrolled": false
   },
   "outputs": [],
   "source": [
    "X = [review_to_tokens(x, w2i) for x in reviews]\n",
    "# TODO: see how many \"types\" of review in terms of size"
   ]
  },
  {
   "cell_type": "code",
   "execution_count": null,
   "id": "9756e5f3",
   "metadata": {},
   "outputs": [],
   "source": [
    "np_X = np.array(X)\n",
    "np_X.shape"
   ]
  },
  {
   "cell_type": "code",
   "execution_count": null,
   "id": "421a3270",
   "metadata": {},
   "outputs": [],
   "source": [
    "np.set_printoptions(precision=5, suppress=True, linewidth=500)\n",
    "np_X[:5, :15]"
   ]
  },
  {
   "cell_type": "code",
   "execution_count": null,
   "id": "1f6142a7",
   "metadata": {},
   "outputs": [],
   "source": [
    "np_y = np_prices\n",
    "np_y"
   ]
  },
  {
   "cell_type": "code",
   "execution_count": null,
   "id": "e8f5ce0d",
   "metadata": {},
   "outputs": [],
   "source": [
    "# TODO: prepare train/test\n",
    "from None import None as splitter\n",
    "x_trn, x_tst, y_trn, y_tst = splitter(np_X, np_y, test_size=0.2)"
   ]
  },
  {
   "cell_type": "code",
   "execution_count": null,
   "id": "294c3024",
   "metadata": {},
   "outputs": [],
   "source": [
    "x_trn.shape"
   ]
  },
  {
   "cell_type": "code",
   "execution_count": null,
   "id": "6fad1646",
   "metadata": {},
   "outputs": [],
   "source": [
    "x_tst.shape"
   ]
  },
  {
   "cell_type": "code",
   "execution_count": null,
   "id": "652956d5",
   "metadata": {},
   "outputs": [],
   "source": [
    "x_dev = x_tst[:20]\n",
    "y_dev = y_tst[:20]\n",
    "x_test = x_tst[20:]\n",
    "y_test = x_tst[20:]\n",
    "print(x_dev.shape)\n",
    "print(x_test.shape)"
   ]
  },
  {
   "cell_type": "code",
   "execution_count": null,
   "id": "47551b4b",
   "metadata": {},
   "outputs": [],
   "source": [
    "tf_inp = tf.keras.layers.Input((1000,), name='inputs')\n",
    "# TODO: project from vocab size to continous semantic space\n",
    "layer_emb = tf.keras.layers.Embedding(None, None, name='embeds')\n",
    "tf_emb = layer_emb(tf_inp)\n",
    "# TODO: flatten to one vector per obs\n",
    "tf_x = None\n",
    "# TODO: linear transform\n",
    "tf_x = None\n",
    "# TODO: activate\n",
    "tf_x = None\n",
    "# finally we have our regression output\n",
    "tf_out = tf.keras.layers.Dense(1)(tf_x)\n",
    "model = tf.keras.models.Model(tf_inp, tf_out)\n",
    "model.summary()"
   ]
  },
  {
   "cell_type": "code",
   "execution_count": null,
   "id": "53baf42a",
   "metadata": {},
   "outputs": [],
   "source": []
  },
  {
   "cell_type": "code",
   "execution_count": null,
   "id": "e0fb04b4",
   "metadata": {},
   "outputs": [],
   "source": []
  },
  {
   "cell_type": "code",
   "execution_count": null,
   "id": "2306c250",
   "metadata": {},
   "outputs": [],
   "source": []
  }
 ],
 "metadata": {
  "kernelspec": {
   "display_name": "Python 3 (ipykernel)",
   "language": "python",
   "name": "python3"
  },
  "language_info": {
   "codemirror_mode": {
    "name": "ipython",
    "version": 3
   },
   "file_extension": ".py",
   "mimetype": "text/x-python",
   "name": "python",
   "nbconvert_exporter": "python",
   "pygments_lexer": "ipython3",
   "version": "3.8.13"
  }
 },
 "nbformat": 4,
 "nbformat_minor": 5
}
